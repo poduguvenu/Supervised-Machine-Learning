{
  "nbformat": 4,
  "nbformat_minor": 0,
  "metadata": {
    "kernelspec": {
      "display_name": "Python 3",
      "language": "python",
      "name": "python3"
    },
    "language_info": {
      "codemirror_mode": {
        "name": "ipython",
        "version": 3
      },
      "file_extension": ".py",
      "mimetype": "text/x-python",
      "name": "python",
      "nbconvert_exporter": "python",
      "pygments_lexer": "ipython3",
      "version": "3.7.6"
    },
    "varInspector": {
      "cols": {
        "lenName": 16,
        "lenType": 16,
        "lenVar": 40
      },
      "kernels_config": {
        "python": {
          "delete_cmd_postfix": "",
          "delete_cmd_prefix": "del ",
          "library": "var_list.py",
          "varRefreshCmd": "print(var_dic_list())"
        },
        "r": {
          "delete_cmd_postfix": ") ",
          "delete_cmd_prefix": "rm(",
          "library": "var_list.r",
          "varRefreshCmd": "cat(var_dic_list()) "
        }
      },
      "types_to_exclude": [
        "module",
        "function",
        "builtin_function_or_method",
        "instance",
        "_Feature"
      ],
      "window_display": false
    },
    "colab": {
      "name": "DEMO_Cross_Validation.ipynb",
      "provenance": [],
      "include_colab_link": true
    }
  },
  "cells": [
    {
      "cell_type": "markdown",
      "metadata": {
        "id": "view-in-github",
        "colab_type": "text"
      },
      "source": [
        "<a href=\"https://colab.research.google.com/github/poduguvenu/Supervised-Machine-Learning/blob/main/DEMO_Cross_Validation.ipynb\" target=\"_parent\"><img src=\"https://colab.research.google.com/assets/colab-badge.svg\" alt=\"Open In Colab\"/></a>"
      ]
    },
    {
      "cell_type": "markdown",
      "metadata": {
        "id": "dlKp9A9e2CeK"
      },
      "source": [
        "# Machine Learning Foundation\n",
        "\n",
        "## Cross Validation "
      ]
    },
    {
      "cell_type": "markdown",
      "metadata": {
        "id": "nGX0sH1z2CeO"
      },
      "source": [
        "## Learning objectives\n",
        "\n",
        "By the end of this lesson, you will be able to:\n",
        "\n",
        "* Chain multiple data processing steps together using `Pipeline`\n",
        "* Use the `KFolds` object to split data into multiple folds.\n",
        "* Perform cross validation using SciKit Learn with `cross_val_predict` and `GridSearchCV`\n"
      ]
    },
    {
      "cell_type": "code",
      "metadata": {
        "ExecuteTime": {
          "end_time": "2019-02-19T17:20:55.865735Z",
          "start_time": "2019-02-19T17:20:54.685698Z"
        },
        "id": "Wr3KCR9x2CeQ"
      },
      "source": [
        "import numpy as np\n",
        "import pickle\n",
        "import pandas as pd\n",
        "import matplotlib.pyplot as plt\n",
        "\n",
        "from sklearn.preprocessing import StandardScaler, PolynomialFeatures\n",
        "from sklearn.model_selection import KFold, cross_val_predict\n",
        "from sklearn.linear_model import LinearRegression, Lasso, Ridge\n",
        "from sklearn.metrics import r2_score\n",
        "from sklearn.pipeline import Pipeline"
      ],
      "execution_count": 2,
      "outputs": []
    },
    {
      "cell_type": "code",
      "metadata": {
        "ExecuteTime": {
          "end_time": "2019-02-19T17:20:58.445911Z",
          "start_time": "2019-02-19T17:20:58.440191Z"
        },
        "id": "gJbWZf_W2CeS"
      },
      "source": [
        "# Note we are loading a slightly different (\"cleaned\") pickle file\n",
        "boston = pickle.load(open('boston_housing_clean.pickle', \"rb\" ))"
      ],
      "execution_count": 3,
      "outputs": []
    },
    {
      "cell_type": "code",
      "metadata": {
        "ExecuteTime": {
          "end_time": "2019-02-19T17:21:01.676948Z",
          "start_time": "2019-02-19T17:21:01.671315Z"
        },
        "colab": {
          "base_uri": "https://localhost:8080/"
        },
        "id": "EtawE2WI2CeT",
        "outputId": "37dc065f-119c-4ade-86c5-e76b1b1f3fb4"
      },
      "source": [
        "boston.keys()"
      ],
      "execution_count": 4,
      "outputs": [
        {
          "output_type": "execute_result",
          "data": {
            "text/plain": [
              "dict_keys(['dataframe', 'description'])"
            ]
          },
          "metadata": {},
          "execution_count": 4
        }
      ]
    },
    {
      "cell_type": "code",
      "metadata": {
        "colab": {
          "base_uri": "https://localhost:8080/"
        },
        "id": "_0Yw0ZiY3_17",
        "outputId": "bc3affd2-d652-47c7-ea09-c5c9ec0e544a"
      },
      "source": [
        "boston.items()"
      ],
      "execution_count": 5,
      "outputs": [
        {
          "output_type": "execute_result",
          "data": {
            "text/plain": [
              "dict_items([('dataframe',         CRIM    ZN  INDUS  CHAS    NOX  ...    TAX  PTRATIO       B  LSTAT  MEDV\n",
              "0    0.00632  18.0   2.31   0.0  0.538  ...  296.0     15.3  396.90   4.98  24.0\n",
              "1    0.02731   0.0   7.07   0.0  0.469  ...  242.0     17.8  396.90   9.14  21.6\n",
              "2    0.02729   0.0   7.07   0.0  0.469  ...  242.0     17.8  392.83   4.03  34.7\n",
              "3    0.03237   0.0   2.18   0.0  0.458  ...  222.0     18.7  394.63   2.94  33.4\n",
              "4    0.06905   0.0   2.18   0.0  0.458  ...  222.0     18.7  396.90   5.33  36.2\n",
              "..       ...   ...    ...   ...    ...  ...    ...      ...     ...    ...   ...\n",
              "501  0.06263   0.0  11.93   0.0  0.573  ...  273.0     21.0  391.99   9.67  22.4\n",
              "502  0.04527   0.0  11.93   0.0  0.573  ...  273.0     21.0  396.90   9.08  20.6\n",
              "503  0.06076   0.0  11.93   0.0  0.573  ...  273.0     21.0  396.90   5.64  23.9\n",
              "504  0.10959   0.0  11.93   0.0  0.573  ...  273.0     21.0  393.45   6.48  22.0\n",
              "505  0.04741   0.0  11.93   0.0  0.573  ...  273.0     21.0  396.90   7.88  11.9\n",
              "\n",
              "[506 rows x 14 columns]), ('description', \"Boston House Prices dataset\\n===========================\\n\\nNotes\\n------\\nData Set Characteristics:  \\n\\n    :Number of Instances: 506 \\n\\n    :Number of Attributes: 13 numeric/categorical predictive\\n    \\n    :Median Value (attribute 14) is usually the target\\n\\n    :Attribute Information (in order):\\n        - CRIM     per capita crime rate by town\\n        - ZN       proportion of residential land zoned for lots over 25,000 sq.ft.\\n        - INDUS    proportion of non-retail business acres per town\\n        - CHAS     Charles River dummy variable (= 1 if tract bounds river; 0 otherwise)\\n        - NOX      nitric oxides concentration (parts per 10 million)\\n        - RM       average number of rooms per dwelling\\n        - AGE      proportion of owner-occupied units built prior to 1940\\n        - DIS      weighted distances to five Boston employment centres\\n        - RAD      index of accessibility to radial highways\\n        - TAX      full-value property-tax rate per $10,000\\n        - PTRATIO  pupil-teacher ratio by town\\n        - B        1000(Bk - 0.63)^2 where Bk is the proportion of blacks by town\\n        - LSTAT    % lower status of the population\\n        - MEDV     Median value of owner-occupied homes in $1000's\\n\\n    :Missing Attribute Values: None\\n\\n    :Creator: Harrison, D. and Rubinfeld, D.L.\\n\\nThis is a copy of UCI ML housing dataset.\\nhttp://archive.ics.uci.edu/ml/datasets/Housing\\n\\n\\nThis dataset was taken from the StatLib library which is maintained at Carnegie Mellon University.\\n\\nThe Boston house-price data of Harrison, D. and Rubinfeld, D.L. 'Hedonic\\nprices and the demand for clean air', J. Environ. Economics & Management,\\nvol.5, 81-102, 1978.   Used in Belsley, Kuh & Welsch, 'Regression diagnostics\\n...', Wiley, 1980.   N.B. Various transformations are used in the table on\\npages 244-261 of the latter.\\n\\nThe Boston house-price data has been used in many machine learning papers that address regression\\nproblems.   \\n     \\n**References**\\n\\n   - Belsley, Kuh & Welsch, 'Regression diagnostics: Identifying Influential Data and Sources of Collinearity', Wiley, 1980. 244-261.\\n   - Quinlan,R. (1993). Combining Instance-Based and Model-Based Learning. In Proceedings on the Tenth International Conference of Machine Learning, 236-243, University of Massachusetts, Amherst. Morgan Kaufmann.\\n   - many more! (see http://archive.ics.uci.edu/ml/datasets/Housing)\\n\")])"
            ]
          },
          "metadata": {},
          "execution_count": 5
        }
      ]
    },
    {
      "cell_type": "code",
      "metadata": {
        "ExecuteTime": {
          "end_time": "2019-02-19T17:21:10.682135Z",
          "start_time": "2019-02-19T17:21:10.678835Z"
        },
        "id": "9kiBiF3V2CeU"
      },
      "source": [
        "boston_data = boston['dataframe']\n",
        "boston_description = boston['description']"
      ],
      "execution_count": 6,
      "outputs": []
    },
    {
      "cell_type": "code",
      "metadata": {
        "ExecuteTime": {
          "end_time": "2019-02-19T17:22:10.274974Z",
          "start_time": "2019-02-19T17:22:10.256879Z"
        },
        "colab": {
          "base_uri": "https://localhost:8080/",
          "height": 200
        },
        "id": "Z2jurbWG2CeW",
        "outputId": "0ee80a61-a240-4441-a17b-033d22277696"
      },
      "source": [
        "boston_data.head()"
      ],
      "execution_count": 7,
      "outputs": [
        {
          "output_type": "execute_result",
          "data": {
            "text/html": [
              "<div>\n",
              "<style scoped>\n",
              "    .dataframe tbody tr th:only-of-type {\n",
              "        vertical-align: middle;\n",
              "    }\n",
              "\n",
              "    .dataframe tbody tr th {\n",
              "        vertical-align: top;\n",
              "    }\n",
              "\n",
              "    .dataframe thead th {\n",
              "        text-align: right;\n",
              "    }\n",
              "</style>\n",
              "<table border=\"1\" class=\"dataframe\">\n",
              "  <thead>\n",
              "    <tr style=\"text-align: right;\">\n",
              "      <th></th>\n",
              "      <th>CRIM</th>\n",
              "      <th>ZN</th>\n",
              "      <th>INDUS</th>\n",
              "      <th>CHAS</th>\n",
              "      <th>NOX</th>\n",
              "      <th>RM</th>\n",
              "      <th>AGE</th>\n",
              "      <th>DIS</th>\n",
              "      <th>RAD</th>\n",
              "      <th>TAX</th>\n",
              "      <th>PTRATIO</th>\n",
              "      <th>B</th>\n",
              "      <th>LSTAT</th>\n",
              "      <th>MEDV</th>\n",
              "    </tr>\n",
              "  </thead>\n",
              "  <tbody>\n",
              "    <tr>\n",
              "      <th>0</th>\n",
              "      <td>0.00632</td>\n",
              "      <td>18.0</td>\n",
              "      <td>2.31</td>\n",
              "      <td>0.0</td>\n",
              "      <td>0.538</td>\n",
              "      <td>6.575</td>\n",
              "      <td>65.2</td>\n",
              "      <td>4.0900</td>\n",
              "      <td>1.0</td>\n",
              "      <td>296.0</td>\n",
              "      <td>15.3</td>\n",
              "      <td>396.90</td>\n",
              "      <td>4.98</td>\n",
              "      <td>24.0</td>\n",
              "    </tr>\n",
              "    <tr>\n",
              "      <th>1</th>\n",
              "      <td>0.02731</td>\n",
              "      <td>0.0</td>\n",
              "      <td>7.07</td>\n",
              "      <td>0.0</td>\n",
              "      <td>0.469</td>\n",
              "      <td>6.421</td>\n",
              "      <td>78.9</td>\n",
              "      <td>4.9671</td>\n",
              "      <td>2.0</td>\n",
              "      <td>242.0</td>\n",
              "      <td>17.8</td>\n",
              "      <td>396.90</td>\n",
              "      <td>9.14</td>\n",
              "      <td>21.6</td>\n",
              "    </tr>\n",
              "    <tr>\n",
              "      <th>2</th>\n",
              "      <td>0.02729</td>\n",
              "      <td>0.0</td>\n",
              "      <td>7.07</td>\n",
              "      <td>0.0</td>\n",
              "      <td>0.469</td>\n",
              "      <td>7.185</td>\n",
              "      <td>61.1</td>\n",
              "      <td>4.9671</td>\n",
              "      <td>2.0</td>\n",
              "      <td>242.0</td>\n",
              "      <td>17.8</td>\n",
              "      <td>392.83</td>\n",
              "      <td>4.03</td>\n",
              "      <td>34.7</td>\n",
              "    </tr>\n",
              "    <tr>\n",
              "      <th>3</th>\n",
              "      <td>0.03237</td>\n",
              "      <td>0.0</td>\n",
              "      <td>2.18</td>\n",
              "      <td>0.0</td>\n",
              "      <td>0.458</td>\n",
              "      <td>6.998</td>\n",
              "      <td>45.8</td>\n",
              "      <td>6.0622</td>\n",
              "      <td>3.0</td>\n",
              "      <td>222.0</td>\n",
              "      <td>18.7</td>\n",
              "      <td>394.63</td>\n",
              "      <td>2.94</td>\n",
              "      <td>33.4</td>\n",
              "    </tr>\n",
              "    <tr>\n",
              "      <th>4</th>\n",
              "      <td>0.06905</td>\n",
              "      <td>0.0</td>\n",
              "      <td>2.18</td>\n",
              "      <td>0.0</td>\n",
              "      <td>0.458</td>\n",
              "      <td>7.147</td>\n",
              "      <td>54.2</td>\n",
              "      <td>6.0622</td>\n",
              "      <td>3.0</td>\n",
              "      <td>222.0</td>\n",
              "      <td>18.7</td>\n",
              "      <td>396.90</td>\n",
              "      <td>5.33</td>\n",
              "      <td>36.2</td>\n",
              "    </tr>\n",
              "  </tbody>\n",
              "</table>\n",
              "</div>"
            ],
            "text/plain": [
              "      CRIM    ZN  INDUS  CHAS    NOX  ...    TAX  PTRATIO       B  LSTAT  MEDV\n",
              "0  0.00632  18.0   2.31   0.0  0.538  ...  296.0     15.3  396.90   4.98  24.0\n",
              "1  0.02731   0.0   7.07   0.0  0.469  ...  242.0     17.8  396.90   9.14  21.6\n",
              "2  0.02729   0.0   7.07   0.0  0.469  ...  242.0     17.8  392.83   4.03  34.7\n",
              "3  0.03237   0.0   2.18   0.0  0.458  ...  222.0     18.7  394.63   2.94  33.4\n",
              "4  0.06905   0.0   2.18   0.0  0.458  ...  222.0     18.7  396.90   5.33  36.2\n",
              "\n",
              "[5 rows x 14 columns]"
            ]
          },
          "metadata": {},
          "execution_count": 7
        }
      ]
    },
    {
      "cell_type": "markdown",
      "metadata": {
        "id": "QUx1Qbxm2CeW"
      },
      "source": [
        "### Discussion: \n",
        "\n",
        "Suppose we want to do Linear Regression on our dataset to get an estimate, based on mean squared error, of how well our model will perform on data outside our dataset. \n",
        "\n",
        "Suppose also that our data is split into three folds: Fold 1, Fold 2, and Fold 3.\n",
        "\n",
        "What would the steps be, in English, to do this?"
      ]
    },
    {
      "cell_type": "markdown",
      "metadata": {
        "id": "SAgBeBL-2CeX"
      },
      "source": [
        "**Your response below**"
      ]
    },
    {
      "cell_type": "markdown",
      "metadata": {
        "id": "x5RNSK6q2CeY"
      },
      "source": [
        " "
      ]
    },
    {
      "cell_type": "markdown",
      "metadata": {
        "id": "NaKltP0C2CeY"
      },
      "source": [
        "#### Coding this up\n",
        "\n",
        "The [`KFold`](http://scikit-learn.org/stable/modules/generated/sklearn.model_selection.KFold.html) object in SciKit Learn tells the cross validation object (see below) how to split up the data:"
      ]
    },
    {
      "cell_type": "code",
      "metadata": {
        "ExecuteTime": {
          "end_time": "2019-02-19T17:23:05.068445Z",
          "start_time": "2019-02-19T17:23:05.064683Z"
        },
        "id": "NTY-czBO2CeZ"
      },
      "source": [
        "X = boston_data.drop('MEDV', axis=1)\n",
        "y = boston_data.MEDV"
      ],
      "execution_count": 8,
      "outputs": []
    },
    {
      "cell_type": "code",
      "metadata": {
        "ExecuteTime": {
          "end_time": "2019-02-19T17:23:10.538982Z",
          "start_time": "2019-02-19T17:23:10.534325Z"
        },
        "id": "ixLhdZSm2CeZ"
      },
      "source": [
        "kf = KFold(shuffle=True, random_state=72018, n_splits=3)"
      ],
      "execution_count": 9,
      "outputs": []
    },
    {
      "cell_type": "code",
      "metadata": {
        "ExecuteTime": {
          "end_time": "2019-02-19T17:25:04.578536Z",
          "start_time": "2019-02-19T17:25:04.568959Z"
        },
        "scrolled": true,
        "colab": {
          "base_uri": "https://localhost:8080/"
        },
        "id": "OlF3JBLL2Cea",
        "outputId": "afdf5170-da69-4f9e-dbac-b40c1e526623"
      },
      "source": [
        "for train_index, test_index in kf.split(X):\n",
        "    print(\"Train index:\", train_index[:10], len(train_index))\n",
        "    print(\"Test index:\",test_index[:10], len(test_index))\n",
        "    print('')"
      ],
      "execution_count": 10,
      "outputs": [
        {
          "output_type": "stream",
          "name": "stdout",
          "text": [
            "Train index: [ 1  3  4  5  7  8 10 11 12 13] 337\n",
            "Test index: [ 0  2  6  9 15 17 19 23 25 26] 169\n",
            "\n",
            "Train index: [ 0  2  6  9 10 11 12 13 15 17] 337\n",
            "Test index: [ 1  3  4  5  7  8 14 16 22 27] 169\n",
            "\n",
            "Train index: [0 1 2 3 4 5 6 7 8 9] 338\n",
            "Test index: [10 11 12 13 18 20 21 24 28 31] 168\n",
            "\n"
          ]
        }
      ]
    },
    {
      "cell_type": "code",
      "metadata": {
        "ExecuteTime": {
          "end_time": "2019-02-19T17:28:10.441616Z",
          "start_time": "2019-02-19T17:28:10.204857Z"
        },
        "colab": {
          "base_uri": "https://localhost:8080/"
        },
        "id": "V8xlzeo82Cea",
        "outputId": "2be085eb-2d21-4e2d-e6bd-176e10e3be43"
      },
      "source": [
        "#from sklearn.metrics import r2_score, mean_squared_error\n",
        "\n",
        "scores = []\n",
        "lr = LinearRegression()\n",
        "\n",
        "for train_index, test_index in kf.split(X):\n",
        "    X_train, X_test, y_train, y_test = (X.iloc[train_index, :], \n",
        "                                        X.iloc[test_index, :], \n",
        "                                        y[train_index], \n",
        "                                        y[test_index])\n",
        "    \n",
        "    lr.fit(X_train, y_train)\n",
        "        \n",
        "    y_pred = lr.predict(X_test)\n",
        "\n",
        "    score = r2_score(y_test.values, y_pred)\n",
        "    \n",
        "    scores.append(score)\n",
        "    \n",
        "scores"
      ],
      "execution_count": 11,
      "outputs": [
        {
          "output_type": "execute_result",
          "data": {
            "text/plain": [
              "[0.6719348798472724, 0.7485020059212374, 0.6976807323597793]"
            ]
          },
          "metadata": {},
          "execution_count": 11
        }
      ]
    },
    {
      "cell_type": "markdown",
      "metadata": {
        "id": "yDeECe-V2Cea"
      },
      "source": [
        "A bit cumbersome, but do-able."
      ]
    },
    {
      "cell_type": "markdown",
      "metadata": {
        "id": "grUajpxO2Ceb"
      },
      "source": [
        "### Discussion (Part 2): \n",
        "\n",
        "Now suppose we want to do the same, but appropriately scaling our data as we go through the folds.\n",
        "\n",
        "What would the steps be _now_?"
      ]
    },
    {
      "cell_type": "markdown",
      "metadata": {
        "id": "FtTMPBle2Ceb"
      },
      "source": [
        "**Your response below**"
      ]
    },
    {
      "cell_type": "markdown",
      "metadata": {
        "id": "u5Wx2UWI2Ceb"
      },
      "source": [
        "### Coding this up"
      ]
    },
    {
      "cell_type": "code",
      "metadata": {
        "ExecuteTime": {
          "end_time": "2019-02-19T17:32:07.846336Z",
          "start_time": "2019-02-19T17:32:07.808810Z"
        },
        "id": "DqvIcw8x2Cec"
      },
      "source": [
        "scores = []\n",
        "\n",
        "lr = LinearRegression()\n",
        "s = StandardScaler()\n",
        "\n",
        "for train_index, test_index in kf.split(X):\n",
        "    X_train, X_test, y_train, y_test = (X.iloc[train_index, :], \n",
        "                                        X.iloc[test_index, :], \n",
        "                                        y[train_index], \n",
        "                                        y[test_index])\n",
        "    \n",
        "    X_train_s = s.fit_transform(X_train)\n",
        "    \n",
        "    lr.fit(X_train_s, y_train)\n",
        "    \n",
        "    X_test_s = s.transform(X_test)\n",
        "    \n",
        "    y_pred = lr.predict(X_test_s)\n",
        "\n",
        "    score = r2_score(y_test.values, y_pred)\n",
        "    \n",
        "    scores.append(score)"
      ],
      "execution_count": 12,
      "outputs": []
    },
    {
      "cell_type": "code",
      "metadata": {
        "ExecuteTime": {
          "end_time": "2019-02-19T17:32:09.978972Z",
          "start_time": "2019-02-19T17:32:09.974341Z"
        },
        "colab": {
          "base_uri": "https://localhost:8080/"
        },
        "id": "NKV6s1Cb2Ced",
        "outputId": "482fc884-a0bf-4cee-b699-d5bb8a30eaf1"
      },
      "source": [
        "scores"
      ],
      "execution_count": 13,
      "outputs": [
        {
          "output_type": "execute_result",
          "data": {
            "text/plain": [
              "[0.6719348798472715, 0.7485020059212382, 0.6976807323597745]"
            ]
          },
          "metadata": {},
          "execution_count": 13
        }
      ]
    },
    {
      "cell_type": "markdown",
      "metadata": {
        "id": "CD-iIIfB2Ced"
      },
      "source": [
        "(same scores, because for vanilla linear regression with no regularization, scaling actually doesn't matter for performance)"
      ]
    },
    {
      "cell_type": "markdown",
      "metadata": {
        "id": "18gWeGTi2Cee"
      },
      "source": [
        "This is getting quite cumbersome! \n",
        "\n",
        "_Very_ luckily, SciKit Learn has some wonderful functions that handle a lot of this for us."
      ]
    },
    {
      "cell_type": "markdown",
      "metadata": {
        "id": "sA5HBR0d2Cee"
      },
      "source": [
        "### `Pipeline` and `cross_val_predict`"
      ]
    },
    {
      "cell_type": "markdown",
      "metadata": {
        "id": "C3j27L7_2Cef"
      },
      "source": [
        "`Pipeline` lets you chain together multiple operators on your data that both have a `fit` method."
      ]
    },
    {
      "cell_type": "code",
      "metadata": {
        "ExecuteTime": {
          "end_time": "2019-02-19T17:33:28.695381Z",
          "start_time": "2019-02-19T17:33:28.691865Z"
        },
        "id": "HceK-0eW2Cef"
      },
      "source": [
        "s = StandardScaler()\n",
        "lr = LinearRegression()"
      ],
      "execution_count": 14,
      "outputs": []
    },
    {
      "cell_type": "markdown",
      "metadata": {
        "id": "eh_GGfTi2Cef"
      },
      "source": [
        "### Combine multiple processing steps into a `Pipeline`\n",
        "\n",
        "A pipeline contains a series of steps, where a step is (\"name of step\", actual_model). The \"name of step\" string is only used to help you identify which step you are on, and to allow you to specify parameters at that step.  "
      ]
    },
    {
      "cell_type": "code",
      "metadata": {
        "ExecuteTime": {
          "end_time": "2019-02-19T17:33:32.657281Z",
          "start_time": "2019-02-19T17:33:32.653852Z"
        },
        "id": "8PqX69Qp2Cef"
      },
      "source": [
        "estimator = Pipeline([(\"scaler\", s),\n",
        "                      (\"regression\", lr)])"
      ],
      "execution_count": 16,
      "outputs": []
    },
    {
      "cell_type": "code",
      "metadata": {
        "colab": {
          "base_uri": "https://localhost:8080/"
        },
        "id": "2R2Na8_g7oam",
        "outputId": "5b10c891-7845-40fa-bbd7-3af39f0af90c"
      },
      "source": [
        "estimator.fit(X_train, y_train)"
      ],
      "execution_count": 17,
      "outputs": [
        {
          "output_type": "execute_result",
          "data": {
            "text/plain": [
              "Pipeline(memory=None,\n",
              "         steps=[('scaler',\n",
              "                 StandardScaler(copy=True, with_mean=True, with_std=True)),\n",
              "                ('regression',\n",
              "                 LinearRegression(copy_X=True, fit_intercept=True, n_jobs=None,\n",
              "                                  normalize=False))],\n",
              "         verbose=False)"
            ]
          },
          "metadata": {},
          "execution_count": 17
        }
      ]
    },
    {
      "cell_type": "code",
      "metadata": {
        "colab": {
          "base_uri": "https://localhost:8080/"
        },
        "id": "kd8npmlL7uoA",
        "outputId": "7d268ad9-cb9b-4635-e7bd-35acd0a5eb7d"
      },
      "source": [
        "estimator.predict(X_test)"
      ],
      "execution_count": 18,
      "outputs": [
        {
          "output_type": "execute_result",
          "data": {
            "text/plain": [
              "array([19.44230308, 22.8687781 , 20.72201438, 20.19685225, 16.02553328,\n",
              "       13.19670707, 18.48717304, 16.41260539, 20.08040483, 19.16027923,\n",
              "       23.03341265, 23.52809897, 24.64808538, 23.84554003, 22.37992895,\n",
              "       18.54423788,  9.23453025, 24.86310535, 27.35965358, 29.95093715,\n",
              "       21.71928179, 18.63649236, 19.67735609, 29.98064881, 20.78659698,\n",
              "       17.29484103, 20.88767674, 23.59352298, 23.01287114, 24.82516061,\n",
              "       28.1550891 , 26.59019417, 28.40170962, 28.61954803, 28.99730977,\n",
              "       25.46130359, 20.83346878, 21.39384122, 21.12590183, 24.80991192,\n",
              "       22.64896843, 20.63582629, 20.04498128, 20.28679691, 16.04272023,\n",
              "       15.75494076, 12.78067624, 11.43558055, 21.98898014, 23.31730716,\n",
              "       24.28692882, 21.28789025, 14.88646576, 31.00959189, 35.37282463,\n",
              "       37.57270926, 23.58942636, 24.75302163, 30.63215847, 34.85770942,\n",
              "       32.94090699, 30.0536187 , 39.86200512, 29.05010705, 35.53401305,\n",
              "       41.89294309, 23.54417467, 23.61752172,  8.51966664, 24.3803473 ,\n",
              "       31.93213161, 35.04907462, 33.74198666, 30.95975523, 38.16572411,\n",
              "       34.04572219, 25.50003895, 26.9008276 , 26.81331202, 17.52450192,\n",
              "       23.0561211 , 23.35940105, 27.41662679, 37.95283941, 35.39695531,\n",
              "       37.15560829, 30.16078745, 31.7987809 , 22.17460829, 36.87065984,\n",
              "       29.95618041, 35.45099005, 38.96516444, 19.04113986, 27.03723525,\n",
              "       33.28276705, 19.71614458, 30.7356145 , 35.74753519, 33.31789906,\n",
              "       29.82085216, 19.17675208, 26.73030054, 18.85119288, 25.10080811,\n",
              "       25.2310572 , 23.35918589, 20.55011533, 23.44439899, 21.43873939,\n",
              "       22.28755319, 21.55265486, 22.1886005 , 30.13309578, 27.73873544,\n",
              "       27.83343144, 21.22476747, 20.29426743, 16.43151094, 24.1989263 ,\n",
              "       23.86222031, 20.4568203 , 22.28180574, 36.99716281,  6.35326377,\n",
              "       25.54462242, 15.91166325, 14.2172422 ,  8.43052398, 21.03393529,\n",
              "       19.10628664, 19.46324302, 12.20521866, 18.2420435 , 18.49378935,\n",
              "       21.90422664, 13.82169579, 19.42918743,  8.44262399,  7.195685  ,\n",
              "       20.36534151, 19.00376186, 17.79256504, 17.87715422, 21.34551178,\n",
              "        8.19204123,  3.32788461, 11.70535034, 11.96121376, 18.89797015,\n",
              "       22.06307051, 14.60280556, 23.32232899, 14.26431606, 20.57202772,\n",
              "       19.80582497, 27.50273944, 19.08219115, 21.53979588, 13.11731152,\n",
              "       15.37086566, 20.96805073, 20.21749107, 19.62802415, 21.55434999,\n",
              "       20.98843917, 23.32746873, 26.67017418])"
            ]
          },
          "metadata": {},
          "execution_count": 18
        }
      ]
    },
    {
      "cell_type": "markdown",
      "metadata": {
        "id": "q0oaouFe2Ceg"
      },
      "source": [
        "### `cross_val_predict`\n",
        "\n",
        "[`cross_val_predict`](http://scikit-learn.org/stable/modules/generated/sklearn.model_selection.cross_val_predict.html) is a function that does K-fold cross validation for us, appropriately fitting and transforming at every step of the way."
      ]
    },
    {
      "cell_type": "code",
      "metadata": {
        "colab": {
          "base_uri": "https://localhost:8080/"
        },
        "id": "Fx91vwMb2Ceg",
        "outputId": "410f22a9-ce96-4977-ac34-73f703d1348f"
      },
      "source": [
        "kf"
      ],
      "execution_count": 20,
      "outputs": [
        {
          "output_type": "execute_result",
          "data": {
            "text/plain": [
              "KFold(n_splits=3, random_state=72018, shuffle=True)"
            ]
          },
          "metadata": {},
          "execution_count": 20
        }
      ]
    },
    {
      "cell_type": "code",
      "metadata": {
        "ExecuteTime": {
          "end_time": "2019-02-19T17:35:55.255356Z",
          "start_time": "2019-02-19T17:35:55.240376Z"
        },
        "id": "CZvakcfA2Ceg"
      },
      "source": [
        "predictions = cross_val_predict(estimator, X, y, cv=kf)"
      ],
      "execution_count": 21,
      "outputs": []
    },
    {
      "cell_type": "code",
      "metadata": {
        "colab": {
          "base_uri": "https://localhost:8080/"
        },
        "id": "jHpXBfIAEjF5",
        "outputId": "6fe94e30-c5b4-4448-a673-f1ef0791d9c8"
      },
      "source": [
        "len(predictions)"
      ],
      "execution_count": 23,
      "outputs": [
        {
          "output_type": "execute_result",
          "data": {
            "text/plain": [
              "506"
            ]
          },
          "metadata": {},
          "execution_count": 23
        }
      ]
    },
    {
      "cell_type": "code",
      "metadata": {
        "ExecuteTime": {
          "end_time": "2019-02-19T17:36:03.801732Z",
          "start_time": "2019-02-19T17:36:03.796646Z"
        },
        "scrolled": true,
        "colab": {
          "base_uri": "https://localhost:8080/"
        },
        "id": "htdyzOwO2Ceg",
        "outputId": "8773eb87-efd4-4734-bb47-e854e6e825dd"
      },
      "source": [
        "r2_score(y, predictions)"
      ],
      "execution_count": 22,
      "outputs": [
        {
          "output_type": "execute_result",
          "data": {
            "text/plain": [
              "0.706353106416156"
            ]
          },
          "metadata": {},
          "execution_count": 22
        }
      ]
    },
    {
      "cell_type": "code",
      "metadata": {
        "ExecuteTime": {
          "end_time": "2019-02-19T17:36:19.831481Z",
          "start_time": "2019-02-19T17:36:19.827131Z"
        },
        "colab": {
          "base_uri": "https://localhost:8080/"
        },
        "id": "ve_BKH-42Ceg",
        "outputId": "82aaa093-2927-4cd5-d96c-651032579dde"
      },
      "source": [
        "np.mean(scores) # almost identical!"
      ],
      "execution_count": 24,
      "outputs": [
        {
          "output_type": "execute_result",
          "data": {
            "text/plain": [
              "0.7060392060427615"
            ]
          },
          "metadata": {},
          "execution_count": 24
        }
      ]
    },
    {
      "cell_type": "markdown",
      "metadata": {
        "id": "NUgWrceI2Ceg"
      },
      "source": [
        "Note that `cross_val_predict` doesn't use the same model for all steps; the predictions for each row are made when that row is in the validation set. We really have the collected results of 3 (i.e. `kf.num_splits`) different models. \n",
        "\n",
        "When we are done, `estimator` is still not fitted. If we want to predict on _new_ data, we still have to train our `estimator`. "
      ]
    },
    {
      "cell_type": "markdown",
      "metadata": {
        "id": "1PkBjp8M2Ceg"
      },
      "source": [
        "## Hyperparameter tuning"
      ]
    },
    {
      "cell_type": "markdown",
      "metadata": {
        "id": "ZTxXJ_2N2Ceh"
      },
      "source": [
        "### Definition\n",
        "\n",
        "**Hyperparameter tuning** involves using cross validation (or train-test split) to determine which hyperparameters are most likely to generate a model that _generalizes_ well outside of your sample.\n",
        "\n",
        "### Mechanics\n",
        "\n",
        "We can generate an exponentially spaces range of values using the numpy [`geomspace`](https://docs.scipy.org/doc/numpy/reference/generated/numpy.geomspace.html#numpy.geomspace) function.\n",
        "\n",
        "```python\n",
        "np.geomspace(1, 1000, num=4)\n",
        "```\n",
        "\n",
        "produces:\n",
        "\n",
        "```\n",
        "array([    1.,    10.,   100.,  1000.])\n",
        "```\n",
        "\n",
        "Use this function to generate a list of length 10 called `alphas` for hyperparameter tuning:"
      ]
    },
    {
      "cell_type": "code",
      "metadata": {
        "colab": {
          "base_uri": "https://localhost:8080/"
        },
        "id": "wsbfUeDvFsHX",
        "outputId": "5a6dd424-ace1-4c22-fa60-41d6c1cd0027"
      },
      "source": [
        "np.geomspace(1, 27, 4)"
      ],
      "execution_count": 25,
      "outputs": [
        {
          "output_type": "execute_result",
          "data": {
            "text/plain": [
              "array([ 1.,  3.,  9., 27.])"
            ]
          },
          "metadata": {},
          "execution_count": 25
        }
      ]
    },
    {
      "cell_type": "code",
      "metadata": {
        "ExecuteTime": {
          "end_time": "2019-02-19T17:40:36.220744Z",
          "start_time": "2019-02-19T17:40:36.214714Z"
        },
        "colab": {
          "base_uri": "https://localhost:8080/"
        },
        "id": "L8vjPEyl2Ceh",
        "outputId": "2483cce0-3262-4dc0-9b79-beb2d821a73b"
      },
      "source": [
        "alphas = np.geomspace(1e-9, 1e0, num=10)\n",
        "alphas"
      ],
      "execution_count": 26,
      "outputs": [
        {
          "output_type": "execute_result",
          "data": {
            "text/plain": [
              "array([1.e-09, 1.e-08, 1.e-07, 1.e-06, 1.e-05, 1.e-04, 1.e-03, 1.e-02,\n",
              "       1.e-01, 1.e+00])"
            ]
          },
          "metadata": {},
          "execution_count": 26
        }
      ]
    },
    {
      "cell_type": "markdown",
      "metadata": {
        "id": "o5nhwIz82Ceh"
      },
      "source": [
        "The code below tunes the `alpha` hyperparameter for Lasso regression."
      ]
    },
    {
      "cell_type": "code",
      "metadata": {
        "ExecuteTime": {
          "end_time": "2019-02-19T17:47:34.947390Z",
          "start_time": "2019-02-19T17:47:34.845011Z"
        },
        "id": "pEVdqFQL2Ceh"
      },
      "source": [
        "scores = []\n",
        "coefs = []\n",
        "for alpha in alphas:\n",
        "    las = Lasso(alpha=alpha, max_iter=100000)\n",
        "    \n",
        "    estimator = Pipeline([\n",
        "        (\"scaler\", s),\n",
        "        (\"lasso_regression\", las)])\n",
        "\n",
        "    predictions = cross_val_predict(estimator, X, y, cv = kf)\n",
        "    \n",
        "    score = r2_score(y, predictions)\n",
        "    \n",
        "    scores.append(score)"
      ],
      "execution_count": 27,
      "outputs": []
    },
    {
      "cell_type": "code",
      "metadata": {
        "ExecuteTime": {
          "end_time": "2019-02-19T17:47:35.397285Z",
          "start_time": "2019-02-19T17:47:35.390917Z"
        },
        "colab": {
          "base_uri": "https://localhost:8080/"
        },
        "id": "48brlwLg2Ceh",
        "outputId": "c6202500-7a59-4ee4-837b-97eabe2710ba"
      },
      "source": [
        "list(zip(alphas,scores))"
      ],
      "execution_count": 28,
      "outputs": [
        {
          "output_type": "execute_result",
          "data": {
            "text/plain": [
              "[(1e-09, 0.7063531064981925),\n",
              " (1e-08, 0.7063531072356071),\n",
              " (1e-07, 0.7063531145602442),\n",
              " (1e-06, 0.7063531882052063),\n",
              " (1e-05, 0.7063539165191507),\n",
              " (0.0001, 0.706361268093463),\n",
              " (0.001, 0.706433467041546),\n",
              " (0.01, 0.7070865958083233),\n",
              " (0.1, 0.705838151167185),\n",
              " (1.0, 0.6512724532884888)]"
            ]
          },
          "metadata": {},
          "execution_count": 28
        }
      ]
    },
    {
      "cell_type": "code",
      "metadata": {
        "ExecuteTime": {
          "end_time": "2019-02-19T17:48:16.943881Z",
          "start_time": "2019-02-19T17:48:16.937741Z"
        },
        "colab": {
          "base_uri": "https://localhost:8080/"
        },
        "id": "h1I5iaoJ2Cei",
        "outputId": "6b3dc27f-523e-4786-a029-6fb1ca6534ad"
      },
      "source": [
        "Lasso(alpha=1e-6).fit(X, y).coef_"
      ],
      "execution_count": 29,
      "outputs": [
        {
          "output_type": "execute_result",
          "data": {
            "text/plain": [
              "array([-1.07170372e-01,  4.63952623e-02,  2.08588308e-02,  2.68854318e+00,\n",
              "       -1.77954207e+01,  3.80475296e+00,  7.50802707e-04, -1.47575348e+00,\n",
              "        3.05654279e-01, -1.23293755e-02, -9.53459908e-01,  9.39253013e-03,\n",
              "       -5.25467196e-01])"
            ]
          },
          "metadata": {},
          "execution_count": 29
        }
      ]
    },
    {
      "cell_type": "code",
      "metadata": {
        "ExecuteTime": {
          "end_time": "2019-02-19T17:48:40.778026Z",
          "start_time": "2019-02-19T17:48:40.771732Z"
        },
        "colab": {
          "base_uri": "https://localhost:8080/"
        },
        "id": "WqImVI9o2Cei",
        "outputId": "f696c938-9a3f-4dad-9875-c71533d25451"
      },
      "source": [
        "Lasso(alpha=1.0).fit(X, y).coef_"
      ],
      "execution_count": 30,
      "outputs": [
        {
          "output_type": "execute_result",
          "data": {
            "text/plain": [
              "array([-0.06342255,  0.04916867, -0.        ,  0.        , -0.        ,\n",
              "        0.94678567,  0.02092737, -0.66900864,  0.26417501, -0.01520915,\n",
              "       -0.72319901,  0.00829117, -0.76143296])"
            ]
          },
          "metadata": {},
          "execution_count": 30
        }
      ]
    },
    {
      "cell_type": "code",
      "metadata": {
        "ExecuteTime": {
          "end_time": "2019-02-19T17:46:03.208768Z",
          "start_time": "2019-02-19T17:46:02.898338Z"
        },
        "colab": {
          "base_uri": "https://localhost:8080/",
          "height": 392
        },
        "id": "_qy3YT6-2Cei",
        "outputId": "89da0f97-1848-4d4f-b1d1-19c3926ba3da"
      },
      "source": [
        "plt.figure(figsize=(10,6))\n",
        "plt.semilogx(alphas, scores, '-o')\n",
        "plt.xlabel('$\\\\alpha$')\n",
        "plt.ylabel('$R^2$');"
      ],
      "execution_count": 31,
      "outputs": [
        {
          "output_type": "display_data",
          "data": {
            "image/png": "[encoded data removed]",
            "text/plain": [
              "<Figure size 720x432 with 1 Axes>"
            ]
          },
          "metadata": {
            "needs_background": "light"
          }
        }
      ]
    },
    {
      "cell_type": "markdown",
      "metadata": {
        "id": "HKJfrkKy2Cei"
      },
      "source": [
        "### Exercise\n",
        "\n",
        "Add `PolynomialFeatures` to this `Pipeline`, and re-run the cross validation with the `PolynomialFeatures` added.\n",
        "\n",
        "**Hint #1:** pipelines process input from first to last. Think about the order that it would make sense to add Polynomial Features to the data in sequence and add them in the appropriate place in the pipeline.\n",
        "\n",
        "**Hint #2:** you should see a significant increase in cross validation accuracy from doing this"
      ]
    },
    {
      "cell_type": "code",
      "metadata": {
        "ExecuteTime": {
          "end_time": "2019-02-19T17:56:02.883875Z",
          "start_time": "2019-02-19T17:56:00.477593Z"
        },
        "id": "n0TxwRRO2Cei"
      },
      "source": [
        "pf = PolynomialFeatures(degree=3)\n",
        "\n",
        "scores = []\n",
        "alphas = np.geomspace(0.06, 6.0, 20)\n",
        "for alpha in alphas:\n",
        "    las = Lasso(alpha=alpha, max_iter=100000)\n",
        "    \n",
        "    estimator = Pipeline([\n",
        "        (\"make_higher_degree\", pf),\n",
        "        (\"scaler\", s),\n",
        "        (\"lasso_regression\", las)])\n",
        "\n",
        "    predictions = cross_val_predict(estimator, X, y, cv = kf)\n",
        "    \n",
        "    score = r2_score(y, predictions)\n",
        "    \n",
        "    scores.append(score)\n",
        "    "
      ],
      "execution_count": 32,
      "outputs": []
    },
    {
      "cell_type": "code",
      "metadata": {
        "colab": {
          "base_uri": "https://localhost:8080/"
        },
        "id": "czmgFpb9JVY6",
        "outputId": "e028c162-b984-47b9-a07e-57430ab82489"
      },
      "source": [
        "pf = PolynomialFeatures(degree=3)\n",
        "\n",
        "scores = []\n",
        "alphas = np.geomspace(0.001, 10, 5)\n",
        "for alpha in alphas:\n",
        "    las = Lasso(alpha=alpha, max_iter=100000)\n",
        "    \n",
        "    estimator = Pipeline([\n",
        "        (\"make_higher_degree\", pf),\n",
        "        (\"scaler\", s),\n",
        "        (\"lasso_regression\", las)])\n",
        "\n",
        "    predictions = cross_val_predict(estimator, X, y, cv = kf)\n",
        "    \n",
        "    score = r2_score(y, predictions)\n",
        "    \n",
        "    scores.append(score)\n",
        "    "
      ],
      "execution_count": 36,
      "outputs": [
        {
          "output_type": "stream",
          "name": "stderr",
          "text": [
            "/usr/local/lib/python3.7/dist-packages/sklearn/linear_model/_coordinate_descent.py:476: ConvergenceWarning: Objective did not converge. You might want to increase the number of iterations. Duality gap: 40.838350315978914, tolerance: 2.73469821958457\n",
            "  positive)\n",
            "/usr/local/lib/python3.7/dist-packages/sklearn/linear_model/_coordinate_descent.py:476: ConvergenceWarning: Objective did not converge. You might want to increase the number of iterations. Duality gap: 33.42698296107426, tolerance: 2.777101952522255\n",
            "  positive)\n",
            "/usr/local/lib/python3.7/dist-packages/sklearn/linear_model/_coordinate_descent.py:476: ConvergenceWarning: Objective did not converge. You might want to increase the number of iterations. Duality gap: 38.853000368234916, tolerance: 3.030405585798817\n",
            "  positive)\n"
          ]
        }
      ]
    },
    {
      "cell_type": "markdown",
      "metadata": {
        "id": "5L850FfQ2Cej"
      },
      "source": [
        "If you store the results in a list called `scores`, the following will work:"
      ]
    },
    {
      "cell_type": "code",
      "metadata": {
        "colab": {
          "base_uri": "https://localhost:8080/"
        },
        "id": "LYbkDbyqJIdH",
        "outputId": "0c79f622-e214-4fa5-8c2d-6cc537346d3f"
      },
      "source": [
        "alphas"
      ],
      "execution_count": 37,
      "outputs": [
        {
          "output_type": "execute_result",
          "data": {
            "text/plain": [
              "array([1.e-03, 1.e-02, 1.e-01, 1.e+00, 1.e+01])"
            ]
          },
          "metadata": {},
          "execution_count": 37
        }
      ]
    },
    {
      "cell_type": "code",
      "metadata": {
        "colab": {
          "base_uri": "https://localhost:8080/"
        },
        "id": "6VoW0FUZJQOX",
        "outputId": "40e31c11-e4a2-483f-fe7c-9f8e934d7201"
      },
      "source": [
        "scores"
      ],
      "execution_count": 38,
      "outputs": [
        {
          "output_type": "execute_result",
          "data": {
            "text/plain": [
              "[0.7697086980421659,\n",
              " 0.8591002095361691,\n",
              " 0.8280423631185617,\n",
              " 0.7328688516176427,\n",
              " -0.000616160136140298]"
            ]
          },
          "metadata": {},
          "execution_count": 38
        }
      ]
    },
    {
      "cell_type": "code",
      "metadata": {
        "ExecuteTime": {
          "end_time": "2019-02-19T17:56:05.154628Z",
          "start_time": "2019-02-19T17:56:04.987932Z"
        },
        "colab": {
          "base_uri": "https://localhost:8080/",
          "height": 268
        },
        "id": "QW9TvERz2Cej",
        "outputId": "7a93d42f-8464-4c78-9221-6deacaca5c3d"
      },
      "source": [
        "plt.semilogx(alphas, scores);"
      ],
      "execution_count": 39,
      "outputs": [
        {
          "output_type": "display_data",
          "data": {
            "image/png": "[encoded data removed]",
            "text/plain": [
              "<Figure size 432x288 with 1 Axes>"
            ]
          },
          "metadata": {
            "needs_background": "light"
          }
        }
      ]
    },
    {
      "cell_type": "code",
      "metadata": {
        "ExecuteTime": {
          "end_time": "2019-02-19T17:56:40.051147Z",
          "start_time": "2019-02-19T17:56:40.009641Z"
        },
        "colab": {
          "base_uri": "https://localhost:8080/"
        },
        "id": "qc5jxRfc2Cej",
        "outputId": "03719222-9dd0-4a73-eee0-b911d5d0e918"
      },
      "source": [
        "# Once we have found the hyperparameter (alpha~1e-2=0.01)\n",
        "# make the model and train it on ALL the data\n",
        "# Then release it into the wild .....\n",
        "best_estimator = Pipeline([\n",
        "                    (\"scaler\", s),\n",
        "                    (\"make_higher_degree\", PolynomialFeatures(degree=2)),\n",
        "                    (\"lasso_regression\", Lasso(alpha=0.03))])\n",
        "\n",
        "best_estimator.fit(X, y)\n",
        "best_estimator.score(X, y)"
      ],
      "execution_count": 40,
      "outputs": [
        {
          "output_type": "execute_result",
          "data": {
            "text/plain": [
              "0.9134777735196521"
            ]
          },
          "metadata": {},
          "execution_count": 40
        }
      ]
    },
    {
      "cell_type": "code",
      "metadata": {
        "ExecuteTime": {
          "end_time": "2019-02-19T17:56:51.526585Z",
          "start_time": "2019-02-19T17:56:51.521094Z"
        },
        "colab": {
          "base_uri": "https://localhost:8080/"
        },
        "id": "n9FdcZQ_2Cej",
        "outputId": "3be9a653-ddbb-4786-cb1d-7bd5ac38d191"
      },
      "source": [
        "best_estimator.named_steps[\"lasso_regression\"].coef_"
      ],
      "execution_count": 41,
      "outputs": [
        {
          "output_type": "execute_result",
          "data": {
            "text/plain": [
              "array([ 0.00000000e+00, -0.00000000e+00, -0.00000000e+00, -0.00000000e+00,\n",
              "        0.00000000e+00, -1.00309168e+00,  3.32679107e+00, -1.01840878e+00,\n",
              "       -2.56161421e+00,  1.12778302e+00, -1.72266155e+00, -5.37088506e-01,\n",
              "        4.39555878e-01, -3.39542586e+00,  7.22387712e-02,  0.00000000e+00,\n",
              "        0.00000000e+00,  3.53653554e+00, -0.00000000e+00,  3.72285440e-01,\n",
              "        0.00000000e+00,  0.00000000e+00, -5.49528703e-01, -0.00000000e+00,\n",
              "       -0.00000000e+00, -4.05522485e-02,  2.25864611e-01,  1.78508858e-01,\n",
              "        0.00000000e+00,  0.00000000e+00,  0.00000000e+00,  6.50874606e-02,\n",
              "       -0.00000000e+00, -2.07295802e-01, -0.00000000e+00,  3.71781995e-01,\n",
              "        0.00000000e+00, -0.00000000e+00, -5.89531100e-02,  3.47180625e-01,\n",
              "        0.00000000e+00,  9.23666274e-01,  3.48873365e-01,  7.29463442e-02,\n",
              "        0.00000000e+00,  0.00000000e+00,  7.68485586e-02, -7.21083596e-01,\n",
              "        0.00000000e+00, -5.98542558e-01,  4.18420677e-01, -7.98165728e-01,\n",
              "       -7.25062683e-01,  2.34818861e-01, -0.00000000e+00, -0.00000000e+00,\n",
              "        0.00000000e+00, -1.68164447e-02,  0.00000000e+00, -4.04477826e-01,\n",
              "       -4.22989874e-01, -4.06983988e-01, -3.75443720e-01,  4.17684564e-01,\n",
              "       -8.91841193e-01,  0.00000000e+00, -2.69309481e-01,  0.00000000e+00,\n",
              "        1.02286785e-01,  2.02570379e-01, -6.88345376e-01, -0.00000000e+00,\n",
              "       -1.08598703e+00, -3.98751731e-01, -9.37684760e-01, -1.17343147e-01,\n",
              "       -7.37427594e-01,  0.00000000e+00,  0.00000000e+00,  1.36340670e+00,\n",
              "       -0.00000000e+00, -2.94691228e-03, -8.98125013e-01, -8.68198373e-01,\n",
              "        8.03396788e-01, -1.91683803e-01, -1.14706070e-01,  0.00000000e+00,\n",
              "       -0.00000000e+00,  5.83161589e-01, -0.00000000e+00,  5.81365491e-02,\n",
              "        0.00000000e+00, -2.32896159e-01, -1.12440837e+00,  0.00000000e+00,\n",
              "        1.96286997e+00, -0.00000000e+00, -1.00915801e+00, -7.04656486e-02,\n",
              "       -1.06456357e-02, -4.78389591e-02, -3.97645601e-01, -3.84121840e-01,\n",
              "        9.97402419e-01])"
            ]
          },
          "metadata": {},
          "execution_count": 41
        }
      ]
    },
    {
      "cell_type": "markdown",
      "metadata": {
        "id": "0qls2vXm2Cek"
      },
      "source": [
        "### Exercise\n",
        "\n",
        "Do the same, but with `Ridge` regression \n",
        "\n",
        "Which model, `Ridge` or `Lasso`, performs best with its optimal hyperparameters on the Boston dataset?"
      ]
    },
    {
      "cell_type": "code",
      "metadata": {
        "ExecuteTime": {
          "end_time": "2019-02-19T17:59:17.634414Z",
          "start_time": "2019-02-19T17:59:17.238684Z"
        },
        "colab": {
          "base_uri": "https://localhost:8080/",
          "height": 281
        },
        "id": "n2MyAT372Cek",
        "outputId": "1e1da130-d103-453b-a919-b1f439b4f0bc"
      },
      "source": [
        "pf = PolynomialFeatures(degree=2)\n",
        "alphas = np.geomspace(4, 20, 20)\n",
        "scores=[]\n",
        "for alpha in alphas:\n",
        "    ridge = Ridge(alpha=alpha, max_iter=100000)\n",
        "\n",
        "    estimator = Pipeline([\n",
        "        (\"scaler\", s),\n",
        "        (\"polynomial_features\", pf),\n",
        "        (\"ridge_regression\", ridge)])\n",
        "\n",
        "    predictions = cross_val_predict(estimator, X, y, cv = kf)\n",
        "    score = r2_score(y, predictions)\n",
        "    scores.append(score)\n",
        "\n",
        "plt.plot(alphas, scores)"
      ],
      "execution_count": 44,
      "outputs": [
        {
          "output_type": "execute_result",
          "data": {
            "text/plain": [
              "[<matplotlib.lines.Line2D at 0x7f01d5544650>]"
            ]
          },
          "metadata": {},
          "execution_count": 44
        },
        {
          "output_type": "display_data",
          "data": {
            "image/png": "[encoded data removed]",
            "text/plain": [
              "<Figure size 432x288 with 1 Axes>"
            ]
          },
          "metadata": {
            "needs_background": "light"
          }
        }
      ]
    },
    {
      "cell_type": "code",
      "metadata": {
        "colab": {
          "base_uri": "https://localhost:8080/",
          "height": 281
        },
        "id": "YySyQTodK0DC",
        "outputId": "265c5c30-ad98-4bf0-ed85-defb40bc8f73"
      },
      "source": [
        "pf = PolynomialFeatures(degree=2)\n",
        "alphas = np.geomspace(0.1, 2, 20)\n",
        "scores=[]\n",
        "for alpha in alphas:\n",
        "    ridge = Ridge(alpha=alpha, max_iter=100000)\n",
        "\n",
        "    estimator = Pipeline([\n",
        "        (\"scaler\", s),\n",
        "        (\"polynomial_features\", pf),\n",
        "        (\"ridge_regression\", ridge)])\n",
        "\n",
        "    predictions = cross_val_predict(estimator, X, y, cv = kf)\n",
        "    score = r2_score(y, predictions)\n",
        "    scores.append(score)\n",
        "\n",
        "plt.plot(alphas, scores)"
      ],
      "execution_count": 46,
      "outputs": [
        {
          "output_type": "execute_result",
          "data": {
            "text/plain": [
              "[<matplotlib.lines.Line2D at 0x7f01d5455b90>]"
            ]
          },
          "metadata": {},
          "execution_count": 46
        },
        {
          "output_type": "display_data",
          "data": {
            "image/png": "[encoded data removed]",
            "text/plain": [
              "<Figure size 432x288 with 1 Axes>"
            ]
          },
          "metadata": {
            "needs_background": "light"
          }
        }
      ]
    },
    {
      "cell_type": "markdown",
      "metadata": {
        "id": "0yFFahC02Cek"
      },
      "source": [
        "**Conclusion:** Both Lasso and Ridge with proper hyperparameter tuning give better results than plain ol' Linear Regression!"
      ]
    },
    {
      "cell_type": "markdown",
      "metadata": {
        "id": "3-9cX5di2Cek"
      },
      "source": [
        "### Exercise:"
      ]
    },
    {
      "cell_type": "markdown",
      "metadata": {
        "id": "DQWdHh4G2Cek"
      },
      "source": [
        "Now, for whatever your best overall hyperparameter was: \n",
        "\n",
        "* Standardize the data\n",
        "* Fit and predict on the entire dataset\n",
        "* See what the largest coefficients were\n",
        "    * Hint: use \n",
        "    ```python\n",
        "    dict(zip(model.coef_, pf.get_feature_names()))\n",
        "    ```\n",
        "    for your model `model` to get the feature names from `PolynomialFeatures`.\n",
        "    \n",
        "    Then, use\n",
        "    ```python\n",
        "    dict(zip(list(range(len(X.columns.values))), X.columns.values))\n",
        "    ```\n",
        "    \n",
        "    to see which features in the `PolynomialFeatures` DataFrame correspond to which columns in the original DataFrame.\n"
      ]
    },
    {
      "cell_type": "code",
      "metadata": {
        "ExecuteTime": {
          "end_time": "2019-02-19T17:56:40.051147Z",
          "start_time": "2019-02-19T17:56:40.009641Z"
        },
        "colab": {
          "base_uri": "https://localhost:8080/"
        },
        "id": "yJuKanQ42Cek",
        "outputId": "fcff7bf8-672c-4b4b-faf9-abd6a5f4d249"
      },
      "source": [
        "# Once we have found the hyperparameter (alpha~1e-2=0.01)\n",
        "# make the model and train it on ALL the data\n",
        "# Then release it into the wild .....\n",
        "best_estimator = Pipeline([\n",
        "                    (\"scaler\", s),\n",
        "                    (\"make_higher_degree\", PolynomialFeatures(degree=2)),\n",
        "                    (\"lasso_regression\", Lasso(alpha=0.03))])\n",
        "\n",
        "best_estimator.fit(X, y)\n",
        "best_estimator.score(X, y)"
      ],
      "execution_count": 47,
      "outputs": [
        {
          "output_type": "execute_result",
          "data": {
            "text/plain": [
              "0.9134777735196521"
            ]
          },
          "metadata": {},
          "execution_count": 47
        }
      ]
    },
    {
      "cell_type": "code",
      "metadata": {
        "colab": {
          "base_uri": "https://localhost:8080/"
        },
        "id": "GeSfXG4jMxvi",
        "outputId": "a07ef8e6-8da4-4e29-b025-883ca4f2dec5"
      },
      "source": [
        "best_estimator.named_steps[\"make_higher_degree\"].get_feature_names(input_features = X.columns)"
      ],
      "execution_count": 51,
      "outputs": [
        {
          "output_type": "execute_result",
          "data": {
            "text/plain": [
              "['1',\n",
              " 'CRIM',\n",
              " 'ZN',\n",
              " 'INDUS',\n",
              " 'CHAS',\n",
              " 'NOX',\n",
              " 'RM',\n",
              " 'AGE',\n",
              " 'DIS',\n",
              " 'RAD',\n",
              " 'TAX',\n",
              " 'PTRATIO',\n",
              " 'B',\n",
              " 'LSTAT',\n",
              " 'CRIM^2',\n",
              " 'CRIM ZN',\n",
              " 'CRIM INDUS',\n",
              " 'CRIM CHAS',\n",
              " 'CRIM NOX',\n",
              " 'CRIM RM',\n",
              " 'CRIM AGE',\n",
              " 'CRIM DIS',\n",
              " 'CRIM RAD',\n",
              " 'CRIM TAX',\n",
              " 'CRIM PTRATIO',\n",
              " 'CRIM B',\n",
              " 'CRIM LSTAT',\n",
              " 'ZN^2',\n",
              " 'ZN INDUS',\n",
              " 'ZN CHAS',\n",
              " 'ZN NOX',\n",
              " 'ZN RM',\n",
              " 'ZN AGE',\n",
              " 'ZN DIS',\n",
              " 'ZN RAD',\n",
              " 'ZN TAX',\n",
              " 'ZN PTRATIO',\n",
              " 'ZN B',\n",
              " 'ZN LSTAT',\n",
              " 'INDUS^2',\n",
              " 'INDUS CHAS',\n",
              " 'INDUS NOX',\n",
              " 'INDUS RM',\n",
              " 'INDUS AGE',\n",
              " 'INDUS DIS',\n",
              " 'INDUS RAD',\n",
              " 'INDUS TAX',\n",
              " 'INDUS PTRATIO',\n",
              " 'INDUS B',\n",
              " 'INDUS LSTAT',\n",
              " 'CHAS^2',\n",
              " 'CHAS NOX',\n",
              " 'CHAS RM',\n",
              " 'CHAS AGE',\n",
              " 'CHAS DIS',\n",
              " 'CHAS RAD',\n",
              " 'CHAS TAX',\n",
              " 'CHAS PTRATIO',\n",
              " 'CHAS B',\n",
              " 'CHAS LSTAT',\n",
              " 'NOX^2',\n",
              " 'NOX RM',\n",
              " 'NOX AGE',\n",
              " 'NOX DIS',\n",
              " 'NOX RAD',\n",
              " 'NOX TAX',\n",
              " 'NOX PTRATIO',\n",
              " 'NOX B',\n",
              " 'NOX LSTAT',\n",
              " 'RM^2',\n",
              " 'RM AGE',\n",
              " 'RM DIS',\n",
              " 'RM RAD',\n",
              " 'RM TAX',\n",
              " 'RM PTRATIO',\n",
              " 'RM B',\n",
              " 'RM LSTAT',\n",
              " 'AGE^2',\n",
              " 'AGE DIS',\n",
              " 'AGE RAD',\n",
              " 'AGE TAX',\n",
              " 'AGE PTRATIO',\n",
              " 'AGE B',\n",
              " 'AGE LSTAT',\n",
              " 'DIS^2',\n",
              " 'DIS RAD',\n",
              " 'DIS TAX',\n",
              " 'DIS PTRATIO',\n",
              " 'DIS B',\n",
              " 'DIS LSTAT',\n",
              " 'RAD^2',\n",
              " 'RAD TAX',\n",
              " 'RAD PTRATIO',\n",
              " 'RAD B',\n",
              " 'RAD LSTAT',\n",
              " 'TAX^2',\n",
              " 'TAX PTRATIO',\n",
              " 'TAX B',\n",
              " 'TAX LSTAT',\n",
              " 'PTRATIO^2',\n",
              " 'PTRATIO B',\n",
              " 'PTRATIO LSTAT',\n",
              " 'B^2',\n",
              " 'B LSTAT',\n",
              " 'LSTAT^2']"
            ]
          },
          "metadata": {},
          "execution_count": 51
        }
      ]
    },
    {
      "cell_type": "code",
      "metadata": {
        "colab": {
          "base_uri": "https://localhost:8080/"
        },
        "id": "U_YuhwFQNChk",
        "outputId": "235fc89e-8487-4170-e9f1-fb89abd6f529"
      },
      "source": [
        "best_estimator.named_steps[\"lasso_regression\"].coef_"
      ],
      "execution_count": 52,
      "outputs": [
        {
          "output_type": "execute_result",
          "data": {
            "text/plain": [
              "array([ 0.00000000e+00, -0.00000000e+00, -0.00000000e+00, -0.00000000e+00,\n",
              "        0.00000000e+00, -1.00309168e+00,  3.32679107e+00, -1.01840878e+00,\n",
              "       -2.56161421e+00,  1.12778302e+00, -1.72266155e+00, -5.37088506e-01,\n",
              "        4.39555878e-01, -3.39542586e+00,  7.22387712e-02,  0.00000000e+00,\n",
              "        0.00000000e+00,  3.53653554e+00, -0.00000000e+00,  3.72285440e-01,\n",
              "        0.00000000e+00,  0.00000000e+00, -5.49528703e-01, -0.00000000e+00,\n",
              "       -0.00000000e+00, -4.05522485e-02,  2.25864611e-01,  1.78508858e-01,\n",
              "        0.00000000e+00,  0.00000000e+00,  0.00000000e+00,  6.50874606e-02,\n",
              "       -0.00000000e+00, -2.07295802e-01, -0.00000000e+00,  3.71781995e-01,\n",
              "        0.00000000e+00, -0.00000000e+00, -5.89531100e-02,  3.47180625e-01,\n",
              "        0.00000000e+00,  9.23666274e-01,  3.48873365e-01,  7.29463442e-02,\n",
              "        0.00000000e+00,  0.00000000e+00,  7.68485586e-02, -7.21083596e-01,\n",
              "        0.00000000e+00, -5.98542558e-01,  4.18420677e-01, -7.98165728e-01,\n",
              "       -7.25062683e-01,  2.34818861e-01, -0.00000000e+00, -0.00000000e+00,\n",
              "        0.00000000e+00, -1.68164447e-02,  0.00000000e+00, -4.04477826e-01,\n",
              "       -4.22989874e-01, -4.06983988e-01, -3.75443720e-01,  4.17684564e-01,\n",
              "       -8.91841193e-01,  0.00000000e+00, -2.69309481e-01,  0.00000000e+00,\n",
              "        1.02286785e-01,  2.02570379e-01, -6.88345376e-01, -0.00000000e+00,\n",
              "       -1.08598703e+00, -3.98751731e-01, -9.37684760e-01, -1.17343147e-01,\n",
              "       -7.37427594e-01,  0.00000000e+00,  0.00000000e+00,  1.36340670e+00,\n",
              "       -0.00000000e+00, -2.94691228e-03, -8.98125013e-01, -8.68198373e-01,\n",
              "        8.03396788e-01, -1.91683803e-01, -1.14706070e-01,  0.00000000e+00,\n",
              "       -0.00000000e+00,  5.83161589e-01, -0.00000000e+00,  5.81365491e-02,\n",
              "        0.00000000e+00, -2.32896159e-01, -1.12440837e+00,  0.00000000e+00,\n",
              "        1.96286997e+00, -0.00000000e+00, -1.00915801e+00, -7.04656486e-02,\n",
              "       -1.06456357e-02, -4.78389591e-02, -3.97645601e-01, -3.84121840e-01,\n",
              "        9.97402419e-01])"
            ]
          },
          "metadata": {},
          "execution_count": 52
        }
      ]
    },
    {
      "cell_type": "code",
      "metadata": {
        "ExecuteTime": {
          "end_time": "2019-02-19T17:56:51.526585Z",
          "start_time": "2019-02-19T17:56:51.521094Z"
        },
        "id": "E8-OYQ4M2Cel"
      },
      "source": [
        "df_importances = pd.DataFrame(zip(best_estimator.named_steps[\"make_higher_degree\"].get_feature_names(input_features = X.columns),\n",
        "                 best_estimator.named_steps[\"lasso_regression\"].coef_,\n",
        "))"
      ],
      "execution_count": 53,
      "outputs": []
    },
    {
      "cell_type": "code",
      "metadata": {
        "colab": {
          "base_uri": "https://localhost:8080/",
          "height": 408
        },
        "id": "GvVGyCt3OJZo",
        "outputId": "e5d6edf0-60d6-4520-a096-18e5c97c9ad6"
      },
      "source": [
        "df_importances"
      ],
      "execution_count": 54,
      "outputs": [
        {
          "output_type": "execute_result",
          "data": {
            "text/html": [
              "<div>\n",
              "<style scoped>\n",
              "    .dataframe tbody tr th:only-of-type {\n",
              "        vertical-align: middle;\n",
              "    }\n",
              "\n",
              "    .dataframe tbody tr th {\n",
              "        vertical-align: top;\n",
              "    }\n",
              "\n",
              "    .dataframe thead th {\n",
              "        text-align: right;\n",
              "    }\n",
              "</style>\n",
              "<table border=\"1\" class=\"dataframe\">\n",
              "  <thead>\n",
              "    <tr style=\"text-align: right;\">\n",
              "      <th></th>\n",
              "      <th>0</th>\n",
              "      <th>1</th>\n",
              "    </tr>\n",
              "  </thead>\n",
              "  <tbody>\n",
              "    <tr>\n",
              "      <th>0</th>\n",
              "      <td>1</td>\n",
              "      <td>0.000000</td>\n",
              "    </tr>\n",
              "    <tr>\n",
              "      <th>1</th>\n",
              "      <td>CRIM</td>\n",
              "      <td>-0.000000</td>\n",
              "    </tr>\n",
              "    <tr>\n",
              "      <th>2</th>\n",
              "      <td>ZN</td>\n",
              "      <td>-0.000000</td>\n",
              "    </tr>\n",
              "    <tr>\n",
              "      <th>3</th>\n",
              "      <td>INDUS</td>\n",
              "      <td>-0.000000</td>\n",
              "    </tr>\n",
              "    <tr>\n",
              "      <th>4</th>\n",
              "      <td>CHAS</td>\n",
              "      <td>0.000000</td>\n",
              "    </tr>\n",
              "    <tr>\n",
              "      <th>...</th>\n",
              "      <td>...</td>\n",
              "      <td>...</td>\n",
              "    </tr>\n",
              "    <tr>\n",
              "      <th>100</th>\n",
              "      <td>PTRATIO B</td>\n",
              "      <td>-0.010646</td>\n",
              "    </tr>\n",
              "    <tr>\n",
              "      <th>101</th>\n",
              "      <td>PTRATIO LSTAT</td>\n",
              "      <td>-0.047839</td>\n",
              "    </tr>\n",
              "    <tr>\n",
              "      <th>102</th>\n",
              "      <td>B^2</td>\n",
              "      <td>-0.397646</td>\n",
              "    </tr>\n",
              "    <tr>\n",
              "      <th>103</th>\n",
              "      <td>B LSTAT</td>\n",
              "      <td>-0.384122</td>\n",
              "    </tr>\n",
              "    <tr>\n",
              "      <th>104</th>\n",
              "      <td>LSTAT^2</td>\n",
              "      <td>0.997402</td>\n",
              "    </tr>\n",
              "  </tbody>\n",
              "</table>\n",
              "<p>105 rows × 2 columns</p>\n",
              "</div>"
            ],
            "text/plain": [
              "                 0         1\n",
              "0                1  0.000000\n",
              "1             CRIM -0.000000\n",
              "2               ZN -0.000000\n",
              "3            INDUS -0.000000\n",
              "4             CHAS  0.000000\n",
              "..             ...       ...\n",
              "100      PTRATIO B -0.010646\n",
              "101  PTRATIO LSTAT -0.047839\n",
              "102            B^2 -0.397646\n",
              "103        B LSTAT -0.384122\n",
              "104        LSTAT^2  0.997402\n",
              "\n",
              "[105 rows x 2 columns]"
            ]
          },
          "metadata": {},
          "execution_count": 54
        }
      ]
    },
    {
      "cell_type": "code",
      "metadata": {
        "id": "kYSZowhO2Cel"
      },
      "source": [
        "col_names_dict = dict(zip(list(range(len(X.columns.values))), X.columns.values))"
      ],
      "execution_count": 55,
      "outputs": []
    },
    {
      "cell_type": "code",
      "metadata": {
        "colab": {
          "base_uri": "https://localhost:8080/"
        },
        "id": "14cWOQkJ2Cem",
        "outputId": "a82f7d52-4853-4dac-b629-4a049658a13f"
      },
      "source": [
        "col_names_dict"
      ],
      "execution_count": 56,
      "outputs": [
        {
          "output_type": "execute_result",
          "data": {
            "text/plain": [
              "{0: 'CRIM',\n",
              " 1: 'ZN',\n",
              " 2: 'INDUS',\n",
              " 3: 'CHAS',\n",
              " 4: 'NOX',\n",
              " 5: 'RM',\n",
              " 6: 'AGE',\n",
              " 7: 'DIS',\n",
              " 8: 'RAD',\n",
              " 9: 'TAX',\n",
              " 10: 'PTRATIO',\n",
              " 11: 'B',\n",
              " 12: 'LSTAT'}"
            ]
          },
          "metadata": {},
          "execution_count": 56
        }
      ]
    },
    {
      "cell_type": "code",
      "metadata": {
        "colab": {
          "base_uri": "https://localhost:8080/"
        },
        "id": "E0ja-bOHOxd4",
        "outputId": "8a4e3cd4-da6a-4abe-dd58-306ac8ea73c4"
      },
      "source": [
        "print(boston_description)"
      ],
      "execution_count": 58,
      "outputs": [
        {
          "output_type": "stream",
          "name": "stdout",
          "text": [
            "Boston House Prices dataset\n",
            "===========================\n",
            "\n",
            "Notes\n",
            "------\n",
            "Data Set Characteristics:  \n",
            "\n",
            "    :Number of Instances: 506 \n",
            "\n",
            "    :Number of Attributes: 13 numeric/categorical predictive\n",
            "    \n",
            "    :Median Value (attribute 14) is usually the target\n",
            "\n",
            "    :Attribute Information (in order):\n",
            "        - CRIM     per capita crime rate by town\n",
            "        - ZN       proportion of residential land zoned for lots over 25,000 sq.ft.\n",
            "        - INDUS    proportion of non-retail business acres per town\n",
            "        - CHAS     Charles River dummy variable (= 1 if tract bounds river; 0 otherwise)\n",
            "        - NOX      nitric oxides concentration (parts per 10 million)\n",
            "        - RM       average number of rooms per dwelling\n",
            "        - AGE      proportion of owner-occupied units built prior to 1940\n",
            "        - DIS      weighted distances to five Boston employment centres\n",
            "        - RAD      index of accessibility to radial highways\n",
            "        - TAX      full-value property-tax rate per $10,000\n",
            "        - PTRATIO  pupil-teacher ratio by town\n",
            "        - B        1000(Bk - 0.63)^2 where Bk is the proportion of blacks by town\n",
            "        - LSTAT    % lower status of the population\n",
            "        - MEDV     Median value of owner-occupied homes in $1000's\n",
            "\n",
            "    :Missing Attribute Values: None\n",
            "\n",
            "    :Creator: Harrison, D. and Rubinfeld, D.L.\n",
            "\n",
            "This is a copy of UCI ML housing dataset.\n",
            "http://archive.ics.uci.edu/ml/datasets/Housing\n",
            "\n",
            "\n",
            "This dataset was taken from the StatLib library which is maintained at Carnegie Mellon University.\n",
            "\n",
            "The Boston house-price data of Harrison, D. and Rubinfeld, D.L. 'Hedonic\n",
            "prices and the demand for clean air', J. Environ. Economics & Management,\n",
            "vol.5, 81-102, 1978.   Used in Belsley, Kuh & Welsch, 'Regression diagnostics\n",
            "...', Wiley, 1980.   N.B. Various transformations are used in the table on\n",
            "pages 244-261 of the latter.\n",
            "\n",
            "The Boston house-price data has been used in many machine learning papers that address regression\n",
            "problems.   \n",
            "     \n",
            "**References**\n",
            "\n",
            "   - Belsley, Kuh & Welsch, 'Regression diagnostics: Identifying Influential Data and Sources of Collinearity', Wiley, 1980. 244-261.\n",
            "   - Quinlan,R. (1993). Combining Instance-Based and Model-Based Learning. In Proceedings on the Tenth International Conference of Machine Learning, 236-243, University of Massachusetts, Amherst. Morgan Kaufmann.\n",
            "   - many more! (see http://archive.ics.uci.edu/ml/datasets/Housing)\n",
            "\n"
          ]
        }
      ]
    },
    {
      "cell_type": "code",
      "metadata": {
        "colab": {
          "base_uri": "https://localhost:8080/",
          "height": 408
        },
        "id": "z0JiCcOf2Cem",
        "outputId": "a439ef54-6777-4b29-e8bd-9f9a6b622838"
      },
      "source": [
        "df_importances.sort_values(by=1)"
      ],
      "execution_count": 57,
      "outputs": [
        {
          "output_type": "execute_result",
          "data": {
            "text/html": [
              "<div>\n",
              "<style scoped>\n",
              "    .dataframe tbody tr th:only-of-type {\n",
              "        vertical-align: middle;\n",
              "    }\n",
              "\n",
              "    .dataframe tbody tr th {\n",
              "        vertical-align: top;\n",
              "    }\n",
              "\n",
              "    .dataframe thead th {\n",
              "        text-align: right;\n",
              "    }\n",
              "</style>\n",
              "<table border=\"1\" class=\"dataframe\">\n",
              "  <thead>\n",
              "    <tr style=\"text-align: right;\">\n",
              "      <th></th>\n",
              "      <th>0</th>\n",
              "      <th>1</th>\n",
              "    </tr>\n",
              "  </thead>\n",
              "  <tbody>\n",
              "    <tr>\n",
              "      <th>13</th>\n",
              "      <td>LSTAT</td>\n",
              "      <td>-3.395426</td>\n",
              "    </tr>\n",
              "    <tr>\n",
              "      <th>8</th>\n",
              "      <td>DIS</td>\n",
              "      <td>-2.561614</td>\n",
              "    </tr>\n",
              "    <tr>\n",
              "      <th>10</th>\n",
              "      <td>TAX</td>\n",
              "      <td>-1.722662</td>\n",
              "    </tr>\n",
              "    <tr>\n",
              "      <th>94</th>\n",
              "      <td>RAD LSTAT</td>\n",
              "      <td>-1.124408</td>\n",
              "    </tr>\n",
              "    <tr>\n",
              "      <th>72</th>\n",
              "      <td>RM RAD</td>\n",
              "      <td>-1.085987</td>\n",
              "    </tr>\n",
              "    <tr>\n",
              "      <th>...</th>\n",
              "      <td>...</td>\n",
              "      <td>...</td>\n",
              "    </tr>\n",
              "    <tr>\n",
              "      <th>9</th>\n",
              "      <td>RAD</td>\n",
              "      <td>1.127783</td>\n",
              "    </tr>\n",
              "    <tr>\n",
              "      <th>79</th>\n",
              "      <td>AGE RAD</td>\n",
              "      <td>1.363407</td>\n",
              "    </tr>\n",
              "    <tr>\n",
              "      <th>96</th>\n",
              "      <td>TAX PTRATIO</td>\n",
              "      <td>1.962870</td>\n",
              "    </tr>\n",
              "    <tr>\n",
              "      <th>6</th>\n",
              "      <td>RM</td>\n",
              "      <td>3.326791</td>\n",
              "    </tr>\n",
              "    <tr>\n",
              "      <th>17</th>\n",
              "      <td>CRIM CHAS</td>\n",
              "      <td>3.536536</td>\n",
              "    </tr>\n",
              "  </tbody>\n",
              "</table>\n",
              "<p>105 rows × 2 columns</p>\n",
              "</div>"
            ],
            "text/plain": [
              "              0         1\n",
              "13        LSTAT -3.395426\n",
              "8           DIS -2.561614\n",
              "10          TAX -1.722662\n",
              "94    RAD LSTAT -1.124408\n",
              "72       RM RAD -1.085987\n",
              "..          ...       ...\n",
              "9           RAD  1.127783\n",
              "79      AGE RAD  1.363407\n",
              "96  TAX PTRATIO  1.962870\n",
              "6            RM  3.326791\n",
              "17    CRIM CHAS  3.536536\n",
              "\n",
              "[105 rows x 2 columns]"
            ]
          },
          "metadata": {},
          "execution_count": 57
        }
      ]
    },
    {
      "cell_type": "markdown",
      "metadata": {
        "id": "Oaxz0np72Cen"
      },
      "source": [
        "## Grid Search CV"
      ]
    },
    {
      "cell_type": "markdown",
      "metadata": {
        "id": "xRdY_ukU2Cen"
      },
      "source": [
        "To do cross-validation, we used two techniques:\n",
        "- use `KFolds` and manually create a loop to do cross-validation\n",
        "- use `cross_val_predict` and `score` to get a cross-valiated score in a couple of lines.\n",
        "\n",
        "To do hyper-parameter tuning, we see a general pattern:\n",
        "- use `cross_val_predict` and `score` in a manually written loop over hyperparemeters, then select the best one.\n",
        "\n",
        "Perhaps not surprisingly, there is a function that does this for us -- `GridSearchCV`"
      ]
    },
    {
      "cell_type": "code",
      "metadata": {
        "ExecuteTime": {
          "end_time": "2019-02-19T18:02:31.945804Z",
          "start_time": "2019-02-19T18:02:31.938416Z"
        },
        "id": "Yf1gh4TX2Cen"
      },
      "source": [
        "from sklearn.model_selection import GridSearchCV\n",
        "\n",
        "# Same estimator as before\n",
        "estimator = Pipeline([(\"scaler\", StandardScaler()),\n",
        "        (\"polynomial_features\", PolynomialFeatures()),\n",
        "        (\"ridge_regression\", Ridge())])\n",
        "\n",
        "params = {\n",
        "    'polynomial_features__degree': [1, 2, 3],\n",
        "    'ridge_regression__alpha': np.geomspace(4, 20, 30)\n",
        "}\n",
        "\n",
        "grid = GridSearchCV(estimator, params, cv=kf)"
      ],
      "execution_count": 59,
      "outputs": []
    },
    {
      "cell_type": "code",
      "metadata": {
        "ExecuteTime": {
          "end_time": "2019-02-19T18:02:49.319148Z",
          "start_time": "2019-02-19T18:02:46.093880Z"
        },
        "colab": {
          "base_uri": "https://localhost:8080/"
        },
        "id": "SmI4R5v22Ceo",
        "outputId": "baae8621-928f-4f77-b4da-2b2476115bf4"
      },
      "source": [
        "grid.fit(X, y)"
      ],
      "execution_count": 60,
      "outputs": [
        {
          "output_type": "execute_result",
          "data": {
            "text/plain": [
              "GridSearchCV(cv=KFold(n_splits=3, random_state=72018, shuffle=True),\n",
              "             error_score=nan,\n",
              "             estimator=Pipeline(memory=None,\n",
              "                                steps=[('scaler',\n",
              "                                        StandardScaler(copy=True,\n",
              "                                                       with_mean=True,\n",
              "                                                       with_std=True)),\n",
              "                                       ('polynomial_features',\n",
              "                                        PolynomialFeatures(degree=2,\n",
              "                                                           include_bias=True,\n",
              "                                                           interaction_only=False,\n",
              "                                                           order='C')),\n",
              "                                       ('ridge_regression',\n",
              "                                        Ridge(alpha=1.0, copy_X=True,\n",
              "                                              fit_intercep...\n",
              "        5.27924796,  5.58051751,  5.89897953,  6.23561514,  6.59146146,\n",
              "        6.96761476,  7.36523392,  7.78554391,  8.22983963,  8.69948987,\n",
              "        9.19594151,  9.72072404, 10.27545421, 10.86184103, 11.48169104,\n",
              "       12.13691388, 12.82952815, 13.56166768, 14.33558803, 15.15367351,\n",
              "       16.01844446, 16.93256509, 17.89885162, 18.92028098, 20.        ])},\n",
              "             pre_dispatch='2*n_jobs', refit=True, return_train_score=False,\n",
              "             scoring=None, verbose=0)"
            ]
          },
          "metadata": {},
          "execution_count": 60
        }
      ]
    },
    {
      "cell_type": "code",
      "metadata": {
        "ExecuteTime": {
          "end_time": "2019-02-19T18:03:07.016198Z",
          "start_time": "2019-02-19T18:03:07.010215Z"
        },
        "colab": {
          "base_uri": "https://localhost:8080/"
        },
        "id": "CRU89D402Ceo",
        "outputId": "15954c9d-e85a-41aa-98d4-75382a7fd9df"
      },
      "source": [
        "grid.best_score_, grid.best_params_"
      ],
      "execution_count": 61,
      "outputs": [
        {
          "output_type": "execute_result",
          "data": {
            "text/plain": [
              "(0.8504982950750941,\n",
              " {'polynomial_features__degree': 2,\n",
              "  'ridge_regression__alpha': 15.153673507519274})"
            ]
          },
          "metadata": {},
          "execution_count": 61
        }
      ]
    },
    {
      "cell_type": "code",
      "metadata": {
        "ExecuteTime": {
          "end_time": "2019-02-19T18:03:31.735568Z",
          "start_time": "2019-02-19T18:03:31.728658Z"
        },
        "id": "AsUuSHWr2Cep"
      },
      "source": [
        "y_predict = grid.predict(X)"
      ],
      "execution_count": 62,
      "outputs": []
    },
    {
      "cell_type": "code",
      "metadata": {
        "ExecuteTime": {
          "end_time": "2019-02-19T18:04:17.838943Z",
          "start_time": "2019-02-19T18:04:17.832872Z"
        },
        "colab": {
          "base_uri": "https://localhost:8080/"
        },
        "id": "tKsAWis12Cep",
        "outputId": "9faebdb1-c6ce-45c2-8610-1413749c7279"
      },
      "source": [
        "# This includes both in-sample and out-of-sample\n",
        "r2_score(y, y_predict)"
      ],
      "execution_count": 63,
      "outputs": [
        {
          "output_type": "execute_result",
          "data": {
            "text/plain": [
              "0.9149145594213685"
            ]
          },
          "metadata": {},
          "execution_count": 63
        }
      ]
    },
    {
      "cell_type": "code",
      "metadata": {
        "ExecuteTime": {
          "end_time": "2019-02-19T18:04:27.088854Z",
          "start_time": "2019-02-19T18:04:27.082915Z"
        },
        "colab": {
          "base_uri": "https://localhost:8080/"
        },
        "id": "5npmbBWs2Cep",
        "outputId": "034aba75-ec2b-4988-8da9-19aa4827bd8c"
      },
      "source": [
        "# Notice that \"grid\" is a fit object!\n",
        "# We can use grid.predict(X_test) to get brand new predictions!\n",
        "grid.best_estimator_.named_steps['ridge_regression'].coef_"
      ],
      "execution_count": 64,
      "outputs": [
        {
          "output_type": "execute_result",
          "data": {
            "text/plain": [
              "array([ 0.00000000e+00, -1.27346408e-01, -6.16205046e-03,  2.36135244e-02,\n",
              "        1.00398027e-01, -9.74110586e-01,  3.26236441e+00, -9.65057238e-01,\n",
              "       -1.96344725e+00,  8.56769182e-01, -1.01488960e+00, -7.06985966e-01,\n",
              "        5.52029222e-01, -3.03254502e+00,  7.74127927e-02,  7.24276605e-02,\n",
              "        6.82776638e-02,  1.72849044e+00, -4.80758341e-01,  5.76219972e-01,\n",
              "        1.28132069e-01,  2.22931335e-01, -7.45243542e-01,  1.66582495e-01,\n",
              "       -8.00025634e-02, -8.54571642e-02,  5.07490801e-01,  2.14820391e-01,\n",
              "       -1.48833274e-01,  1.42098626e-01,  1.93770221e-01,  5.02304885e-02,\n",
              "       -1.12667821e-01, -2.77559685e-01, -1.32870713e-01,  7.32239658e-01,\n",
              "        5.26857333e-02,  8.89966580e-02, -2.72228558e-01,  5.84383917e-01,\n",
              "        1.06306947e-01,  9.62971619e-01,  5.76845132e-01,  5.33378179e-01,\n",
              "        7.07913980e-01, -6.21760626e-02,  7.57641545e-02, -4.28157866e-01,\n",
              "        2.40651011e-01, -6.82201736e-01,  3.40931549e-01, -9.62217889e-01,\n",
              "       -8.14997204e-01,  2.81353294e-01,  5.50023518e-02,  8.65917517e-02,\n",
              "        6.28285056e-01, -1.40764851e-01, -1.03645734e-01, -3.81965497e-01,\n",
              "       -4.48817407e-01, -4.46562934e-01, -4.97293983e-01,  7.52862844e-01,\n",
              "       -8.00745322e-01,  7.86779267e-02, -5.78298566e-01, -4.98398516e-02,\n",
              "        5.37001246e-01,  2.24913740e-01, -7.11059542e-01,  5.70498060e-02,\n",
              "       -7.85214394e-01, -9.18516132e-01, -1.02907666e+00, -1.58937491e-01,\n",
              "       -7.77699453e-01,  1.42895792e-01,  7.72299871e-02,  1.08239035e+00,\n",
              "        3.98859145e-02, -7.26596891e-02, -9.64695031e-01, -1.12682105e+00,\n",
              "        1.01829108e+00, -6.12786851e-01, -4.22714073e-01, -1.41672983e-01,\n",
              "       -2.68672373e-01,  8.23071041e-01, -8.66106901e-01,  8.83695240e-01,\n",
              "        3.63975663e-01, -1.13200717e-01, -1.12043738e+00,  2.19170412e-03,\n",
              "        1.30087563e+00, -3.65505003e-01, -1.08425883e+00, -1.16852284e-01,\n",
              "        8.62081670e-02,  1.40937541e-03, -3.62535906e-01, -4.04519520e-01,\n",
              "        8.07960994e-01])"
            ]
          },
          "metadata": {},
          "execution_count": 64
        }
      ]
    },
    {
      "cell_type": "code",
      "metadata": {
        "ExecuteTime": {
          "end_time": "2019-02-19T18:05:34.756588Z",
          "start_time": "2019-02-19T18:05:34.728508Z"
        },
        "colab": {
          "base_uri": "https://localhost:8080/",
          "height": 591
        },
        "id": "CiLNRu2c2Cep",
        "outputId": "b8ef416c-d81a-44d2-b9c0-5955ed2fd3ee"
      },
      "source": [
        "pd.DataFrame(grid.cv_results_)"
      ],
      "execution_count": 67,
      "outputs": [
        {
          "output_type": "execute_result",
          "data": {
            "text/html": [
              "<div>\n",
              "<style scoped>\n",
              "    .dataframe tbody tr th:only-of-type {\n",
              "        vertical-align: middle;\n",
              "    }\n",
              "\n",
              "    .dataframe tbody tr th {\n",
              "        vertical-align: top;\n",
              "    }\n",
              "\n",
              "    .dataframe thead th {\n",
              "        text-align: right;\n",
              "    }\n",
              "</style>\n",
              "<table border=\"1\" class=\"dataframe\">\n",
              "  <thead>\n",
              "    <tr style=\"text-align: right;\">\n",
              "      <th></th>\n",
              "      <th>mean_fit_time</th>\n",
              "      <th>std_fit_time</th>\n",
              "      <th>mean_score_time</th>\n",
              "      <th>std_score_time</th>\n",
              "      <th>param_polynomial_features__degree</th>\n",
              "      <th>param_ridge_regression__alpha</th>\n",
              "      <th>params</th>\n",
              "      <th>split0_test_score</th>\n",
              "      <th>split1_test_score</th>\n",
              "      <th>split2_test_score</th>\n",
              "      <th>mean_test_score</th>\n",
              "      <th>std_test_score</th>\n",
              "      <th>rank_test_score</th>\n",
              "    </tr>\n",
              "  </thead>\n",
              "  <tbody>\n",
              "    <tr>\n",
              "      <th>0</th>\n",
              "      <td>0.004327</td>\n",
              "      <td>0.001777</td>\n",
              "      <td>0.002096</td>\n",
              "      <td>0.000981</td>\n",
              "      <td>1</td>\n",
              "      <td>4</td>\n",
              "      <td>{'polynomial_features__degree': 1, 'ridge_regr...</td>\n",
              "      <td>0.672111</td>\n",
              "      <td>0.748235</td>\n",
              "      <td>0.701801</td>\n",
              "      <td>0.707382</td>\n",
              "      <td>0.031327</td>\n",
              "      <td>60</td>\n",
              "    </tr>\n",
              "    <tr>\n",
              "      <th>1</th>\n",
              "      <td>0.003108</td>\n",
              "      <td>0.000098</td>\n",
              "      <td>0.001613</td>\n",
              "      <td>0.000134</td>\n",
              "      <td>1</td>\n",
              "      <td>4.22827</td>\n",
              "      <td>{'polynomial_features__degree': 1, 'ridge_regr...</td>\n",
              "      <td>0.672103</td>\n",
              "      <td>0.748207</td>\n",
              "      <td>0.701986</td>\n",
              "      <td>0.707432</td>\n",
              "      <td>0.031307</td>\n",
              "      <td>59</td>\n",
              "    </tr>\n",
              "    <tr>\n",
              "      <th>2</th>\n",
              "      <td>0.003109</td>\n",
              "      <td>0.000113</td>\n",
              "      <td>0.001579</td>\n",
              "      <td>0.000209</td>\n",
              "      <td>1</td>\n",
              "      <td>4.46956</td>\n",
              "      <td>{'polynomial_features__degree': 1, 'ridge_regr...</td>\n",
              "      <td>0.672093</td>\n",
              "      <td>0.748175</td>\n",
              "      <td>0.702178</td>\n",
              "      <td>0.707482</td>\n",
              "      <td>0.031286</td>\n",
              "      <td>58</td>\n",
              "    </tr>\n",
              "    <tr>\n",
              "      <th>3</th>\n",
              "      <td>0.002954</td>\n",
              "      <td>0.000028</td>\n",
              "      <td>0.001408</td>\n",
              "      <td>0.000026</td>\n",
              "      <td>1</td>\n",
              "      <td>4.72462</td>\n",
              "      <td>{'polynomial_features__degree': 1, 'ridge_regr...</td>\n",
              "      <td>0.672081</td>\n",
              "      <td>0.748141</td>\n",
              "      <td>0.702375</td>\n",
              "      <td>0.707533</td>\n",
              "      <td>0.031265</td>\n",
              "      <td>57</td>\n",
              "    </tr>\n",
              "    <tr>\n",
              "      <th>4</th>\n",
              "      <td>0.002922</td>\n",
              "      <td>0.000035</td>\n",
              "      <td>0.001381</td>\n",
              "      <td>0.000010</td>\n",
              "      <td>1</td>\n",
              "      <td>4.99424</td>\n",
              "      <td>{'polynomial_features__degree': 1, 'ridge_regr...</td>\n",
              "      <td>0.672067</td>\n",
              "      <td>0.748104</td>\n",
              "      <td>0.702579</td>\n",
              "      <td>0.707583</td>\n",
              "      <td>0.031243</td>\n",
              "      <td>56</td>\n",
              "    </tr>\n",
              "    <tr>\n",
              "      <th>...</th>\n",
              "      <td>...</td>\n",
              "      <td>...</td>\n",
              "      <td>...</td>\n",
              "      <td>...</td>\n",
              "      <td>...</td>\n",
              "      <td>...</td>\n",
              "      <td>...</td>\n",
              "      <td>...</td>\n",
              "      <td>...</td>\n",
              "      <td>...</td>\n",
              "      <td>...</td>\n",
              "      <td>...</td>\n",
              "      <td>...</td>\n",
              "    </tr>\n",
              "    <tr>\n",
              "      <th>85</th>\n",
              "      <td>0.027570</td>\n",
              "      <td>0.001015</td>\n",
              "      <td>0.006974</td>\n",
              "      <td>0.000647</td>\n",
              "      <td>3</td>\n",
              "      <td>16.0184</td>\n",
              "      <td>{'polynomial_features__degree': 3, 'ridge_regr...</td>\n",
              "      <td>0.595188</td>\n",
              "      <td>0.802959</td>\n",
              "      <td>0.588724</td>\n",
              "      <td>0.662290</td>\n",
              "      <td>0.099503</td>\n",
              "      <td>65</td>\n",
              "    </tr>\n",
              "    <tr>\n",
              "      <th>86</th>\n",
              "      <td>0.024075</td>\n",
              "      <td>0.006768</td>\n",
              "      <td>0.005328</td>\n",
              "      <td>0.001126</td>\n",
              "      <td>3</td>\n",
              "      <td>16.9326</td>\n",
              "      <td>{'polynomial_features__degree': 3, 'ridge_regr...</td>\n",
              "      <td>0.599857</td>\n",
              "      <td>0.806434</td>\n",
              "      <td>0.599156</td>\n",
              "      <td>0.668482</td>\n",
              "      <td>0.097547</td>\n",
              "      <td>64</td>\n",
              "    </tr>\n",
              "    <tr>\n",
              "      <th>87</th>\n",
              "      <td>0.014649</td>\n",
              "      <td>0.000254</td>\n",
              "      <td>0.003551</td>\n",
              "      <td>0.000153</td>\n",
              "      <td>3</td>\n",
              "      <td>17.8989</td>\n",
              "      <td>{'polynomial_features__degree': 3, 'ridge_regr...</td>\n",
              "      <td>0.604457</td>\n",
              "      <td>0.809709</td>\n",
              "      <td>0.609271</td>\n",
              "      <td>0.674479</td>\n",
              "      <td>0.095643</td>\n",
              "      <td>63</td>\n",
              "    </tr>\n",
              "    <tr>\n",
              "      <th>88</th>\n",
              "      <td>0.020574</td>\n",
              "      <td>0.005698</td>\n",
              "      <td>0.005956</td>\n",
              "      <td>0.001915</td>\n",
              "      <td>3</td>\n",
              "      <td>18.9203</td>\n",
              "      <td>{'polynomial_features__degree': 3, 'ridge_regr...</td>\n",
              "      <td>0.608986</td>\n",
              "      <td>0.812795</td>\n",
              "      <td>0.619075</td>\n",
              "      <td>0.680286</td>\n",
              "      <td>0.093789</td>\n",
              "      <td>62</td>\n",
              "    </tr>\n",
              "    <tr>\n",
              "      <th>89</th>\n",
              "      <td>0.015180</td>\n",
              "      <td>0.000119</td>\n",
              "      <td>0.003769</td>\n",
              "      <td>0.000037</td>\n",
              "      <td>3</td>\n",
              "      <td>20</td>\n",
              "      <td>{'polynomial_features__degree': 3, 'ridge_regr...</td>\n",
              "      <td>0.613441</td>\n",
              "      <td>0.815700</td>\n",
              "      <td>0.628578</td>\n",
              "      <td>0.685907</td>\n",
              "      <td>0.091986</td>\n",
              "      <td>61</td>\n",
              "    </tr>\n",
              "  </tbody>\n",
              "</table>\n",
              "<p>90 rows × 13 columns</p>\n",
              "</div>"
            ],
            "text/plain": [
              "    mean_fit_time  std_fit_time  ...  std_test_score  rank_test_score\n",
              "0        0.004327      0.001777  ...        0.031327               60\n",
              "1        0.003108      0.000098  ...        0.031307               59\n",
              "2        0.003109      0.000113  ...        0.031286               58\n",
              "3        0.002954      0.000028  ...        0.031265               57\n",
              "4        0.002922      0.000035  ...        0.031243               56\n",
              "..            ...           ...  ...             ...              ...\n",
              "85       0.027570      0.001015  ...        0.099503               65\n",
              "86       0.024075      0.006768  ...        0.097547               64\n",
              "87       0.014649      0.000254  ...        0.095643               63\n",
              "88       0.020574      0.005698  ...        0.093789               62\n",
              "89       0.015180      0.000119  ...        0.091986               61\n",
              "\n",
              "[90 rows x 13 columns]"
            ]
          },
          "metadata": {},
          "execution_count": 67
        }
      ]
    },
    {
      "cell_type": "markdown",
      "metadata": {
        "id": "cDHtCVQn2Ceq"
      },
      "source": [
        "## Summary\n",
        "\n",
        "1. We can manually generate folds by using `KFolds`\n",
        "2. We can get a score using `cross_val_predict(X, y, cv=KFoldObject_or_integer)`. \n",
        "   This will produce the out-of-bag prediction for each row.\n",
        "3. When doing hyperparameter selection, we should be optimizing on out-of-bag scores. This means either using `cross_val_predict` in a loop, or ....\n",
        "4. .... use `GridSearchCV`. GridSearchCV takes a model (or pipeline) and a dictionary of parameters to scan over. It finds the hyperparameter set that has the best out-of-sample score on all the parameters, and calls that it's \"best estimator\". It then retrains on all data with the \"best\" hyper-parameters.\n",
        "\n",
        "### Extensions\n",
        "\n",
        "Here are some additional items to keep in mind:\n",
        "* There is a `RandomSearchCV` that tries random combination of model parameters. This can be helpful if you have a prohibitive number of combinations to test them all exhaustively.\n",
        "* KFolds will randomly select rows to be in the training and test folds. There are other methods (such as `StratifiedKFolds` and `GroupKFold`, which are useful when you need more control over how the data is split (e.g. to prevent data leakage). You can create these specialized objects and pass them to the `cv` argument of `GridSearchCV`."
      ]
    },
    {
      "cell_type": "markdown",
      "metadata": {
        "id": "t6LZ91kf2Ceq"
      },
      "source": [
        "---\n",
        "### Machine Learning Foundation (C) 2020 IBM Corporation"
      ]
    }
  ]
}