{
  "nbformat": 4,
  "nbformat_minor": 0,
  "metadata": {
    "kernelspec": {
      "display_name": "Python 3",
      "language": "python",
      "name": "python3"
    },
    "language_info": {
      "codemirror_mode": {
        "name": "ipython",
        "version": 3
      },
      "file_extension": ".py",
      "mimetype": "text/x-python",
      "name": "python",
      "nbconvert_exporter": "python",
      "pygments_lexer": "ipython3",
      "version": "3.7.6"
    },
    "colab": {
      "name": "02a_LAB_Transforming_Target.ipynb",
      "provenance": [],
      "include_colab_link": true
    }
  },
  "cells": [
    {
      "cell_type": "markdown",
      "metadata": {
        "id": "view-in-github",
        "colab_type": "text"
      },
      "source": [
        "<a href=\"https://colab.research.google.com/github/poduguvenu/Supervised-Machine-Learning/blob/main/02a_LAB_Transforming_Target.ipynb\" target=\"_parent\"><img src=\"https://colab.research.google.com/assets/colab-badge.svg\" alt=\"Open In Colab\"/></a>"
      ]
    },
    {
      "cell_type": "markdown",
      "metadata": {
        "id": "IxwZr0sl-lsm"
      },
      "source": [
        "# Machine Learning Foundation\n",
        "\n",
        "## Section 2, Part a: Regression Intro: Transforming Target "
      ]
    },
    {
      "cell_type": "markdown",
      "metadata": {
        "id": "6h0j_LjF-lso"
      },
      "source": [
        "## Learning objectives\n",
        "\n",
        "By the end of this lesson, you will be able to:\n",
        "\n",
        "* Apply transformations to make target variable more normally distributed for regression\n",
        "* Apply inverse transformations to be able to use these in a regression context"
      ]
    },
    {
      "cell_type": "code",
      "metadata": {
        "id": "a_Y6v0bk-lsp"
      },
      "source": [
        "import numpy as np\n",
        "import pandas as pd\n",
        "import matplotlib.pyplot as plt\n",
        "%matplotlib inline\n",
        "\n",
        "from helper import (plot_exponential_data, \n",
        "                    plot_square_normal_data)\n",
        "\n",
        "import warnings\n",
        "warnings.simplefilter(\"ignore\")"
      ],
      "execution_count": 2,
      "outputs": []
    },
    {
      "cell_type": "markdown",
      "metadata": {
        "id": "LDYPMz_c-lsp"
      },
      "source": [
        "### Loading in Boston Data"
      ]
    },
    {
      "cell_type": "markdown",
      "metadata": {
        "id": "J3AdNpDR-lsq"
      },
      "source": [
        "**Note:** See `helper.py` file to see how boston data is read in from SciKit Learn."
      ]
    },
    {
      "cell_type": "code",
      "metadata": {
        "id": "zvW48r3N-lsr"
      },
      "source": [
        "from helper import boston_dataframe\n",
        "boston_data = boston_dataframe()"
      ],
      "execution_count": 3,
      "outputs": []
    },
    {
      "cell_type": "code",
      "metadata": {
        "colab": {
          "base_uri": "https://localhost:8080/",
          "height": 502
        },
        "id": "znBXbnfa-lss",
        "outputId": "7654fb87-688a-4632-dad1-95cb9632374d"
      },
      "source": [
        "boston_data.head(15)"
      ],
      "execution_count": 4,
      "outputs": [
        {
          "output_type": "execute_result",
          "data": {
            "text/html": [
              "<div>\n",
              "<style scoped>\n",
              "    .dataframe tbody tr th:only-of-type {\n",
              "        vertical-align: middle;\n",
              "    }\n",
              "\n",
              "    .dataframe tbody tr th {\n",
              "        vertical-align: top;\n",
              "    }\n",
              "\n",
              "    .dataframe thead th {\n",
              "        text-align: right;\n",
              "    }\n",
              "</style>\n",
              "<table border=\"1\" class=\"dataframe\">\n",
              "  <thead>\n",
              "    <tr style=\"text-align: right;\">\n",
              "      <th></th>\n",
              "      <th>CRIM</th>\n",
              "      <th>ZN</th>\n",
              "      <th>INDUS</th>\n",
              "      <th>CHAS</th>\n",
              "      <th>NOX</th>\n",
              "      <th>RM</th>\n",
              "      <th>AGE</th>\n",
              "      <th>DIS</th>\n",
              "      <th>RAD</th>\n",
              "      <th>TAX</th>\n",
              "      <th>PTRATIO</th>\n",
              "      <th>B</th>\n",
              "      <th>LSTAT</th>\n",
              "      <th>MEDV</th>\n",
              "    </tr>\n",
              "  </thead>\n",
              "  <tbody>\n",
              "    <tr>\n",
              "      <th>0</th>\n",
              "      <td>0.00632</td>\n",
              "      <td>18.0</td>\n",
              "      <td>2.31</td>\n",
              "      <td>0.0</td>\n",
              "      <td>0.538</td>\n",
              "      <td>6.575</td>\n",
              "      <td>65.2</td>\n",
              "      <td>4.0900</td>\n",
              "      <td>1.0</td>\n",
              "      <td>296.0</td>\n",
              "      <td>15.3</td>\n",
              "      <td>396.90</td>\n",
              "      <td>4.98</td>\n",
              "      <td>24.0</td>\n",
              "    </tr>\n",
              "    <tr>\n",
              "      <th>1</th>\n",
              "      <td>0.02731</td>\n",
              "      <td>0.0</td>\n",
              "      <td>7.07</td>\n",
              "      <td>0.0</td>\n",
              "      <td>0.469</td>\n",
              "      <td>6.421</td>\n",
              "      <td>78.9</td>\n",
              "      <td>4.9671</td>\n",
              "      <td>2.0</td>\n",
              "      <td>242.0</td>\n",
              "      <td>17.8</td>\n",
              "      <td>396.90</td>\n",
              "      <td>9.14</td>\n",
              "      <td>21.6</td>\n",
              "    </tr>\n",
              "    <tr>\n",
              "      <th>2</th>\n",
              "      <td>0.02729</td>\n",
              "      <td>0.0</td>\n",
              "      <td>7.07</td>\n",
              "      <td>0.0</td>\n",
              "      <td>0.469</td>\n",
              "      <td>7.185</td>\n",
              "      <td>61.1</td>\n",
              "      <td>4.9671</td>\n",
              "      <td>2.0</td>\n",
              "      <td>242.0</td>\n",
              "      <td>17.8</td>\n",
              "      <td>392.83</td>\n",
              "      <td>4.03</td>\n",
              "      <td>34.7</td>\n",
              "    </tr>\n",
              "    <tr>\n",
              "      <th>3</th>\n",
              "      <td>0.03237</td>\n",
              "      <td>0.0</td>\n",
              "      <td>2.18</td>\n",
              "      <td>0.0</td>\n",
              "      <td>0.458</td>\n",
              "      <td>6.998</td>\n",
              "      <td>45.8</td>\n",
              "      <td>6.0622</td>\n",
              "      <td>3.0</td>\n",
              "      <td>222.0</td>\n",
              "      <td>18.7</td>\n",
              "      <td>394.63</td>\n",
              "      <td>2.94</td>\n",
              "      <td>33.4</td>\n",
              "    </tr>\n",
              "    <tr>\n",
              "      <th>4</th>\n",
              "      <td>0.06905</td>\n",
              "      <td>0.0</td>\n",
              "      <td>2.18</td>\n",
              "      <td>0.0</td>\n",
              "      <td>0.458</td>\n",
              "      <td>7.147</td>\n",
              "      <td>54.2</td>\n",
              "      <td>6.0622</td>\n",
              "      <td>3.0</td>\n",
              "      <td>222.0</td>\n",
              "      <td>18.7</td>\n",
              "      <td>396.90</td>\n",
              "      <td>5.33</td>\n",
              "      <td>36.2</td>\n",
              "    </tr>\n",
              "    <tr>\n",
              "      <th>5</th>\n",
              "      <td>0.02985</td>\n",
              "      <td>0.0</td>\n",
              "      <td>2.18</td>\n",
              "      <td>0.0</td>\n",
              "      <td>0.458</td>\n",
              "      <td>6.430</td>\n",
              "      <td>58.7</td>\n",
              "      <td>6.0622</td>\n",
              "      <td>3.0</td>\n",
              "      <td>222.0</td>\n",
              "      <td>18.7</td>\n",
              "      <td>394.12</td>\n",
              "      <td>5.21</td>\n",
              "      <td>28.7</td>\n",
              "    </tr>\n",
              "    <tr>\n",
              "      <th>6</th>\n",
              "      <td>0.08829</td>\n",
              "      <td>12.5</td>\n",
              "      <td>7.87</td>\n",
              "      <td>0.0</td>\n",
              "      <td>0.524</td>\n",
              "      <td>6.012</td>\n",
              "      <td>66.6</td>\n",
              "      <td>5.5605</td>\n",
              "      <td>5.0</td>\n",
              "      <td>311.0</td>\n",
              "      <td>15.2</td>\n",
              "      <td>395.60</td>\n",
              "      <td>12.43</td>\n",
              "      <td>22.9</td>\n",
              "    </tr>\n",
              "    <tr>\n",
              "      <th>7</th>\n",
              "      <td>0.14455</td>\n",
              "      <td>12.5</td>\n",
              "      <td>7.87</td>\n",
              "      <td>0.0</td>\n",
              "      <td>0.524</td>\n",
              "      <td>6.172</td>\n",
              "      <td>96.1</td>\n",
              "      <td>5.9505</td>\n",
              "      <td>5.0</td>\n",
              "      <td>311.0</td>\n",
              "      <td>15.2</td>\n",
              "      <td>396.90</td>\n",
              "      <td>19.15</td>\n",
              "      <td>27.1</td>\n",
              "    </tr>\n",
              "    <tr>\n",
              "      <th>8</th>\n",
              "      <td>0.21124</td>\n",
              "      <td>12.5</td>\n",
              "      <td>7.87</td>\n",
              "      <td>0.0</td>\n",
              "      <td>0.524</td>\n",
              "      <td>5.631</td>\n",
              "      <td>100.0</td>\n",
              "      <td>6.0821</td>\n",
              "      <td>5.0</td>\n",
              "      <td>311.0</td>\n",
              "      <td>15.2</td>\n",
              "      <td>386.63</td>\n",
              "      <td>29.93</td>\n",
              "      <td>16.5</td>\n",
              "    </tr>\n",
              "    <tr>\n",
              "      <th>9</th>\n",
              "      <td>0.17004</td>\n",
              "      <td>12.5</td>\n",
              "      <td>7.87</td>\n",
              "      <td>0.0</td>\n",
              "      <td>0.524</td>\n",
              "      <td>6.004</td>\n",
              "      <td>85.9</td>\n",
              "      <td>6.5921</td>\n",
              "      <td>5.0</td>\n",
              "      <td>311.0</td>\n",
              "      <td>15.2</td>\n",
              "      <td>386.71</td>\n",
              "      <td>17.10</td>\n",
              "      <td>18.9</td>\n",
              "    </tr>\n",
              "    <tr>\n",
              "      <th>10</th>\n",
              "      <td>0.22489</td>\n",
              "      <td>12.5</td>\n",
              "      <td>7.87</td>\n",
              "      <td>0.0</td>\n",
              "      <td>0.524</td>\n",
              "      <td>6.377</td>\n",
              "      <td>94.3</td>\n",
              "      <td>6.3467</td>\n",
              "      <td>5.0</td>\n",
              "      <td>311.0</td>\n",
              "      <td>15.2</td>\n",
              "      <td>392.52</td>\n",
              "      <td>20.45</td>\n",
              "      <td>15.0</td>\n",
              "    </tr>\n",
              "    <tr>\n",
              "      <th>11</th>\n",
              "      <td>0.11747</td>\n",
              "      <td>12.5</td>\n",
              "      <td>7.87</td>\n",
              "      <td>0.0</td>\n",
              "      <td>0.524</td>\n",
              "      <td>6.009</td>\n",
              "      <td>82.9</td>\n",
              "      <td>6.2267</td>\n",
              "      <td>5.0</td>\n",
              "      <td>311.0</td>\n",
              "      <td>15.2</td>\n",
              "      <td>396.90</td>\n",
              "      <td>13.27</td>\n",
              "      <td>18.9</td>\n",
              "    </tr>\n",
              "    <tr>\n",
              "      <th>12</th>\n",
              "      <td>0.09378</td>\n",
              "      <td>12.5</td>\n",
              "      <td>7.87</td>\n",
              "      <td>0.0</td>\n",
              "      <td>0.524</td>\n",
              "      <td>5.889</td>\n",
              "      <td>39.0</td>\n",
              "      <td>5.4509</td>\n",
              "      <td>5.0</td>\n",
              "      <td>311.0</td>\n",
              "      <td>15.2</td>\n",
              "      <td>390.50</td>\n",
              "      <td>15.71</td>\n",
              "      <td>21.7</td>\n",
              "    </tr>\n",
              "    <tr>\n",
              "      <th>13</th>\n",
              "      <td>0.62976</td>\n",
              "      <td>0.0</td>\n",
              "      <td>8.14</td>\n",
              "      <td>0.0</td>\n",
              "      <td>0.538</td>\n",
              "      <td>5.949</td>\n",
              "      <td>61.8</td>\n",
              "      <td>4.7075</td>\n",
              "      <td>4.0</td>\n",
              "      <td>307.0</td>\n",
              "      <td>21.0</td>\n",
              "      <td>396.90</td>\n",
              "      <td>8.26</td>\n",
              "      <td>20.4</td>\n",
              "    </tr>\n",
              "    <tr>\n",
              "      <th>14</th>\n",
              "      <td>0.63796</td>\n",
              "      <td>0.0</td>\n",
              "      <td>8.14</td>\n",
              "      <td>0.0</td>\n",
              "      <td>0.538</td>\n",
              "      <td>6.096</td>\n",
              "      <td>84.5</td>\n",
              "      <td>4.4619</td>\n",
              "      <td>4.0</td>\n",
              "      <td>307.0</td>\n",
              "      <td>21.0</td>\n",
              "      <td>380.02</td>\n",
              "      <td>10.26</td>\n",
              "      <td>18.2</td>\n",
              "    </tr>\n",
              "  </tbody>\n",
              "</table>\n",
              "</div>"
            ],
            "text/plain": [
              "       CRIM    ZN  INDUS  CHAS    NOX  ...    TAX  PTRATIO       B  LSTAT  MEDV\n",
              "0   0.00632  18.0   2.31   0.0  0.538  ...  296.0     15.3  396.90   4.98  24.0\n",
              "1   0.02731   0.0   7.07   0.0  0.469  ...  242.0     17.8  396.90   9.14  21.6\n",
              "2   0.02729   0.0   7.07   0.0  0.469  ...  242.0     17.8  392.83   4.03  34.7\n",
              "3   0.03237   0.0   2.18   0.0  0.458  ...  222.0     18.7  394.63   2.94  33.4\n",
              "4   0.06905   0.0   2.18   0.0  0.458  ...  222.0     18.7  396.90   5.33  36.2\n",
              "5   0.02985   0.0   2.18   0.0  0.458  ...  222.0     18.7  394.12   5.21  28.7\n",
              "6   0.08829  12.5   7.87   0.0  0.524  ...  311.0     15.2  395.60  12.43  22.9\n",
              "7   0.14455  12.5   7.87   0.0  0.524  ...  311.0     15.2  396.90  19.15  27.1\n",
              "8   0.21124  12.5   7.87   0.0  0.524  ...  311.0     15.2  386.63  29.93  16.5\n",
              "9   0.17004  12.5   7.87   0.0  0.524  ...  311.0     15.2  386.71  17.10  18.9\n",
              "10  0.22489  12.5   7.87   0.0  0.524  ...  311.0     15.2  392.52  20.45  15.0\n",
              "11  0.11747  12.5   7.87   0.0  0.524  ...  311.0     15.2  396.90  13.27  18.9\n",
              "12  0.09378  12.5   7.87   0.0  0.524  ...  311.0     15.2  390.50  15.71  21.7\n",
              "13  0.62976   0.0   8.14   0.0  0.538  ...  307.0     21.0  396.90   8.26  20.4\n",
              "14  0.63796   0.0   8.14   0.0  0.538  ...  307.0     21.0  380.02  10.26  18.2\n",
              "\n",
              "[15 rows x 14 columns]"
            ]
          },
          "metadata": {},
          "execution_count": 4
        }
      ]
    },
    {
      "cell_type": "markdown",
      "metadata": {
        "id": "N2FJvKHJ-lss"
      },
      "source": [
        "### Determining Normality"
      ]
    },
    {
      "cell_type": "markdown",
      "metadata": {
        "id": "ZBczeJIN-lst"
      },
      "source": [
        "Making our target variable normally distributed often will lead to better results\n",
        "\n",
        "If our target is not normally distributed, we can apply a transformation to it and then fit our regression to predict the transformed values.\n",
        "\n",
        "How can we tell if our target is normally distributed? There are two ways:\n",
        "\n",
        "* Visually\n",
        "* Using a statistical test"
      ]
    },
    {
      "cell_type": "markdown",
      "metadata": {
        "id": "XvEe0Kw4-lsu"
      },
      "source": [
        "#### Visually"
      ]
    },
    {
      "cell_type": "markdown",
      "metadata": {
        "id": "_KPsd37d-lsu"
      },
      "source": [
        "Plotting a histogram:"
      ]
    },
    {
      "cell_type": "code",
      "metadata": {
        "colab": {
          "base_uri": "https://localhost:8080/",
          "height": 267
        },
        "id": "qQ0ROeyo-lsu",
        "outputId": "a5570409-8d43-4e1f-9811-f8c96336d429"
      },
      "source": [
        "boston_data.MEDV.hist();"
      ],
      "execution_count": 5,
      "outputs": [
        {
          "output_type": "display_data",
          "data": {
            "image/png": "[encoded data removed]",
            "text/plain": [
              "<Figure size 432x288 with 1 Axes>"
            ]
          },
          "metadata": {
            "needs_background": "light"
          }
        }
      ]
    },
    {
      "cell_type": "markdown",
      "metadata": {
        "id": "2ALVzHbz-lsv"
      },
      "source": [
        "Does not look normal due to that right tail. Let's try to verify statistically:"
      ]
    },
    {
      "cell_type": "code",
      "metadata": {
        "id": "M-1GXU0R-lsv"
      },
      "source": [
        "from scipy.stats.mstats import normaltest # D'Agostino K^2 Test"
      ],
      "execution_count": 6,
      "outputs": []
    },
    {
      "cell_type": "markdown",
      "metadata": {
        "id": "A8ITbcOt-lsv"
      },
      "source": [
        "Without getting into Bayesian vs. frequentist debates, for the purposes of this lesson, the following will suffice:\n",
        "\n",
        "* This is a statistical test that tests whether a distribution is normally distributed or not. It isn't perfect, but suffice it to say: \n",
        "    * This test outputs a \"p-value\". The _higher_ this p-value is the _closer_ the distribution is to normal.\n",
        "    * Frequentist statisticians would say that you accept that the distribution is normal (more specifically: fail to reject the null hypothesis that it is normal) if p > 0.05."
      ]
    },
    {
      "cell_type": "code",
      "metadata": {
        "colab": {
          "base_uri": "https://localhost:8080/"
        },
        "id": "JP5uPOuT-lsw",
        "outputId": "fa34ce36-c104-41d8-c861-aa363308b06e"
      },
      "source": [
        "normaltest(boston_data.MEDV.values)"
      ],
      "execution_count": 7,
      "outputs": [
        {
          "output_type": "execute_result",
          "data": {
            "text/plain": [
              "NormaltestResult(statistic=90.9746873700967, pvalue=1.7583188871696095e-20)"
            ]
          },
          "metadata": {},
          "execution_count": 7
        }
      ]
    },
    {
      "cell_type": "markdown",
      "metadata": {
        "id": "2QjnwRnr-lsw"
      },
      "source": [
        "p-value _extremely_ low. Our y variable we've been dealing with this whole time was not normally distributed!"
      ]
    },
    {
      "cell_type": "markdown",
      "metadata": {
        "id": "ZkvPL8FZ-lsw"
      },
      "source": [
        "Linear Regression assumes a normally distributed residuals which can be aided by transforming y variable. Let's try some common transformations to try and get y to be normally distributed: \n",
        "\n",
        "* Log\n",
        "* Square root\n",
        "* Box cox"
      ]
    },
    {
      "cell_type": "markdown",
      "metadata": {
        "id": "waamHvhf-lsw"
      },
      "source": [
        "### Testing log"
      ]
    },
    {
      "cell_type": "markdown",
      "metadata": {
        "id": "oq7alt4u-lsx"
      },
      "source": [
        "The log transform can transform data that is significantly skewed right to be more normally distributed:"
      ]
    },
    {
      "cell_type": "code",
      "metadata": {
        "colab": {
          "base_uri": "https://localhost:8080/",
          "height": 265
        },
        "id": "qNn8S4hr-lsx",
        "outputId": "b8d9e86c-6ade-47a3-ae2d-50aad5b309f9"
      },
      "source": [
        "data = plot_exponential_data()"
      ],
      "execution_count": 9,
      "outputs": [
        {
          "output_type": "display_data",
          "data": {
            "image/png": "[encoded data removed]",
            "text/plain": [
              "<Figure size 432x288 with 1 Axes>"
            ]
          },
          "metadata": {
            "needs_background": "light"
          }
        }
      ]
    },
    {
      "cell_type": "code",
      "metadata": {
        "colab": {
          "base_uri": "https://localhost:8080/",
          "height": 265
        },
        "id": "d_3fJ9Pw-lsx",
        "outputId": "9aac0ee3-703c-4739-ebdc-9caaa980c0f5"
      },
      "source": [
        "plt.hist(np.log(data));"
      ],
      "execution_count": 10,
      "outputs": [
        {
          "output_type": "display_data",
          "data": {
            "image/png": "[encoded data removed]",
            "text/plain": [
              "<Figure size 432x288 with 1 Axes>"
            ]
          },
          "metadata": {
            "needs_background": "light"
          }
        }
      ]
    },
    {
      "cell_type": "markdown",
      "metadata": {
        "id": "XvVB_sf3-lsy"
      },
      "source": [
        "**Apply transform to Boston data:**"
      ]
    },
    {
      "cell_type": "code",
      "metadata": {
        "id": "jP52Qqzh-lsy"
      },
      "source": [
        "log_medv = np.log(boston_data.MEDV)"
      ],
      "execution_count": 11,
      "outputs": []
    },
    {
      "cell_type": "code",
      "metadata": {
        "colab": {
          "base_uri": "https://localhost:8080/",
          "height": 265
        },
        "id": "18uX4Nyf-lsy",
        "outputId": "0b0371cd-6d38-415c-c0ba-21d903f4ab18"
      },
      "source": [
        "log_medv.hist();"
      ],
      "execution_count": 12,
      "outputs": [
        {
          "output_type": "display_data",
          "data": {
            "image/png": "[encoded data removed]",
            "text/plain": [
              "<Figure size 432x288 with 1 Axes>"
            ]
          },
          "metadata": {
            "needs_background": "light"
          }
        }
      ]
    },
    {
      "cell_type": "code",
      "metadata": {
        "colab": {
          "base_uri": "https://localhost:8080/"
        },
        "id": "dO3dfAct-lsy",
        "outputId": "472e5f31-130b-46da-9144-6ba141b4bbbb"
      },
      "source": [
        "normaltest(log_medv)"
      ],
      "execution_count": 13,
      "outputs": [
        {
          "output_type": "execute_result",
          "data": {
            "text/plain": [
              "NormaltestResult(statistic=17.21801696640698, pvalue=0.00018245472768345196)"
            ]
          },
          "metadata": {},
          "execution_count": 13
        }
      ]
    },
    {
      "cell_type": "markdown",
      "metadata": {
        "id": "TCFoA7ts-lsz"
      },
      "source": [
        "Conclusion: closer, but still not normal."
      ]
    },
    {
      "cell_type": "markdown",
      "metadata": {
        "id": "aHfBa0dn-lsz"
      },
      "source": [
        "### Exercise: \n",
        "\n",
        "The square root transformation is another transformation that can transform non-normally distributed data into normally distributed data:"
      ]
    },
    {
      "cell_type": "code",
      "metadata": {
        "scrolled": true,
        "colab": {
          "base_uri": "https://localhost:8080/",
          "height": 267
        },
        "id": "pXNVEpQo-lsz",
        "outputId": "12e4af29-d912-4a71-bc15-14b3e86e1883"
      },
      "source": [
        "data = plot_square_normal_data()"
      ],
      "execution_count": 14,
      "outputs": [
        {
          "output_type": "display_data",
          "data": {
            "image/png": "[encoded data removed]",
            "text/plain": [
              "<Figure size 432x288 with 1 Axes>"
            ]
          },
          "metadata": {
            "needs_background": "light"
          }
        }
      ]
    },
    {
      "cell_type": "markdown",
      "metadata": {
        "id": "tev4As3k-lsz"
      },
      "source": [
        "Slightly skewed right."
      ]
    },
    {
      "cell_type": "code",
      "metadata": {
        "scrolled": true,
        "colab": {
          "base_uri": "https://localhost:8080/",
          "height": 265
        },
        "id": "GODqTfNQ-lsz",
        "outputId": "60aa5a76-d3a5-436a-e098-7e161d910cc7"
      },
      "source": [
        "plt.hist(np.sqrt(data));"
      ],
      "execution_count": 15,
      "outputs": [
        {
          "output_type": "display_data",
          "data": {
            "image/png": "[encoded data removed]",
            "text/plain": [
              "<Figure size 432x288 with 1 Axes>"
            ]
          },
          "metadata": {
            "needs_background": "light"
          }
        }
      ]
    },
    {
      "cell_type": "markdown",
      "metadata": {
        "id": "8lquvGzF-lsz"
      },
      "source": [
        "Apply the square root transformation to the Boston data target and test whether the result is normally distributed."
      ]
    },
    {
      "cell_type": "code",
      "metadata": {
        "colab": {
          "base_uri": "https://localhost:8080/",
          "height": 265
        },
        "id": "D9eIUJZk-lsz",
        "outputId": "f077c187-3ecf-4d48-db84-e295d7771d51"
      },
      "source": [
        "sqrt_medv = np.sqrt(boston_data.MEDV)\n",
        "plt.hist(sqrt_medv);"
      ],
      "execution_count": 18,
      "outputs": [
        {
          "output_type": "display_data",
          "data": {
            "image/png": "[encoded data removed]",
            "text/plain": [
              "<Figure size 432x288 with 1 Axes>"
            ]
          },
          "metadata": {
            "needs_background": "light"
          }
        }
      ]
    },
    {
      "cell_type": "code",
      "metadata": {
        "colab": {
          "base_uri": "https://localhost:8080/",
          "height": 346
        },
        "id": "F313T5pg-ls0",
        "outputId": "ab98ded2-00b2-4d75-f2aa-e21dc3f83bf0"
      },
      "source": [
        "# Instructor Solution\n",
        "\n",
        "sqrt_medv = np.sqrt(boston_data.MEDV)\n",
        "plt.hist(sqrt_medv)"
      ],
      "execution_count": 19,
      "outputs": [
        {
          "output_type": "execute_result",
          "data": {
            "text/plain": [
              "(array([  9.,  18.,  40.,  67., 131., 121.,  48.,  36.,  10.,  26.]),\n",
              " array([2.23606798, 2.71956796, 3.20306794, 3.68656793, 4.17006791,\n",
              "        4.65356789, 5.13706788, 5.62056786, 6.10406784, 6.58756783,\n",
              "        7.07106781]),\n",
              " <a list of 10 Patch objects>)"
            ]
          },
          "metadata": {},
          "execution_count": 19
        },
        {
          "output_type": "display_data",
          "data": {
            "image/png": "[encoded data removed]",
            "text/plain": [
              "<Figure size 432x288 with 1 Axes>"
            ]
          },
          "metadata": {
            "needs_background": "light"
          }
        }
      ]
    },
    {
      "cell_type": "code",
      "metadata": {
        "colab": {
          "base_uri": "https://localhost:8080/"
        },
        "id": "WUtiC764-ls0",
        "outputId": "79f77cf8-d9aa-476f-a00d-752b23988d37"
      },
      "source": [
        "normaltest(sqrt_medv)"
      ],
      "execution_count": 20,
      "outputs": [
        {
          "output_type": "execute_result",
          "data": {
            "text/plain": [
              "NormaltestResult(statistic=20.487090826863067, pvalue=3.558645701429252e-05)"
            ]
          },
          "metadata": {},
          "execution_count": 20
        }
      ]
    },
    {
      "cell_type": "markdown",
      "metadata": {
        "id": "BAbaYmq3-ls0"
      },
      "source": [
        "### Box cox"
      ]
    },
    {
      "cell_type": "markdown",
      "metadata": {
        "id": "TvsujXjz-ls0"
      },
      "source": [
        "The box cox transformation is a parametrized transformation that tries to get distributions \"as close to a normal distribution as possible\".\n",
        "\n",
        "It is defined as:\n",
        "\n",
        "$$ \\text{boxcox}(y_i) = \\frac{y_i^{\\lambda} - 1}{\\lambda} $$\n",
        "\n",
        "You can think of as a generalization of the square root function: the square root function uses the exponent of 0.5, but box cox lets its exponent vary so it can find the best one."
      ]
    },
    {
      "cell_type": "code",
      "metadata": {
        "id": "eQ2H9uWQ-ls1"
      },
      "source": [
        "from scipy.stats import boxcox"
      ],
      "execution_count": 21,
      "outputs": []
    },
    {
      "cell_type": "code",
      "metadata": {
        "id": "imtJbaMk-ls1"
      },
      "source": [
        "bc_result = boxcox(boston_data.MEDV)\n",
        "boxcox_medv = bc_result[0]\n",
        "lam = bc_result[1]"
      ],
      "execution_count": 22,
      "outputs": []
    },
    {
      "cell_type": "code",
      "metadata": {
        "colab": {
          "base_uri": "https://localhost:8080/"
        },
        "id": "-4TQ9rf6Ig-N",
        "outputId": "bdeccc80-20b3-41b3-b8dd-7b662ce0917b"
      },
      "source": [
        "len(bc_result)"
      ],
      "execution_count": 42,
      "outputs": [
        {
          "output_type": "execute_result",
          "data": {
            "text/plain": [
              "2"
            ]
          },
          "metadata": {},
          "execution_count": 42
        }
      ]
    },
    {
      "cell_type": "code",
      "metadata": {
        "colab": {
          "base_uri": "https://localhost:8080/"
        },
        "id": "sbSfzQh3Cz3r",
        "outputId": "39d53b3e-15b4-43e7-f70e-e2ec32ab7164"
      },
      "source": [
        "bc_result[0]"
      ],
      "execution_count": 43,
      "outputs": [
        {
          "output_type": "execute_result",
          "data": {
            "text/plain": [
              "array([4.57293637, 4.36558166, 5.33694273, 5.25495447, 5.42860689,\n",
              "       4.93592663, 4.48001683, 4.81796329, 3.85654088, 4.10949441,\n",
              "       3.68340136, 4.10949441, 4.37457314, 4.25505556, 4.03844836,\n",
              "       4.20749535, 4.49716757, 3.96522837, 4.23614226, 4.03844836,\n",
              "       3.50909851, 4.17850811, 3.70724917, 3.62267296, 3.75421675,\n",
              "       3.54759408, 3.86763825, 3.65930314, 4.05896259, 4.31093716,\n",
              "       3.38947462, 3.62267296, 3.45672253, 3.44343457, 3.49611884,\n",
              "       4.10949441, 4.21708168, 4.31093716, 4.63034334, 5.08317362,\n",
              "       5.34934183, 4.77998166, 4.67854354, 4.63034334, 4.32928636,\n",
              "       4.14917118, 4.21708168, 3.86763825, 3.61033098, 4.15898961,\n",
              "       4.18820891, 4.26445779, 4.65455672, 4.52267685, 4.10949441,\n",
              "       5.3800978 , 4.63034334, 5.1372014 , 4.51420237, 4.17850811,\n",
              "       4.08940884, 3.80025017, 4.41904971, 4.65455672, 5.2292247 ,\n",
              "       4.53112301, 4.15898961, 4.40135419, 3.95458193, 4.30171118,\n",
              "       4.58947077, 4.37457314, 4.47139742, 4.52267685, 4.58121701,\n",
              "       4.34750044, 4.21708168, 4.29245055, 4.32928636, 4.24561716,\n",
              "       4.88496846, 4.56462866, 4.63843994, 4.48001683, 4.56462866,\n",
              "       4.77998166, 4.44536027, 4.41904971, 4.53954106, 4.93592663,\n",
              "       4.45406938, 4.40135419, 4.48001683, 4.65455672, 4.27382416,\n",
              "       4.91420798, 4.34750044, 5.57497399, 5.85196639, 5.24211994,\n",
              "       4.84795531, 4.77231832, 4.07930288, 4.14917118, 4.22663054,\n",
              "       4.16876846, 4.16876846, 4.25505556, 4.19787121, 4.15898961,\n",
              "       4.37457314, 4.47139742, 4.09947255, 4.08940884, 4.06915427,\n",
              "       4.04872743, 4.32928636, 4.13931283, 4.25505556, 4.14917118,\n",
              "       4.40135419, 4.24561716, 4.26445779, 3.94388745, 4.09947255,\n",
              "       4.34750044, 3.76581102, 3.82292958, 4.01775677, 3.59792167,\n",
              "       4.13931283, 4.17850811, 4.4886068 , 4.05896259, 3.75421675,\n",
              "       4.02812495, 3.95458193, 3.92235239, 3.46993187, 3.99688428,\n",
              "       3.56028128, 3.61033098, 3.48306363, 3.75421675, 3.2630138 ,\n",
              "       3.53483518, 3.75421675, 3.63494845, 3.99688428, 3.73085242,\n",
              "       4.35655752, 4.17850811, 3.71908101, 4.15898961, 3.91151078,\n",
              "       3.75421675, 3.44343457, 5.7195379 , 4.59769786, 4.51420237,\n",
              "       4.81041115, 6.15652607, 6.15652607, 6.15652607, 4.46274835,\n",
              "       4.65455672, 6.15652607, 4.55629368, 4.55629368, 4.42785068,\n",
              "       3.95458193, 4.12941417, 4.49716757, 4.53954106, 4.45406938,\n",
              "       4.98592025, 4.50569935, 4.62222102, 5.02106203, 5.48807609,\n",
              "       5.63703686, 5.42860689, 5.52896357, 5.19671664, 4.76463229,\n",
              "       5.00003273, 6.15652607, 5.16381441, 5.01407071, 5.34934183,\n",
              "       5.47628332, 5.06262961, 5.44060278, 5.10356146, 4.96460985,\n",
              "       6.15652607, 5.24854476, 5.0488455 , 5.33072218, 5.34934183,\n",
              "       5.22275411, 4.58121701, 5.77324341, 6.08567947, 6.15652607,\n",
              "       4.45406938, 4.60589847, 4.44536027, 4.60589847, 4.21708168,\n",
              "       4.37457314, 4.14917118, 4.43662078, 4.89230887, 4.54793121,\n",
              "       4.65455672, 4.51420237, 4.93592663, 4.35655752, 4.4886068 ,\n",
              "       4.78762246, 4.37457314, 4.84795531, 5.03498992, 5.90328261,\n",
              "       6.15652607, 5.51151342, 5.1372014 , 5.99836093, 5.13050694,\n",
              "       4.59769786, 5.14387928, 5.74114106, 6.07610405, 4.95746814,\n",
              "       4.57293637, 4.66257726, 5.13050694, 4.54793121, 4.51420237,\n",
              "       4.40135419, 4.22663054, 4.41904971, 4.54793121, 3.97582725,\n",
              "       4.06915427, 4.59769786, 4.26445779, 4.6140728 , 4.74919156,\n",
              "       4.60589847, 4.63843994, 5.00003273, 5.799724  , 4.39245914,\n",
              "       4.30171118, 5.86230253, 6.15652607, 5.41655897, 5.03498992,\n",
              "       5.28044397, 5.81549623, 6.09998476, 5.0967827 , 5.44658138,\n",
              "       4.47139742, 5.0763431 , 6.15652607, 5.83639265, 4.28315498,\n",
              "       4.32012879, 4.67057281, 4.60589847, 5.3678365 , 5.19016808,\n",
              "       5.16381441, 5.24211994, 5.23567995, 4.96460985, 5.36168538,\n",
              "       5.93364307, 5.3800978 , 5.96369082, 6.15652607, 5.1770233 ,\n",
              "       4.40135419, 4.22663054, 4.50569935, 4.42785068, 4.63843994,\n",
              "       4.92146742, 5.49395386, 4.87760749, 4.56462866, 4.37457314,\n",
              "       4.92870692, 4.81796329, 4.24561716, 4.44536027, 4.95746814,\n",
              "       4.63843994, 4.40135419, 4.76463229, 5.23567995, 5.42258947,\n",
              "       4.91420798, 5.25495447, 4.89962884, 4.47139742, 4.24561716,\n",
              "       3.81161746, 4.41021763, 4.15898961, 4.36558166, 4.55629368,\n",
              "       3.82292958, 3.99688428, 4.19787121, 4.49716757, 4.31093716,\n",
              "       4.55629368, 4.49716757, 4.25505556, 4.06915427, 4.65455672,\n",
              "       4.62222102, 4.4886068 , 4.41904971, 4.14917118, 4.45406938,\n",
              "       4.19787121, 3.92235239, 4.15898961, 4.41904971, 4.28315498,\n",
              "       4.32012879, 4.16876846, 4.06915427, 4.27382416, 4.11947482,\n",
              "       4.08940884, 5.20976657, 3.85654088, 4.56462866, 5.11032317,\n",
              "       3.96522837, 3.93314444, 4.49716757, 4.6140728 , 4.77998166,\n",
              "       4.48001683, 4.58121701, 4.07930288, 5.03498992, 4.03844836,\n",
              "       4.27382416, 3.99688428, 4.37457314, 4.46274835, 4.45406938,\n",
              "       4.65455672, 4.20749535, 4.29245055, 3.88967681, 4.39245914,\n",
              "       4.84795531, 4.39245914, 4.49716757, 6.15652607, 6.15652607,\n",
              "       6.15652607, 6.15652607, 6.15652607, 3.53483518, 3.53483518,\n",
              "       3.68340136, 3.54759408, 3.46993187, 3.44343457, 3.01819163,\n",
              "       3.05037296, 3.1287559 , 3.18945869, 3.33416642, 2.77789369,\n",
              "       2.46335537, 3.06628215, 2.50549977, 3.01819163, 3.21918087,\n",
              "       3.6953562 , 4.50569935, 2.93551931, 3.53483518, 3.38947462,\n",
              "       3.44343457, 3.36199384, 2.7225443 , 1.92564954, 2.26150315,\n",
              "       2.08823927, 2.46335537, 3.30598225, 2.68478853, 2.7225443 ,\n",
              "       1.92564954, 3.27743075, 4.87760749, 3.93314444, 4.84795531,\n",
              "       3.68340136, 3.93314444, 4.00734336, 3.83418713, 2.42028366,\n",
              "       2.46335537, 2.52623818, 3.05037296, 2.77789369, 2.70375445,\n",
              "       3.87868337, 3.58544419, 4.29245055, 3.48306363, 3.24850083,\n",
              "       2.68478853, 3.01819163, 3.1287559 , 3.14409313, 2.90151373,\n",
              "       3.62267296, 3.57289769, 3.81161746, 3.59792167, 3.24850083,\n",
              "       3.48306363, 2.9185859 , 2.75961042, 2.70375445, 3.40308806,\n",
              "       3.06628215, 3.92235239, 4.05896259, 3.73085242, 3.11330805,\n",
              "       3.2630138 , 3.67138393, 3.37577694, 3.57289769, 3.4300669 ,\n",
              "       3.48306363, 3.70724917, 3.81161746, 3.99688428, 3.67138393,\n",
              "       3.57289769, 3.38947462, 3.49611884, 3.67138393, 4.21708168,\n",
              "       3.8453907 , 3.98637906, 4.16876846, 4.23614226, 4.34750044,\n",
              "       4.20749535, 4.11947482, 4.12941417, 4.12941417, 4.22663054,\n",
              "       4.20749535, 4.17850811, 4.50569935, 5.01407071, 3.53483518,\n",
              "       3.46993187, 3.87868337, 3.2917531 , 3.63494845, 4.34750044,\n",
              "       4.4886068 , 4.54793121, 4.65455672, 4.3835322 , 4.27382416,\n",
              "       4.32928636, 4.12941417, 4.27382416, 3.70724917, 2.42028366,\n",
              "       2.6463132 , 3.50909851, 4.22663054, 4.3835322 , 4.6140728 ,\n",
              "       4.49716757, 4.18820891, 4.04872743, 4.32928636, 3.96522837,\n",
              "       3.88967681, 4.43662078, 4.27382416, 4.56462866, 4.40135419,\n",
              "       3.27743075])"
            ]
          },
          "metadata": {},
          "execution_count": 43
        }
      ]
    },
    {
      "cell_type": "code",
      "metadata": {
        "scrolled": true,
        "colab": {
          "base_uri": "https://localhost:8080/"
        },
        "id": "3eyrfFMw-ls1",
        "outputId": "fbf5a386-e423-4d28-cf2b-979487430ed5"
      },
      "source": [
        "bc_result[1]"
      ],
      "execution_count": 44,
      "outputs": [
        {
          "output_type": "execute_result",
          "data": {
            "text/plain": [
              "0.2166209012915364"
            ]
          },
          "metadata": {},
          "execution_count": 44
        }
      ]
    },
    {
      "cell_type": "code",
      "metadata": {
        "colab": {
          "base_uri": "https://localhost:8080/",
          "height": 267
        },
        "id": "qfgF4m2U-ls1",
        "outputId": "b3185218-c2d7-4d8c-e602-46422712a4fe"
      },
      "source": [
        "boston_data['MEDV'].hist();"
      ],
      "execution_count": 25,
      "outputs": [
        {
          "output_type": "display_data",
          "data": {
            "image/png": "[encoded data removed]",
            "text/plain": [
              "<Figure size 432x288 with 1 Axes>"
            ]
          },
          "metadata": {
            "needs_background": "light"
          }
        }
      ]
    },
    {
      "cell_type": "code",
      "metadata": {
        "colab": {
          "base_uri": "https://localhost:8080/",
          "height": 265
        },
        "id": "XNdxEEWv-ls1",
        "outputId": "973b8908-00b3-4373-bff8-288a94df4e2c"
      },
      "source": [
        "plt.hist(boxcox_medv);"
      ],
      "execution_count": 26,
      "outputs": [
        {
          "output_type": "display_data",
          "data": {
            "image/png": "[encoded data removed]",
            "text/plain": [
              "<Figure size 432x288 with 1 Axes>"
            ]
          },
          "metadata": {
            "needs_background": "light"
          }
        }
      ]
    },
    {
      "cell_type": "code",
      "metadata": {
        "scrolled": true,
        "colab": {
          "base_uri": "https://localhost:8080/"
        },
        "id": "arNJ4J4Y-ls1",
        "outputId": "22a813f9-5117-4b5e-b7e9-3fe908f41c6c"
      },
      "source": [
        "normaltest(boxcox_medv)"
      ],
      "execution_count": 27,
      "outputs": [
        {
          "output_type": "execute_result",
          "data": {
            "text/plain": [
              "NormaltestResult(statistic=4.513528775533045, pvalue=0.1046886692817602)"
            ]
          },
          "metadata": {},
          "execution_count": 27
        }
      ]
    },
    {
      "cell_type": "markdown",
      "metadata": {
        "id": "y_s2ItuC-ls2"
      },
      "source": [
        "Significantly more normally distributed (according to p value) than the other two distributions - above 0.05, even!\n",
        "\n",
        "Now that we have a normally distributed y-variable, let's try a regression!"
      ]
    },
    {
      "cell_type": "markdown",
      "metadata": {
        "id": "GiR8tA7i-ls2"
      },
      "source": [
        "### Testing regression:"
      ]
    },
    {
      "cell_type": "code",
      "metadata": {
        "id": "8EdwkyoP-ls2"
      },
      "source": [
        "from sklearn.linear_model import LinearRegression\n",
        "from sklearn.metrics import r2_score\n",
        "from sklearn.model_selection import train_test_split\n",
        "from sklearn.preprocessing import (StandardScaler, \n",
        "                                   PolynomialFeatures)"
      ],
      "execution_count": 28,
      "outputs": []
    },
    {
      "cell_type": "code",
      "metadata": {
        "id": "a3cmDGN3-ls2"
      },
      "source": [
        "lr = LinearRegression()"
      ],
      "execution_count": 29,
      "outputs": []
    },
    {
      "cell_type": "markdown",
      "metadata": {
        "id": "0RDiW_EJ-ls2"
      },
      "source": [
        "**Reload clean version of `boston_data`:**"
      ]
    },
    {
      "cell_type": "code",
      "metadata": {
        "id": "Hx7JUaF9-ls2"
      },
      "source": [
        "boston_data = boston_dataframe()"
      ],
      "execution_count": 30,
      "outputs": []
    },
    {
      "cell_type": "markdown",
      "metadata": {
        "id": "h4HAFYIH-ls2"
      },
      "source": [
        "Same steps as before."
      ]
    },
    {
      "cell_type": "markdown",
      "metadata": {
        "id": "VVzSLZ95-ls3"
      },
      "source": [
        "**Create X and y**"
      ]
    },
    {
      "cell_type": "code",
      "metadata": {
        "id": "iqOSVmZ2-ls3"
      },
      "source": [
        "y_col = \"MEDV\"\n",
        "\n",
        "X = boston_data.drop(y_col, axis=1)\n",
        "y = boston_data[y_col]"
      ],
      "execution_count": 31,
      "outputs": []
    },
    {
      "cell_type": "code",
      "metadata": {
        "colab": {
          "base_uri": "https://localhost:8080/",
          "height": 408
        },
        "id": "bTns5vPbJuHe",
        "outputId": "993b7e02-956b-4344-cbb1-1f62a90563be"
      },
      "source": [
        "X"
      ],
      "execution_count": 45,
      "outputs": [
        {
          "output_type": "execute_result",
          "data": {
            "text/html": [
              "<div>\n",
              "<style scoped>\n",
              "    .dataframe tbody tr th:only-of-type {\n",
              "        vertical-align: middle;\n",
              "    }\n",
              "\n",
              "    .dataframe tbody tr th {\n",
              "        vertical-align: top;\n",
              "    }\n",
              "\n",
              "    .dataframe thead th {\n",
              "        text-align: right;\n",
              "    }\n",
              "</style>\n",
              "<table border=\"1\" class=\"dataframe\">\n",
              "  <thead>\n",
              "    <tr style=\"text-align: right;\">\n",
              "      <th></th>\n",
              "      <th>CRIM</th>\n",
              "      <th>ZN</th>\n",
              "      <th>INDUS</th>\n",
              "      <th>CHAS</th>\n",
              "      <th>NOX</th>\n",
              "      <th>RM</th>\n",
              "      <th>AGE</th>\n",
              "      <th>DIS</th>\n",
              "      <th>RAD</th>\n",
              "      <th>TAX</th>\n",
              "      <th>PTRATIO</th>\n",
              "      <th>B</th>\n",
              "      <th>LSTAT</th>\n",
              "    </tr>\n",
              "  </thead>\n",
              "  <tbody>\n",
              "    <tr>\n",
              "      <th>0</th>\n",
              "      <td>0.00632</td>\n",
              "      <td>18.0</td>\n",
              "      <td>2.31</td>\n",
              "      <td>0.0</td>\n",
              "      <td>0.538</td>\n",
              "      <td>6.575</td>\n",
              "      <td>65.2</td>\n",
              "      <td>4.0900</td>\n",
              "      <td>1.0</td>\n",
              "      <td>296.0</td>\n",
              "      <td>15.3</td>\n",
              "      <td>396.90</td>\n",
              "      <td>4.98</td>\n",
              "    </tr>\n",
              "    <tr>\n",
              "      <th>1</th>\n",
              "      <td>0.02731</td>\n",
              "      <td>0.0</td>\n",
              "      <td>7.07</td>\n",
              "      <td>0.0</td>\n",
              "      <td>0.469</td>\n",
              "      <td>6.421</td>\n",
              "      <td>78.9</td>\n",
              "      <td>4.9671</td>\n",
              "      <td>2.0</td>\n",
              "      <td>242.0</td>\n",
              "      <td>17.8</td>\n",
              "      <td>396.90</td>\n",
              "      <td>9.14</td>\n",
              "    </tr>\n",
              "    <tr>\n",
              "      <th>2</th>\n",
              "      <td>0.02729</td>\n",
              "      <td>0.0</td>\n",
              "      <td>7.07</td>\n",
              "      <td>0.0</td>\n",
              "      <td>0.469</td>\n",
              "      <td>7.185</td>\n",
              "      <td>61.1</td>\n",
              "      <td>4.9671</td>\n",
              "      <td>2.0</td>\n",
              "      <td>242.0</td>\n",
              "      <td>17.8</td>\n",
              "      <td>392.83</td>\n",
              "      <td>4.03</td>\n",
              "    </tr>\n",
              "    <tr>\n",
              "      <th>3</th>\n",
              "      <td>0.03237</td>\n",
              "      <td>0.0</td>\n",
              "      <td>2.18</td>\n",
              "      <td>0.0</td>\n",
              "      <td>0.458</td>\n",
              "      <td>6.998</td>\n",
              "      <td>45.8</td>\n",
              "      <td>6.0622</td>\n",
              "      <td>3.0</td>\n",
              "      <td>222.0</td>\n",
              "      <td>18.7</td>\n",
              "      <td>394.63</td>\n",
              "      <td>2.94</td>\n",
              "    </tr>\n",
              "    <tr>\n",
              "      <th>4</th>\n",
              "      <td>0.06905</td>\n",
              "      <td>0.0</td>\n",
              "      <td>2.18</td>\n",
              "      <td>0.0</td>\n",
              "      <td>0.458</td>\n",
              "      <td>7.147</td>\n",
              "      <td>54.2</td>\n",
              "      <td>6.0622</td>\n",
              "      <td>3.0</td>\n",
              "      <td>222.0</td>\n",
              "      <td>18.7</td>\n",
              "      <td>396.90</td>\n",
              "      <td>5.33</td>\n",
              "    </tr>\n",
              "    <tr>\n",
              "      <th>...</th>\n",
              "      <td>...</td>\n",
              "      <td>...</td>\n",
              "      <td>...</td>\n",
              "      <td>...</td>\n",
              "      <td>...</td>\n",
              "      <td>...</td>\n",
              "      <td>...</td>\n",
              "      <td>...</td>\n",
              "      <td>...</td>\n",
              "      <td>...</td>\n",
              "      <td>...</td>\n",
              "      <td>...</td>\n",
              "      <td>...</td>\n",
              "    </tr>\n",
              "    <tr>\n",
              "      <th>501</th>\n",
              "      <td>0.06263</td>\n",
              "      <td>0.0</td>\n",
              "      <td>11.93</td>\n",
              "      <td>0.0</td>\n",
              "      <td>0.573</td>\n",
              "      <td>6.593</td>\n",
              "      <td>69.1</td>\n",
              "      <td>2.4786</td>\n",
              "      <td>1.0</td>\n",
              "      <td>273.0</td>\n",
              "      <td>21.0</td>\n",
              "      <td>391.99</td>\n",
              "      <td>9.67</td>\n",
              "    </tr>\n",
              "    <tr>\n",
              "      <th>502</th>\n",
              "      <td>0.04527</td>\n",
              "      <td>0.0</td>\n",
              "      <td>11.93</td>\n",
              "      <td>0.0</td>\n",
              "      <td>0.573</td>\n",
              "      <td>6.120</td>\n",
              "      <td>76.7</td>\n",
              "      <td>2.2875</td>\n",
              "      <td>1.0</td>\n",
              "      <td>273.0</td>\n",
              "      <td>21.0</td>\n",
              "      <td>396.90</td>\n",
              "      <td>9.08</td>\n",
              "    </tr>\n",
              "    <tr>\n",
              "      <th>503</th>\n",
              "      <td>0.06076</td>\n",
              "      <td>0.0</td>\n",
              "      <td>11.93</td>\n",
              "      <td>0.0</td>\n",
              "      <td>0.573</td>\n",
              "      <td>6.976</td>\n",
              "      <td>91.0</td>\n",
              "      <td>2.1675</td>\n",
              "      <td>1.0</td>\n",
              "      <td>273.0</td>\n",
              "      <td>21.0</td>\n",
              "      <td>396.90</td>\n",
              "      <td>5.64</td>\n",
              "    </tr>\n",
              "    <tr>\n",
              "      <th>504</th>\n",
              "      <td>0.10959</td>\n",
              "      <td>0.0</td>\n",
              "      <td>11.93</td>\n",
              "      <td>0.0</td>\n",
              "      <td>0.573</td>\n",
              "      <td>6.794</td>\n",
              "      <td>89.3</td>\n",
              "      <td>2.3889</td>\n",
              "      <td>1.0</td>\n",
              "      <td>273.0</td>\n",
              "      <td>21.0</td>\n",
              "      <td>393.45</td>\n",
              "      <td>6.48</td>\n",
              "    </tr>\n",
              "    <tr>\n",
              "      <th>505</th>\n",
              "      <td>0.04741</td>\n",
              "      <td>0.0</td>\n",
              "      <td>11.93</td>\n",
              "      <td>0.0</td>\n",
              "      <td>0.573</td>\n",
              "      <td>6.030</td>\n",
              "      <td>80.8</td>\n",
              "      <td>2.5050</td>\n",
              "      <td>1.0</td>\n",
              "      <td>273.0</td>\n",
              "      <td>21.0</td>\n",
              "      <td>396.90</td>\n",
              "      <td>7.88</td>\n",
              "    </tr>\n",
              "  </tbody>\n",
              "</table>\n",
              "<p>506 rows × 13 columns</p>\n",
              "</div>"
            ],
            "text/plain": [
              "        CRIM    ZN  INDUS  CHAS    NOX  ...  RAD    TAX  PTRATIO       B  LSTAT\n",
              "0    0.00632  18.0   2.31   0.0  0.538  ...  1.0  296.0     15.3  396.90   4.98\n",
              "1    0.02731   0.0   7.07   0.0  0.469  ...  2.0  242.0     17.8  396.90   9.14\n",
              "2    0.02729   0.0   7.07   0.0  0.469  ...  2.0  242.0     17.8  392.83   4.03\n",
              "3    0.03237   0.0   2.18   0.0  0.458  ...  3.0  222.0     18.7  394.63   2.94\n",
              "4    0.06905   0.0   2.18   0.0  0.458  ...  3.0  222.0     18.7  396.90   5.33\n",
              "..       ...   ...    ...   ...    ...  ...  ...    ...      ...     ...    ...\n",
              "501  0.06263   0.0  11.93   0.0  0.573  ...  1.0  273.0     21.0  391.99   9.67\n",
              "502  0.04527   0.0  11.93   0.0  0.573  ...  1.0  273.0     21.0  396.90   9.08\n",
              "503  0.06076   0.0  11.93   0.0  0.573  ...  1.0  273.0     21.0  396.90   5.64\n",
              "504  0.10959   0.0  11.93   0.0  0.573  ...  1.0  273.0     21.0  393.45   6.48\n",
              "505  0.04741   0.0  11.93   0.0  0.573  ...  1.0  273.0     21.0  396.90   7.88\n",
              "\n",
              "[506 rows x 13 columns]"
            ]
          },
          "metadata": {},
          "execution_count": 45
        }
      ]
    },
    {
      "cell_type": "code",
      "metadata": {
        "colab": {
          "base_uri": "https://localhost:8080/"
        },
        "id": "bcWJM4bdJw-c",
        "outputId": "9184492a-0037-446f-9da6-01ca83081a7d"
      },
      "source": [
        "y"
      ],
      "execution_count": 46,
      "outputs": [
        {
          "output_type": "execute_result",
          "data": {
            "text/plain": [
              "0      24.0\n",
              "1      21.6\n",
              "2      34.7\n",
              "3      33.4\n",
              "4      36.2\n",
              "       ... \n",
              "501    22.4\n",
              "502    20.6\n",
              "503    23.9\n",
              "504    22.0\n",
              "505    11.9\n",
              "Name: MEDV, Length: 506, dtype: float64"
            ]
          },
          "metadata": {},
          "execution_count": 46
        }
      ]
    },
    {
      "cell_type": "markdown",
      "metadata": {
        "id": "1uRDkps0-ls3"
      },
      "source": [
        "**Create Polynomial Features**"
      ]
    },
    {
      "cell_type": "code",
      "metadata": {
        "id": "lRc5haX4-ls3"
      },
      "source": [
        "pf = PolynomialFeatures(degree=2, include_bias=False)\n",
        "X_pf = pf.fit_transform(X)"
      ],
      "execution_count": 32,
      "outputs": []
    },
    {
      "cell_type": "code",
      "metadata": {
        "colab": {
          "base_uri": "https://localhost:8080/"
        },
        "id": "fy9SJZdUKVaG",
        "outputId": "f762f6c9-a685-4b40-92aa-0cc78160ed9b"
      },
      "source": [
        "X_pf"
      ],
      "execution_count": 47,
      "outputs": [
        {
          "output_type": "execute_result",
          "data": {
            "text/plain": [
              "array([[6.32000000e-03, 1.80000000e+01, 2.31000000e+00, ...,\n",
              "        1.57529610e+05, 1.97656200e+03, 2.48004000e+01],\n",
              "       [2.73100000e-02, 0.00000000e+00, 7.07000000e+00, ...,\n",
              "        1.57529610e+05, 3.62766600e+03, 8.35396000e+01],\n",
              "       [2.72900000e-02, 0.00000000e+00, 7.07000000e+00, ...,\n",
              "        1.54315409e+05, 1.58310490e+03, 1.62409000e+01],\n",
              "       ...,\n",
              "       [6.07600000e-02, 0.00000000e+00, 1.19300000e+01, ...,\n",
              "        1.57529610e+05, 2.23851600e+03, 3.18096000e+01],\n",
              "       [1.09590000e-01, 0.00000000e+00, 1.19300000e+01, ...,\n",
              "        1.54802902e+05, 2.54955600e+03, 4.19904000e+01],\n",
              "       [4.74100000e-02, 0.00000000e+00, 1.19300000e+01, ...,\n",
              "        1.57529610e+05, 3.12757200e+03, 6.20944000e+01]])"
            ]
          },
          "metadata": {},
          "execution_count": 47
        }
      ]
    },
    {
      "cell_type": "markdown",
      "metadata": {
        "id": "Fk0TvfRY-ls3"
      },
      "source": [
        "**Train test split**"
      ]
    },
    {
      "cell_type": "code",
      "metadata": {
        "colab": {
          "base_uri": "https://localhost:8080/"
        },
        "id": "SzMDUYHLKYmx",
        "outputId": "bd175f2c-69d1-46e0-c9cf-b29f7e043f13"
      },
      "source": [
        "X.shape"
      ],
      "execution_count": 48,
      "outputs": [
        {
          "output_type": "execute_result",
          "data": {
            "text/plain": [
              "(506, 13)"
            ]
          },
          "metadata": {},
          "execution_count": 48
        }
      ]
    },
    {
      "cell_type": "code",
      "metadata": {
        "colab": {
          "base_uri": "https://localhost:8080/"
        },
        "id": "pty0y1-vKbqK",
        "outputId": "a51cb773-f5f5-4e96-bbbc-491c9968ed33"
      },
      "source": [
        "X_pf.shape"
      ],
      "execution_count": 49,
      "outputs": [
        {
          "output_type": "execute_result",
          "data": {
            "text/plain": [
              "(506, 104)"
            ]
          },
          "metadata": {},
          "execution_count": 49
        }
      ]
    },
    {
      "cell_type": "code",
      "metadata": {
        "id": "zLTIPbN4-ls3"
      },
      "source": [
        "X_train, X_test, y_train, y_test = train_test_split(X_pf, y, test_size=0.3, \n",
        "                                                    random_state=72018)"
      ],
      "execution_count": 33,
      "outputs": []
    },
    {
      "cell_type": "code",
      "metadata": {
        "colab": {
          "base_uri": "https://localhost:8080/"
        },
        "id": "43_NZB5BK_sk",
        "outputId": "8ce1e39f-fc56-4316-b5ab-757892907c07"
      },
      "source": [
        "X_train.shape"
      ],
      "execution_count": 50,
      "outputs": [
        {
          "output_type": "execute_result",
          "data": {
            "text/plain": [
              "(354, 104)"
            ]
          },
          "metadata": {},
          "execution_count": 50
        }
      ]
    },
    {
      "cell_type": "markdown",
      "metadata": {
        "id": "AVF-N2Lj-ls4"
      },
      "source": [
        "**Fit `StandardScaler` on `X_train` as before**"
      ]
    },
    {
      "cell_type": "code",
      "metadata": {
        "id": "_AY2a_C--ls4"
      },
      "source": [
        "s = StandardScaler()\n",
        "X_train_s = s.fit_transform(X_train)"
      ],
      "execution_count": 34,
      "outputs": []
    },
    {
      "cell_type": "markdown",
      "metadata": {
        "id": "wFRi4qe0-ls4"
      },
      "source": [
        "**Discuss: what transformation do we need to apply next?**\n",
        "\n",
        "Apply the appropriate transformation."
      ]
    },
    {
      "cell_type": "code",
      "metadata": {
        "id": "LosQyPXG-ls4"
      },
      "source": [
        "# Instructor Solution\n",
        "bc_result2 = boxcox(y_train)\n",
        "y_train_bc = bc_result2[0]\n",
        "lam2 = bc_result2[1]"
      ],
      "execution_count": 35,
      "outputs": []
    },
    {
      "cell_type": "code",
      "metadata": {
        "colab": {
          "base_uri": "https://localhost:8080/"
        },
        "id": "QCFJzhLe-ls5",
        "outputId": "b8eca7ed-9a86-46dc-fdad-b38ef2d5ec44"
      },
      "source": [
        "y_train_bc.shape"
      ],
      "execution_count": 36,
      "outputs": [
        {
          "output_type": "execute_result",
          "data": {
            "text/plain": [
              "(354,)"
            ]
          },
          "metadata": {},
          "execution_count": 36
        }
      ]
    },
    {
      "cell_type": "code",
      "metadata": {
        "colab": {
          "base_uri": "https://localhost:8080/"
        },
        "id": "01li2TnkNnVv",
        "outputId": "2aa87f54-a0fc-4670-c522-d8f91c626072"
      },
      "source": [
        "y_train_bc"
      ],
      "execution_count": 51,
      "outputs": [
        {
          "output_type": "execute_result",
          "data": {
            "text/plain": [
              "array([4.8625686 , 6.0629177 , 4.51310411, 4.81957899, 4.95725428,\n",
              "       5.77277497, 5.41197088, 5.75640624, 3.72665146, 4.94686892,\n",
              "       5.75640624, 4.80874112, 3.92225296, 4.58384068, 4.78695477,\n",
              "       6.64804017, 3.77300722, 2.91446761, 3.99405229, 5.37557157,\n",
              "       2.91446761, 5.14858214, 3.37830364, 5.61413692, 4.46503222,\n",
              "       6.62861276, 3.53307611, 3.78829063, 4.6643901 , 4.74293114,\n",
              "       4.76501893, 4.58384068, 6.66093826, 4.90499278, 4.72068886,\n",
              "       5.1583522 , 3.30653002, 3.15681299, 4.6070669 , 6.0021158 ,\n",
              "       7.02952208, 4.6870301 , 3.78829063, 5.05933485, 4.19940562,\n",
              "       4.93645035, 6.30368143, 7.02952208, 5.65657858, 4.54867373,\n",
              "       4.59547537, 4.6070669 , 4.8411456 , 5.37557157, 3.93675676,\n",
              "       4.22573738, 4.6070669 , 4.47712066, 4.54867373, 5.61413692,\n",
              "       4.93645035, 2.39638821, 4.88385027, 3.6795137 , 5.08935167,\n",
              "       4.78695477, 6.22513995, 4.92599831, 6.02503476, 4.10535832,\n",
              "       4.4284788 , 4.59547537, 5.51012859, 3.51631095, 5.05933485,\n",
              "       4.54867373, 5.90897289, 4.58384068, 4.05023615, 4.58384068,\n",
              "       7.02952208, 5.45693428, 4.87322696, 4.47712066, 7.02952208,\n",
              "       4.65300883, 5.01888279, 3.11799245, 7.02952208, 4.57216244,\n",
              "       5.06937077, 5.10921274, 2.02481765, 4.54867373, 4.63012196,\n",
              "       4.8625686 , 2.87170159, 4.96760668, 4.65300883, 4.98821357,\n",
              "       5.89321422, 3.78829063, 4.69828951, 5.08935167, 4.6870301 ,\n",
              "       5.17780698, 3.78829063, 2.97726946, 4.8411456 , 5.76459999,\n",
              "       4.58384068, 4.75399418, 4.40386518, 3.69531512, 5.1583522 ,\n",
              "       3.80349159, 4.77600569, 6.02503476, 4.39148356, 5.32023533,\n",
              "       5.59701568, 2.82818197, 5.51891547, 2.02481765, 5.69851559,\n",
              "       4.47712066, 4.41619677, 4.8625686 , 5.17780698, 4.02227997,\n",
              "       5.50131941, 4.57216244, 4.31611532, 3.25138802, 5.465857  ,\n",
              "       5.63966328, 5.55384267, 6.04781136, 4.61861563, 4.8411456 ,\n",
              "       3.6795137 , 4.44071174, 4.59547537, 4.05023615, 6.1375352 ,\n",
              "       4.05023615, 5.89321422, 4.70950898, 6.12273165, 2.69276611,\n",
              "       4.83038039, 4.87322696, 6.19616649, 5.06937077, 5.03917094,\n",
              "       4.44071174, 6.48309287, 4.89443878, 4.99846855, 5.51891547,\n",
              "       4.93645035, 3.37830364, 4.98821357, 4.64158623, 5.07937631,\n",
              "       5.19714927, 4.97792636, 5.12895568, 7.02952208, 3.48246652,\n",
              "       7.02952208, 5.8133718 , 4.17283862, 6.12273165, 4.92599831,\n",
              "       4.30336941, 3.74218874, 4.64158623, 5.31092456, 5.03917094,\n",
              "       4.37905141, 4.59547537, 4.00820046, 5.13878337, 4.75399418,\n",
              "       4.22573738, 4.6870301 , 5.54514366, 4.65300883, 6.20343095,\n",
              "       6.0629177 , 5.33878073, 2.62209382, 5.04926831, 7.02952208,\n",
              "       5.90897289, 4.96760668, 5.4924878 , 5.63966328, 5.41197088,\n",
              "       4.56044025, 3.53307611, 4.63012196, 5.10921274, 5.13878337,\n",
              "       4.6643901 , 4.52500607, 4.76501893, 5.06937077, 4.15946534,\n",
              "       6.75005519, 4.97792636, 4.10535832, 4.31611532, 4.50115617,\n",
              "       4.74293114, 6.71210964, 5.55384267, 4.95725428, 6.14491488,\n",
              "       4.87322696, 5.02904251, 2.95651035, 3.89302335, 4.6643901 ,\n",
              "       4.63012196, 3.95118773, 4.56044025, 4.67573041, 4.45289606,\n",
              "       3.74218874, 4.83038039, 5.32952066, 4.80874112, 4.53686248,\n",
              "       3.81861116, 4.80874112, 4.95725428, 3.6795137 , 5.69016788,\n",
              "       4.25183879, 4.70950898, 4.70950898, 4.26480461, 3.66362184,\n",
              "       5.04926831, 4.94686892, 3.90767545, 4.72068886, 4.10535832,\n",
              "       3.44819273, 5.67341314, 7.02952208, 3.84861019, 4.17283862,\n",
              "       6.38062104, 4.46503222, 4.85187491, 5.11909887, 7.02952208,\n",
              "       6.83104027, 4.6070669 , 4.87322696, 4.45289606, 4.69828951,\n",
              "       2.62209382, 5.44798843, 6.5829015 , 4.50115617, 4.53686248,\n",
              "       4.99846855, 4.47712066, 4.87322696, 5.10921274, 4.06411435,\n",
              "       4.72068886, 7.02952208, 5.14858214, 3.95118773, 4.67573041,\n",
              "       2.62209382, 4.98821357, 4.02227997, 4.00820046, 4.29056935,\n",
              "       3.6476383 , 4.57216244, 4.34144687, 3.84861019, 4.97792636,\n",
              "       4.10535832, 4.46503222, 3.58276147, 6.54991774, 5.32952066,\n",
              "       5.82948262, 4.6870301 , 3.84861019, 4.69828951, 4.77600569,\n",
              "       4.48916183, 4.8411456 , 4.74293114, 5.00869155, 5.17780698,\n",
              "       3.3605416 , 2.89317686, 4.87322696, 4.57216244, 3.28827772,\n",
              "       4.17283862, 5.36641096, 4.97792636, 5.17780698, 4.72068886,\n",
              "       3.96554675, 4.25183879, 4.98821357, 5.06937077, 5.11909887,\n",
              "       5.29222605, 5.41197088, 3.93675676, 4.23881658, 5.05933485,\n",
              "       4.50115617, 4.91551254, 4.91551254, 6.04023484, 5.71515227,\n",
              "       4.8411456 , 4.26480461, 5.12895568, 4.34144687, 6.1078687 ,\n",
              "       5.17780698, 3.81861116, 5.73171132, 5.86944667, 2.20407036,\n",
              "       3.28827772, 4.89443878, 5.83751101, 5.17780698, 5.85351424,\n",
              "       5.04926831, 4.78695477, 4.36656825, 4.39148356, 4.81957899,\n",
              "       5.47475673, 5.20677872, 4.02227997, 4.34144687])"
            ]
          },
          "metadata": {},
          "execution_count": 51
        }
      ]
    },
    {
      "cell_type": "code",
      "metadata": {
        "colab": {
          "base_uri": "https://localhost:8080/"
        },
        "id": "D1WmqftaNrHk",
        "outputId": "77026740-0676-4dfd-b8c4-243b0639dfbd"
      },
      "source": [
        "lam2"
      ],
      "execution_count": 52,
      "outputs": [
        {
          "output_type": "execute_result",
          "data": {
            "text/plain": [
              "0.2751714409758365"
            ]
          },
          "metadata": {},
          "execution_count": 52
        }
      ]
    },
    {
      "cell_type": "markdown",
      "metadata": {
        "id": "IeTjFeJi-ls4"
      },
      "source": [
        "As before, we'll now:\n",
        "\n",
        "1. Fit regression\n",
        "1. Transform testing data\n",
        "1. Predict on testing data"
      ]
    },
    {
      "cell_type": "code",
      "metadata": {
        "colab": {
          "base_uri": "https://localhost:8080/"
        },
        "id": "r53O0qkDPTqj",
        "outputId": "33cea7cd-0202-4553-fad6-40b67d9d7f65"
      },
      "source": [
        "X_test_s.shape"
      ],
      "execution_count": 53,
      "outputs": [
        {
          "output_type": "execute_result",
          "data": {
            "text/plain": [
              "(152, 104)"
            ]
          },
          "metadata": {},
          "execution_count": 53
        }
      ]
    },
    {
      "cell_type": "code",
      "metadata": {
        "id": "Mvva_zR0-ls5"
      },
      "source": [
        "lr.fit(X_train_s, y_train_bc)\n",
        "X_test_s = s.transform(X_test)\n",
        "y_pred_bc = lr.predict(X_test_s)"
      ],
      "execution_count": 37,
      "outputs": []
    },
    {
      "cell_type": "code",
      "metadata": {
        "colab": {
          "base_uri": "https://localhost:8080/"
        },
        "id": "VpsdOhqbPbZV",
        "outputId": "b8522758-70fc-4a7f-b762-8063b389f118"
      },
      "source": [
        "y_pred_bc.shape"
      ],
      "execution_count": 54,
      "outputs": [
        {
          "output_type": "execute_result",
          "data": {
            "text/plain": [
              "(152,)"
            ]
          },
          "metadata": {},
          "execution_count": 54
        }
      ]
    },
    {
      "cell_type": "code",
      "metadata": {
        "colab": {
          "base_uri": "https://localhost:8080/"
        },
        "id": "uaEkf8RrPwRu",
        "outputId": "a81b4f47-c1a3-4518-d851-53ec3f84343d"
      },
      "source": [
        "y_test"
      ],
      "execution_count": 56,
      "outputs": [
        {
          "output_type": "execute_result",
          "data": {
            "text/plain": [
              "502    20.6\n",
              "127    16.2\n",
              "390    15.1\n",
              "303    33.1\n",
              "277    33.1\n",
              "       ... \n",
              "433    14.3\n",
              "505    11.9\n",
              "53     23.4\n",
              "82     24.8\n",
              "377    13.3\n",
              "Name: MEDV, Length: 152, dtype: float64"
            ]
          },
          "metadata": {},
          "execution_count": 56
        }
      ]
    },
    {
      "cell_type": "code",
      "metadata": {
        "colab": {
          "base_uri": "https://localhost:8080/"
        },
        "id": "SGbkWuHFPqNh",
        "outputId": "25851433-e098-4fdf-96df-12c1bf5fbbab"
      },
      "source": [
        "y_pred_bc"
      ],
      "execution_count": 55,
      "outputs": [
        {
          "output_type": "execute_result",
          "data": {
            "text/plain": [
              "array([4.43920316, 4.16230299, 4.14903773, 5.72770375, 5.70362608,\n",
              "       6.59865445, 4.18842601, 4.77415222, 4.68282566, 4.85108878,\n",
              "       6.82748198, 3.86236699, 5.0643167 , 4.31536775, 6.91107238,\n",
              "       4.93538901, 4.64299542, 5.84297841, 5.24960436, 5.44823381,\n",
              "       3.98464025, 4.88299011, 4.19919967, 3.59736013, 5.2309719 ,\n",
              "       5.30478058, 5.85592444, 4.78820348, 4.78846728, 6.78622305,\n",
              "       3.36299121, 4.39751616, 4.29381841, 6.9642437 , 4.49873355,\n",
              "       5.51107039, 4.79092744, 5.61456675, 3.04824493, 5.35252088,\n",
              "       3.34764987, 3.97589975, 5.14213658, 4.37539217, 5.07041151,\n",
              "       6.31192606, 4.90476787, 5.25799412, 5.69133946, 4.21362253,\n",
              "       5.2252357 , 5.49371642, 4.38650851, 3.95353734, 4.16951912,\n",
              "       2.75465746, 4.06367514, 3.01030741, 4.5542641 , 4.8090537 ,\n",
              "       5.74517281, 3.26233918, 3.5862807 , 6.17670312, 4.23677257,\n",
              "       5.81985343, 3.41296646, 3.83284203, 4.98192021, 5.73417989,\n",
              "       5.20709227, 5.2224684 , 5.25901124, 5.43662547, 3.8263134 ,\n",
              "       3.54227896, 5.39503706, 4.46815491, 4.3752375 , 4.43397526,\n",
              "       4.26857806, 4.86974534, 5.83795891, 4.04151355, 3.51858119,\n",
              "       3.1923357 , 4.62263543, 6.02926386, 4.7009583 , 6.75024002,\n",
              "       4.39142328, 7.09519245, 3.63633109, 6.84266201, 5.94655295,\n",
              "       4.85824664, 3.31982381, 3.07049243, 4.97129982, 5.04765573,\n",
              "       1.99045119, 3.36771013, 3.93454864, 5.25195111, 5.72084992,\n",
              "       5.41600891, 4.6339003 , 4.06064081, 3.90652671, 5.47241751,\n",
              "       6.34006908, 4.62295396, 5.78807659, 4.98261655, 4.79651198,\n",
              "       5.74907439, 6.62391016, 3.79310717, 5.26601387, 5.05936907,\n",
              "       5.27005544, 4.05674121, 4.90100131, 4.05584843, 5.22049234,\n",
              "       5.40283716, 4.578356  , 4.22107366, 4.77645049, 4.8113669 ,\n",
              "       5.2060228 , 4.23331845, 4.98686063, 4.95300337, 4.87192351,\n",
              "       4.81043257, 3.21302163, 3.72381938, 5.6528538 , 4.83102518,\n",
              "       3.61794231, 4.97683061, 4.81408485, 4.45751093, 5.63842481,\n",
              "       6.18962525, 2.45986308, 4.31803429, 4.33344344, 4.90983086,\n",
              "       5.18275029, 3.47798262])"
            ]
          },
          "metadata": {},
          "execution_count": 55
        }
      ]
    },
    {
      "cell_type": "markdown",
      "metadata": {
        "id": "oXZlCgFU-ls5"
      },
      "source": [
        "### Discussion\n",
        "\n",
        "* Are we done?\n",
        "* What did we predict?\n",
        "* How would you interpret these predictions?"
      ]
    },
    {
      "cell_type": "markdown",
      "metadata": {
        "id": "w3fvmk4f-ls5"
      },
      "source": [
        "#### Inverse transform"
      ]
    },
    {
      "cell_type": "markdown",
      "metadata": {
        "id": "neACCzNf-ls5"
      },
      "source": [
        "Every transformation has an inverse transformation. The inverse transformation of $f(x) = \\sqrt{x}$ is $f^{-1}(x) = x^2$, for example. Box cox has an inverse transformation as well: notice that we have to pass in the lambda value that we found from before:"
      ]
    },
    {
      "cell_type": "code",
      "metadata": {
        "id": "RcqSItZ9-ls5"
      },
      "source": [
        "from scipy.special import inv_boxcox"
      ],
      "execution_count": 38,
      "outputs": []
    },
    {
      "cell_type": "code",
      "metadata": {
        "id": "JdM95kea-ls6"
      },
      "source": [
        "# code from above\n",
        "bc_result = boxcox(boston_data.MEDV)\n",
        "boxcox_medv = bc_result[0]\n",
        "lam = bc_result[1]"
      ],
      "execution_count": 39,
      "outputs": []
    },
    {
      "cell_type": "code",
      "metadata": {
        "colab": {
          "base_uri": "https://localhost:8080/"
        },
        "id": "so_yRa_xQJcq",
        "outputId": "17ae9bc8-8adc-4c8a-f8ce-1e0dde96ef8c"
      },
      "source": [
        "boxcox_medv[:10]"
      ],
      "execution_count": 58,
      "outputs": [
        {
          "output_type": "execute_result",
          "data": {
            "text/plain": [
              "array([4.57293637, 4.36558166, 5.33694273, 5.25495447, 5.42860689,\n",
              "       4.93592663, 4.48001683, 4.81796329, 3.85654088, 4.10949441])"
            ]
          },
          "metadata": {},
          "execution_count": 58
        }
      ]
    },
    {
      "cell_type": "code",
      "metadata": {
        "colab": {
          "base_uri": "https://localhost:8080/"
        },
        "id": "-fTsen1U-ls6",
        "outputId": "eecdae53-adc3-4019-9030-28848856fab9"
      },
      "source": [
        "inv_boxcox(boxcox_medv, lam)[:10]"
      ],
      "execution_count": 40,
      "outputs": [
        {
          "output_type": "execute_result",
          "data": {
            "text/plain": [
              "array([24. , 21.6, 34.7, 33.4, 36.2, 28.7, 22.9, 27.1, 16.5, 18.9])"
            ]
          },
          "metadata": {},
          "execution_count": 40
        }
      ]
    },
    {
      "cell_type": "code",
      "metadata": {
        "colab": {
          "base_uri": "https://localhost:8080/"
        },
        "id": "N0BZ3Be--ls6",
        "outputId": "d066c5df-a7f8-47e6-e805-32b1e3081b79"
      },
      "source": [
        "boston_data['MEDV'].values[:10]"
      ],
      "execution_count": 41,
      "outputs": [
        {
          "output_type": "execute_result",
          "data": {
            "text/plain": [
              "array([24. , 21.6, 34.7, 33.4, 36.2, 28.7, 22.9, 27.1, 16.5, 18.9])"
            ]
          },
          "metadata": {},
          "execution_count": 41
        }
      ]
    },
    {
      "cell_type": "markdown",
      "metadata": {
        "id": "KtcJmBwo-ls6"
      },
      "source": [
        "Exactly the same, as we would hope!"
      ]
    },
    {
      "cell_type": "markdown",
      "metadata": {
        "id": "WeRb3oQi-ls6"
      },
      "source": [
        "### Exercise:\n",
        "\n",
        "1. Apply the appropriate inverse transformation to `y_pred_bc`.\n",
        "2. Calculate the $R^2$ using the result of this inverse transformation and `y_test`.  \n",
        "\n",
        "**Hint:** Should be two lines of code."
      ]
    },
    {
      "cell_type": "code",
      "metadata": {
        "colab": {
          "base_uri": "https://localhost:8080/"
        },
        "id": "yxQLL4X7-ls6",
        "outputId": "782f8acf-5481-449d-add5-9768f6565ee7"
      },
      "source": [
        "# Instructor Solution\n",
        "y_pred_tran = inv_boxcox(y_pred_bc,lam2)\n",
        "r2_score(y_pred_tran,y_test)"
      ],
      "execution_count": 59,
      "outputs": [
        {
          "output_type": "execute_result",
          "data": {
            "text/plain": [
              "0.8794001851338568"
            ]
          },
          "metadata": {},
          "execution_count": 59
        }
      ]
    },
    {
      "cell_type": "markdown",
      "metadata": {
        "id": "R9XZvN3b-ls6"
      },
      "source": [
        "## LAB Exercise: \n",
        "\n",
        "### Determine the R^2 of a LinearRegression without the box cox transformation. Is it higher or lower?"
      ]
    },
    {
      "cell_type": "code",
      "metadata": {
        "colab": {
          "base_uri": "https://localhost:8080/"
        },
        "id": "i4NpKoh2-ls7",
        "outputId": "8a32ba8b-e48d-4bbd-b801-2cb902288cb1"
      },
      "source": [
        "### BEGIN SOLUTION\n",
        "lr = LinearRegression()\n",
        "lr.fit(X_train_s,y_train)\n",
        "lr_pred = lr.predict(X_test_s)\n",
        "r2_score(lr_pred,y_test)\n",
        "### END SOLUTION"
      ],
      "execution_count": 60,
      "outputs": [
        {
          "output_type": "execute_result",
          "data": {
            "text/plain": [
              "0.8555202098064171"
            ]
          },
          "metadata": {},
          "execution_count": 60
        }
      ]
    },
    {
      "cell_type": "markdown",
      "metadata": {
        "id": "tO7IUNOl-ls7"
      },
      "source": [
        "---\n",
        "### Machine Learning Foundation (C) 2020 IBM Corporation"
      ]
    }
  ]
}