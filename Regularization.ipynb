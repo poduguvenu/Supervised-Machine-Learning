{
  "nbformat": 4,
  "nbformat_minor": 0,
  "metadata": {
    "kernelspec": {
      "display_name": "Python 3",
      "language": "python",
      "name": "python3"
    },
    "language_info": {
      "codemirror_mode": {
        "name": "ipython",
        "version": 3
      },
      "file_extension": ".py",
      "mimetype": "text/x-python",
      "name": "python",
      "nbconvert_exporter": "python",
      "pygments_lexer": "ipython3",
      "version": "3.7.6"
    },
    "colab": {
      "name": "Regularization.ipynb",
      "provenance": [],
      "include_colab_link": true
    }
  },
  "cells": [
    {
      "cell_type": "markdown",
      "metadata": {
        "id": "view-in-github",
        "colab_type": "text"
      },
      "source": [
        "<a href=\"https://colab.research.google.com/github/poduguvenu/Supervised-Machine-Learning/blob/main/Regularization.ipynb\" target=\"_parent\"><img src=\"https://colab.research.google.com/assets/colab-badge.svg\" alt=\"Open In Colab\"/></a>"
      ]
    },
    {
      "cell_type": "markdown",
      "metadata": {
        "id": "hyZrNO16ggmC"
      },
      "source": [
        "# Machine Learning Foundation\n",
        "\n",
        "## Regularization LAB "
      ]
    },
    {
      "cell_type": "markdown",
      "metadata": {
        "id": "d1_XEJHJggmD"
      },
      "source": [
        "## Learning objectives\n",
        "\n",
        "By the end of this lesson, you will be able to:\n",
        "\n",
        "* Implement data standardization\n",
        "* Implement variants of regularized regression\n",
        "* Combine data standardization with the train-test split procedure\n",
        "* Implement regularization to prevent overfitting in regression problems"
      ]
    },
    {
      "cell_type": "code",
      "metadata": {
        "id": "xSByPy5YggmE"
      },
      "source": [
        "import numpy as np\n",
        "import pandas as pd\n",
        "from helper import boston_dataframe\n",
        "\n",
        "np.set_printoptions(precision=3, suppress=True)"
      ],
      "execution_count": 2,
      "outputs": []
    },
    {
      "cell_type": "markdown",
      "metadata": {
        "id": "vHgwd0axggmF"
      },
      "source": [
        "### Loading in Boston Data"
      ]
    },
    {
      "cell_type": "markdown",
      "metadata": {
        "id": "hIeaIftRggmF"
      },
      "source": [
        "**Note:** See `helper.py` file to see how boston data is read in from SciKit Learn."
      ]
    },
    {
      "cell_type": "code",
      "metadata": {
        "id": "nWwY1xR6ggmG"
      },
      "source": [
        "boston = boston_dataframe(description=True)\n",
        "boston_data = boston[0]\n",
        "boston_description = boston[1]"
      ],
      "execution_count": 3,
      "outputs": []
    },
    {
      "cell_type": "markdown",
      "metadata": {
        "id": "eJpf1fbVggmH"
      },
      "source": [
        "## Data standardization"
      ]
    },
    {
      "cell_type": "markdown",
      "metadata": {
        "id": "nTThYLcaggmI"
      },
      "source": [
        "**Standardizing** data refers to transforming each variable so that it more closely follows a **standard** normal distribution, with mean 0 and standard deviation 1.\n",
        "\n",
        "The [`StandardScaler`](http://scikit-learn.org/dev/modules/generated/sklearn.preprocessing.StandardScaler.html#sklearn.preprocessing.StandardScaler) object in SciKit Learn can do this."
      ]
    },
    {
      "cell_type": "markdown",
      "metadata": {
        "id": "R5kZd2-dggmJ"
      },
      "source": [
        "**Generate X and y**:"
      ]
    },
    {
      "cell_type": "code",
      "metadata": {
        "id": "Uz1NK3cmggmJ"
      },
      "source": [
        "y_col = \"MEDV\"\n",
        "\n",
        "X = boston_data.drop(y_col, axis=1)\n",
        "y = boston_data[y_col]"
      ],
      "execution_count": 4,
      "outputs": []
    },
    {
      "cell_type": "markdown",
      "metadata": {
        "id": "8GKL7MZ6ggmK"
      },
      "source": [
        "**Import, fit, and transform using `StandardScaler`**"
      ]
    },
    {
      "cell_type": "code",
      "metadata": {
        "id": "Fql-Ba5wggmK"
      },
      "source": [
        "from sklearn.preprocessing import StandardScaler\n",
        "\n",
        "s = StandardScaler()\n",
        "X_ss = s.fit_transform(X)"
      ],
      "execution_count": 5,
      "outputs": []
    },
    {
      "cell_type": "markdown",
      "metadata": {
        "id": "kBtYJaHpggmK"
      },
      "source": [
        "### Exercise: \n",
        "\n",
        "Confirm standard scaling"
      ]
    },
    {
      "cell_type": "markdown",
      "metadata": {
        "id": "BooP8YumggmL"
      },
      "source": [
        "Hint:"
      ]
    },
    {
      "cell_type": "code",
      "metadata": {
        "colab": {
          "base_uri": "https://localhost:8080/"
        },
        "id": "FFl4cDG2ggmL",
        "outputId": "57304070-d514-4b93-f389-b315dee19fc2"
      },
      "source": [
        "a = np.array([[1, 2, 3], \n",
        "              [4, 5, 6]]) \n",
        "print(a) # 2 rows, 3 columns"
      ],
      "execution_count": 6,
      "outputs": [
        {
          "output_type": "stream",
          "name": "stdout",
          "text": [
            "[[1 2 3]\n",
            " [4 5 6]]\n"
          ]
        }
      ]
    },
    {
      "cell_type": "code",
      "metadata": {
        "colab": {
          "base_uri": "https://localhost:8080/"
        },
        "id": "tZISih4TggmM",
        "outputId": "da27387c-e65e-4d2c-ca19-5f00caa9262c"
      },
      "source": [
        "a.mean(axis=0) # mean along the *columns*"
      ],
      "execution_count": 7,
      "outputs": [
        {
          "output_type": "execute_result",
          "data": {
            "text/plain": [
              "array([2.5, 3.5, 4.5])"
            ]
          },
          "metadata": {},
          "execution_count": 7
        }
      ]
    },
    {
      "cell_type": "code",
      "metadata": {
        "colab": {
          "base_uri": "https://localhost:8080/"
        },
        "id": "Ni1glyBwggmM",
        "outputId": "ec6df962-cbec-4d76-f856-e9df24a4256a"
      },
      "source": [
        "a.mean(axis=1) # mean along the *rows*"
      ],
      "execution_count": 8,
      "outputs": [
        {
          "output_type": "execute_result",
          "data": {
            "text/plain": [
              "array([2., 5.])"
            ]
          },
          "metadata": {},
          "execution_count": 8
        }
      ]
    },
    {
      "cell_type": "code",
      "metadata": {
        "colab": {
          "base_uri": "https://localhost:8080/"
        },
        "id": "cfA_R09RggmN",
        "outputId": "c7c0815d-2fca-4a8e-de40-83d0c06e4dc4"
      },
      "source": [
        "### BEGIN SOLUTION\n",
        "X2 = np.array(X)\n",
        "man_transform = (X2-X2.mean(axis=0))/X2.std(axis=0)\n",
        "np.allclose(man_transform, X_ss)\n",
        "### END SOLUTION"
      ],
      "execution_count": 9,
      "outputs": [
        {
          "output_type": "execute_result",
          "data": {
            "text/plain": [
              "True"
            ]
          },
          "metadata": {},
          "execution_count": 9
        }
      ]
    },
    {
      "cell_type": "markdown",
      "metadata": {
        "id": "6FpG-lLSggmN"
      },
      "source": [
        "### Coefficients with and without scaling"
      ]
    },
    {
      "cell_type": "code",
      "metadata": {
        "id": "VB1OmWVwggmN"
      },
      "source": [
        "from sklearn.linear_model import LinearRegression"
      ],
      "execution_count": 10,
      "outputs": []
    },
    {
      "cell_type": "code",
      "metadata": {
        "id": "9F1vvg8dggmO"
      },
      "source": [
        "lr = LinearRegression()\n",
        "\n",
        "y_col = \"MEDV\"\n",
        "\n",
        "X = boston_data.drop(y_col, axis=1)\n",
        "y = boston_data[y_col]"
      ],
      "execution_count": 11,
      "outputs": []
    },
    {
      "cell_type": "code",
      "metadata": {
        "colab": {
          "base_uri": "https://localhost:8080/"
        },
        "id": "J3toMOZoggmO",
        "outputId": "4ceb7895-b7c8-48ea-b2f4-42f622e57135"
      },
      "source": [
        "lr.fit(X, y)\n",
        "print(lr.coef_) # min = -18"
      ],
      "execution_count": 12,
      "outputs": [
        {
          "output_type": "stream",
          "name": "stdout",
          "text": [
            "[ -0.108   0.046   0.021   2.687 -17.767   3.81    0.001  -1.476   0.306\n",
            "  -0.012  -0.953   0.009  -0.525]\n"
          ]
        }
      ]
    },
    {
      "cell_type": "markdown",
      "metadata": {
        "id": "17TKgkQNggmO"
      },
      "source": [
        "#### Discussion (together): \n",
        "\n",
        "The coefficients are on widely different scales. Is this \"bad\"?"
      ]
    },
    {
      "cell_type": "code",
      "metadata": {
        "id": "DClrpv7VggmO"
      },
      "source": [
        "from sklearn.preprocessing import StandardScaler"
      ],
      "execution_count": 13,
      "outputs": []
    },
    {
      "cell_type": "code",
      "metadata": {
        "id": "FDlhG4YXggmP"
      },
      "source": [
        "s = StandardScaler()\n",
        "X_ss = s.fit_transform(X)"
      ],
      "execution_count": 14,
      "outputs": []
    },
    {
      "cell_type": "code",
      "metadata": {
        "colab": {
          "base_uri": "https://localhost:8080/"
        },
        "id": "Td7Xk6hBggmP",
        "outputId": "f0dbb3ce-c61c-4d4a-aa68-fb1f7ae1cfdc"
      },
      "source": [
        "lr2 = LinearRegression()\n",
        "lr2.fit(X_ss, y)\n",
        "print(lr2.coef_) # coefficients now \"on the same scale\""
      ],
      "execution_count": 15,
      "outputs": [
        {
          "output_type": "stream",
          "name": "stdout",
          "text": [
            "[-0.928  1.082  0.141  0.682 -2.057  2.674  0.019 -3.104  2.662 -2.077\n",
            " -2.061  0.849 -3.744]\n"
          ]
        }
      ]
    },
    {
      "cell_type": "markdown",
      "metadata": {
        "id": "-L_rZeC0ggmP"
      },
      "source": [
        "### Exercise: \n",
        "\n",
        "Based on these results, what is the most \"impactful\" feature (this is intended to be slightly ambiguous)? \"In what direction\" does it affect \"y\"?\n",
        "\n",
        "**Hint:** Recall from last week that we can \"zip up\" the names of the features of a DataFrame `df` with a model `model` fitted on that DataFrame using:\n",
        "\n",
        "```python\n",
        "dict(zip(df.columns.values, model.coef_))\n",
        "```"
      ]
    },
    {
      "cell_type": "code",
      "metadata": {
        "colab": {
          "base_uri": "https://localhost:8080/",
          "height": 441
        },
        "id": "POvX27ahggmQ",
        "outputId": "e8b3cd7a-a817-4833-80c3-870fa96f4423"
      },
      "source": [
        "### BEGIN SOLUTION\n",
        "pd.DataFrame(zip(X.columns, lr2.coef_)).sort_values(by=1)\n",
        "### END SOLUTION"
      ],
      "execution_count": 16,
      "outputs": [
        {
          "output_type": "execute_result",
          "data": {
            "text/html": [
              "<div>\n",
              "<style scoped>\n",
              "    .dataframe tbody tr th:only-of-type {\n",
              "        vertical-align: middle;\n",
              "    }\n",
              "\n",
              "    .dataframe tbody tr th {\n",
              "        vertical-align: top;\n",
              "    }\n",
              "\n",
              "    .dataframe thead th {\n",
              "        text-align: right;\n",
              "    }\n",
              "</style>\n",
              "<table border=\"1\" class=\"dataframe\">\n",
              "  <thead>\n",
              "    <tr style=\"text-align: right;\">\n",
              "      <th></th>\n",
              "      <th>0</th>\n",
              "      <th>1</th>\n",
              "    </tr>\n",
              "  </thead>\n",
              "  <tbody>\n",
              "    <tr>\n",
              "      <th>12</th>\n",
              "      <td>LSTAT</td>\n",
              "      <td>-3.743627</td>\n",
              "    </tr>\n",
              "    <tr>\n",
              "      <th>7</th>\n",
              "      <td>DIS</td>\n",
              "      <td>-3.104044</td>\n",
              "    </tr>\n",
              "    <tr>\n",
              "      <th>9</th>\n",
              "      <td>TAX</td>\n",
              "      <td>-2.076782</td>\n",
              "    </tr>\n",
              "    <tr>\n",
              "      <th>10</th>\n",
              "      <td>PTRATIO</td>\n",
              "      <td>-2.060607</td>\n",
              "    </tr>\n",
              "    <tr>\n",
              "      <th>4</th>\n",
              "      <td>NOX</td>\n",
              "      <td>-2.056718</td>\n",
              "    </tr>\n",
              "    <tr>\n",
              "      <th>0</th>\n",
              "      <td>CRIM</td>\n",
              "      <td>-0.928146</td>\n",
              "    </tr>\n",
              "    <tr>\n",
              "      <th>6</th>\n",
              "      <td>AGE</td>\n",
              "      <td>0.019466</td>\n",
              "    </tr>\n",
              "    <tr>\n",
              "      <th>2</th>\n",
              "      <td>INDUS</td>\n",
              "      <td>0.140900</td>\n",
              "    </tr>\n",
              "    <tr>\n",
              "      <th>3</th>\n",
              "      <td>CHAS</td>\n",
              "      <td>0.681740</td>\n",
              "    </tr>\n",
              "    <tr>\n",
              "      <th>11</th>\n",
              "      <td>B</td>\n",
              "      <td>0.849268</td>\n",
              "    </tr>\n",
              "    <tr>\n",
              "      <th>1</th>\n",
              "      <td>ZN</td>\n",
              "      <td>1.081569</td>\n",
              "    </tr>\n",
              "    <tr>\n",
              "      <th>8</th>\n",
              "      <td>RAD</td>\n",
              "      <td>2.662218</td>\n",
              "    </tr>\n",
              "    <tr>\n",
              "      <th>5</th>\n",
              "      <td>RM</td>\n",
              "      <td>2.674230</td>\n",
              "    </tr>\n",
              "  </tbody>\n",
              "</table>\n",
              "</div>"
            ],
            "text/plain": [
              "          0         1\n",
              "12    LSTAT -3.743627\n",
              "7       DIS -3.104044\n",
              "9       TAX -2.076782\n",
              "10  PTRATIO -2.060607\n",
              "4       NOX -2.056718\n",
              "0      CRIM -0.928146\n",
              "6       AGE  0.019466\n",
              "2     INDUS  0.140900\n",
              "3      CHAS  0.681740\n",
              "11        B  0.849268\n",
              "1        ZN  1.081569\n",
              "8       RAD  2.662218\n",
              "5        RM  2.674230"
            ]
          },
          "metadata": {},
          "execution_count": 16
        }
      ]
    },
    {
      "cell_type": "markdown",
      "metadata": {
        "id": "heJsjm0RggmQ"
      },
      "source": [
        "Looking just at the strength of the standardized coefficients LSTAT, DIS, RM and RAD are all the 'most impactful'. Sklearn does not have built in statistical signifigance of each of these variables which would aid in making this claim stronger/weaker"
      ]
    },
    {
      "cell_type": "markdown",
      "metadata": {
        "id": "Ylk8qYrwggmQ"
      },
      "source": [
        "### Lasso with and without scaling"
      ]
    },
    {
      "cell_type": "markdown",
      "metadata": {
        "id": "_nHECOixggmQ"
      },
      "source": [
        "We discussed Lasso in lecture. \n",
        "\n",
        "Let's review together:\n",
        "\n",
        "1. What is different about Lasso vs. regular Linear Regression?\n",
        "1. Is standardization more or less important with Lasso vs. Linear Regression? Why?"
      ]
    },
    {
      "cell_type": "code",
      "metadata": {
        "id": "yaXHYpXIggmR"
      },
      "source": [
        "from sklearn.linear_model import Lasso\n",
        "from sklearn.preprocessing import PolynomialFeatures"
      ],
      "execution_count": 17,
      "outputs": []
    },
    {
      "cell_type": "markdown",
      "metadata": {
        "id": "zsuz-KEfggmR"
      },
      "source": [
        "#### Create polynomial features"
      ]
    },
    {
      "cell_type": "markdown",
      "metadata": {
        "id": "FR42OO9AggmR"
      },
      "source": [
        "[`PolynomialFeatures`](http://scikit-learn.org/stable/modules/generated/sklearn.preprocessing.PolynomialFeatures.html)"
      ]
    },
    {
      "cell_type": "code",
      "metadata": {
        "id": "nI81GRLIggmS"
      },
      "source": [
        "pf = PolynomialFeatures(degree=2, include_bias=False,)\n",
        "X_pf = pf.fit_transform(X)"
      ],
      "execution_count": 18,
      "outputs": []
    },
    {
      "cell_type": "markdown",
      "metadata": {
        "id": "mNv6nBwgggmS"
      },
      "source": [
        "**Note:** We use `include_bias=False` since `Lasso` includes a bias by default."
      ]
    },
    {
      "cell_type": "code",
      "metadata": {
        "id": "GODi4_XvggmS"
      },
      "source": [
        "X_pf_ss = s.fit_transform(X_pf)"
      ],
      "execution_count": 19,
      "outputs": []
    },
    {
      "cell_type": "markdown",
      "metadata": {
        "id": "E5PMLUcvggmS"
      },
      "source": [
        "### Lasso"
      ]
    },
    {
      "cell_type": "markdown",
      "metadata": {
        "id": "hUcnsvSqggmS"
      },
      "source": [
        "[`Lasso` documentation](http://scikit-learn.org/stable/modules/generated/sklearn.linear_model.Lasso.html)"
      ]
    },
    {
      "cell_type": "code",
      "metadata": {
        "colab": {
          "base_uri": "https://localhost:8080/"
        },
        "id": "Kc_J-lb2ggmT",
        "outputId": "04f0f074-4060-490b-ce35-e13074505387"
      },
      "source": [
        "las = Lasso()\n",
        "las.fit(X_pf_ss, y)\n",
        "las.coef_ "
      ],
      "execution_count": 20,
      "outputs": [
        {
          "output_type": "execute_result",
          "data": {
            "text/plain": [
              "array([-0.   ,  0.   , -0.   ,  0.   , -0.   ,  0.   , -0.   , -0.   ,\n",
              "       -0.   , -0.   , -0.991,  0.   , -0.   , -0.   ,  0.   , -0.   ,\n",
              "        0.068, -0.   , -0.   , -0.   , -0.   , -0.   , -0.   , -0.   ,\n",
              "       -0.   , -0.   ,  0.   ,  0.   ,  0.   ,  0.   ,  0.   ,  0.   ,\n",
              "        0.   ,  0.   ,  0.   ,  0.   ,  0.   ,  0.   , -0.   ,  0.   ,\n",
              "       -0.   , -0.   , -0.   , -0.05 , -0.   , -0.   , -0.   , -0.   ,\n",
              "       -0.   ,  0.   ,  0.   ,  0.   ,  0.   ,  0.   ,  0.   ,  0.   ,\n",
              "        0.   ,  0.   ,  0.   , -0.   , -0.   , -0.   , -0.   , -0.   ,\n",
              "       -0.   , -0.   ,  0.   , -0.   ,  3.3  , -0.   , -0.   , -0.   ,\n",
              "       -0.   , -0.   ,  0.42 , -3.498, -0.   , -0.   , -0.   , -0.   ,\n",
              "       -0.   ,  0.   , -0.   , -0.   , -0.   , -0.146, -0.   , -0.   ,\n",
              "       -0.   , -0.   , -0.   , -0.   , -0.   , -0.   , -0.   , -0.   ,\n",
              "       -0.   , -0.   , -0.   ,  0.   , -0.   ,  0.   , -0.   , -0.   ])"
            ]
          },
          "metadata": {},
          "execution_count": 20
        }
      ]
    },
    {
      "cell_type": "markdown",
      "metadata": {
        "id": "RJLue2YVggmT"
      },
      "source": [
        "### Exercise\n",
        "\n",
        "Compare \n",
        "\n",
        "* Sum of magnitudes of the coefficients\n",
        "* Number of coefficients that are zero\n",
        "\n",
        "for Lasso with alpha 0.1 vs. 1.\n",
        "\n",
        "Before doing the exercise, answer the following questions in one sentence each:\n",
        "\n",
        "* Which do you expect to have greater magnitude?\n",
        "* Which do you expect to have more zeros?"
      ]
    },
    {
      "cell_type": "code",
      "metadata": {
        "colab": {
          "base_uri": "https://localhost:8080/"
        },
        "id": "vYiasaQMj-3P",
        "outputId": "d3ebe054-d276-4c5d-fdef-2033fc467e2a"
      },
      "source": [
        "las01.coef_!=0"
      ],
      "execution_count": 23,
      "outputs": [
        {
          "output_type": "execute_result",
          "data": {
            "text/plain": [
              "array([False, False, False, False, False, False, False, False,  True,\n",
              "       False, False, False, False, False,  True, False,  True, False,\n",
              "        True, False, False, False, False, False,  True,  True,  True,\n",
              "        True,  True, False, False, False, False, False, False, False,\n",
              "       False, False,  True, False, False, False, False,  True, False,\n",
              "       False, False, False, False, False,  True, False, False, False,\n",
              "       False, False, False, False, False, False,  True, False,  True,\n",
              "       False, False, False, False, False,  True, False, False, False,\n",
              "       False,  True, False,  True, False, False, False, False, False,\n",
              "       False, False, False, False,  True, False, False,  True, False,\n",
              "       False, False,  True,  True, False, False, False,  True, False,\n",
              "       False, False, False, False,  True])"
            ]
          },
          "metadata": {},
          "execution_count": 23
        }
      ]
    },
    {
      "cell_type": "code",
      "metadata": {
        "colab": {
          "base_uri": "https://localhost:8080/"
        },
        "id": "49z0nPgbggmT",
        "outputId": "5fca0351-c0fc-4d45-deb1-e1ecc048db6f"
      },
      "source": [
        "### BEGIN SOLUTION\n",
        "las01 = Lasso(alpha = 0.1)\n",
        "las01.fit(X_pf_ss, y)\n",
        "print('sum of coefficients:', abs(las01.coef_).sum() )\n",
        "print('number of coefficients not equal to 0:', (las01.coef_!=0).sum())"
      ],
      "execution_count": 21,
      "outputs": [
        {
          "output_type": "stream",
          "name": "stdout",
          "text": [
            "sum of coefficients: 26.138682362877965\n",
            "number of coefficients not equal to 0: 23\n"
          ]
        }
      ]
    },
    {
      "cell_type": "code",
      "metadata": {
        "colab": {
          "base_uri": "https://localhost:8080/"
        },
        "id": "ptWueEkmggmT",
        "outputId": "3484b662-caa1-4254-ba16-b471020e25c3"
      },
      "source": [
        "las1 = Lasso(alpha = 1)\n",
        "las1.fit(X_pf_ss, y)\n",
        "print('sum of coefficients:',abs(las1.coef_).sum() )\n",
        "print('number of coefficients not equal to 0:',(las1.coef_!=0).sum())\n",
        "### END SOLUTION"
      ],
      "execution_count": 22,
      "outputs": [
        {
          "output_type": "stream",
          "name": "stdout",
          "text": [
            "sum of coefficients: 8.47240504455307\n",
            "number of coefficients not equal to 0: 7\n"
          ]
        }
      ]
    },
    {
      "cell_type": "markdown",
      "metadata": {
        "id": "9SGGwUfhggmT"
      },
      "source": [
        "With more regularization (higher alpha) we will expect the penalty for higher weights to be greater and thus the coefficients to be pushed down. Thus a higher alpha means lower magnitude with more coefficients pushed down to 0."
      ]
    },
    {
      "cell_type": "markdown",
      "metadata": {
        "id": "9L1HUDYsggmT"
      },
      "source": [
        "### Exercise: $R^2$"
      ]
    },
    {
      "cell_type": "markdown",
      "metadata": {
        "id": "edUtnosaggmT"
      },
      "source": [
        "Calculate the $R^2$ of each model without train/test split.\n",
        "\n",
        "Recall that we import $R^2$ using:\n",
        "\n",
        "```python\n",
        "from sklearn.metrics import r2_score\n",
        "```"
      ]
    },
    {
      "cell_type": "code",
      "metadata": {
        "colab": {
          "base_uri": "https://localhost:8080/"
        },
        "id": "pjzed1jgggmU",
        "outputId": "4b33bc55-7653-4360-faa8-298536af7444"
      },
      "source": [
        "### BEGIN SOLUTION\n",
        "from sklearn.metrics import r2_score\n",
        "r2_score(y,las.predict(X_pf_ss))\n",
        "### END SOLUTION"
      ],
      "execution_count": 24,
      "outputs": [
        {
          "output_type": "execute_result",
          "data": {
            "text/plain": [
              "0.7207000417838496"
            ]
          },
          "metadata": {},
          "execution_count": 24
        }
      ]
    },
    {
      "cell_type": "markdown",
      "metadata": {
        "id": "sa4YqKsvggmU"
      },
      "source": [
        "#### Discuss:\n",
        "\n",
        "Will regularization ever increase model performance if we evaluate on the same dataset that we trained on?"
      ]
    },
    {
      "cell_type": "markdown",
      "metadata": {
        "id": "aY1Rp3L1ggmU"
      },
      "source": [
        "## With train/test split"
      ]
    },
    {
      "cell_type": "markdown",
      "metadata": {
        "id": "IqXZcXgbggmU"
      },
      "source": [
        "#### Discuss\n",
        "\n",
        "Are there any issues with what we've done so far?\n",
        "\n",
        "**Hint:** Think about the way we have done feature scaling.\n",
        "\n",
        "Discuss in groups of two or three."
      ]
    },
    {
      "cell_type": "code",
      "metadata": {
        "id": "hMguZvSIggmU"
      },
      "source": [
        "from sklearn.model_selection import train_test_split"
      ],
      "execution_count": 25,
      "outputs": []
    },
    {
      "cell_type": "code",
      "metadata": {
        "id": "UPPEF-wVggmU"
      },
      "source": [
        "X_train, X_test, y_train, y_test = train_test_split(X_pf, y, test_size=0.3, \n",
        "                                                    random_state=72018)"
      ],
      "execution_count": 26,
      "outputs": []
    },
    {
      "cell_type": "code",
      "metadata": {
        "colab": {
          "base_uri": "https://localhost:8080/"
        },
        "id": "L4VPFflGggmU",
        "outputId": "87d24d55-96cc-4d63-9707-6c221940767d"
      },
      "source": [
        "X_train_s = s.fit_transform(X_train)\n",
        "las.fit(X_train_s, y_train)\n",
        "X_test_s = s.transform(X_test)\n",
        "y_pred = las.predict(X_test_s)\n",
        "r2_score(y_pred, y_test)"
      ],
      "execution_count": 27,
      "outputs": [
        {
          "output_type": "execute_result",
          "data": {
            "text/plain": [
              "0.33177406838134416"
            ]
          },
          "metadata": {},
          "execution_count": 27
        }
      ]
    },
    {
      "cell_type": "code",
      "metadata": {
        "colab": {
          "base_uri": "https://localhost:8080/"
        },
        "id": "Vfm7nJpRggmV",
        "outputId": "23deee65-344a-49bc-cc09-a2e38f8a42fd"
      },
      "source": [
        "X_train_s = s.fit_transform(X_train)\n",
        "las01.fit(X_train_s, y_train)\n",
        "X_test_s = s.transform(X_test)\n",
        "y_pred = las01.predict(X_test_s)\n",
        "r2_score(y_pred, y_test)"
      ],
      "execution_count": 28,
      "outputs": [
        {
          "output_type": "execute_result",
          "data": {
            "text/plain": [
              "0.7102444090776476"
            ]
          },
          "metadata": {},
          "execution_count": 28
        }
      ]
    },
    {
      "cell_type": "markdown",
      "metadata": {
        "id": "zlxNl7ToggmV"
      },
      "source": [
        "### Exercise\n",
        "\n",
        "\n",
        "#### Part 1:\n",
        "\n",
        "Do the same thing with Lasso of:\n",
        "\n",
        "* `alpha` of 0.001\n",
        "* Increase `max_iter` to 100000 to ensure convergence. \n",
        "\n",
        "Calculate the $R^2$ of the model.\n",
        "\n",
        "Feel free to copy-paste code from above, but write a one sentence comment above each line of code explaining why you're doing what you're doing.\n",
        "\n",
        "#### Part 2:\n",
        "\n",
        "Do the same procedure as before, but with Linear Regression.\n",
        "\n",
        "Calculate the $R^2$ of this model.\n",
        "\n",
        "#### Part 3: \n",
        "\n",
        "Compare the sums of the absolute values of the coefficients for both models, as well as the number of coefficients that are zero. Based on these measures, which model is a \"simpler\" description of the relationship between the features and the target?"
      ]
    },
    {
      "cell_type": "code",
      "metadata": {
        "colab": {
          "base_uri": "https://localhost:8080/"
        },
        "id": "ht3PPQ--ggmV",
        "outputId": "c4ebfd85-3f15-494a-b2bc-2f61ded4cfcf"
      },
      "source": [
        "### BEGIN SOLUTION\n",
        "\n",
        "# Part 1\n",
        "\n",
        "# Decreasing regularization and ensuring convergence\n",
        "las001 = Lasso(alpha = 0.001, max_iter=100000)\n",
        "\n",
        "# Transforming training set to get standardized units\n",
        "X_train_s = s.fit_transform(X_train)\n",
        "\n",
        "# Fitting model to training set\n",
        "las001.fit(X_train_s, y_train)\n",
        "\n",
        "# Transforming test set using the parameters defined from training set\n",
        "X_test_s = s.transform(X_test)\n",
        "\n",
        "# Finding prediction on test set\n",
        "y_pred = las001.predict(X_test_s)\n",
        "\n",
        "# Calculating r2 score\n",
        "print(\"r2 score for alpha = 0.001:\", r2_score(y_pred, y_test))\n",
        "\n",
        "\n",
        "# Part 2\n",
        "\n",
        "# Using vanilla Linear Regression\n",
        "lr = LinearRegression()\n",
        "\n",
        "# Fitting model to training set\n",
        "lr.fit(X_train_s, y_train)\n",
        "\n",
        "# predicting on test set\n",
        "y_pred_lr = lr.predict(X_test_s)\n",
        "\n",
        "# Calculating r2 score\n",
        "print(\"r2 score for Linear Regression:\", r2_score(y_pred_lr, y_test))\n",
        "\n",
        "\n",
        "# Part 3\n",
        "print('Magnitude of Lasso coefficients:', abs(las001.coef_).sum())\n",
        "print('Number of coeffients not equal to 0 for Lasso:', (las001.coef_!=0).sum())\n",
        "\n",
        "print('Magnitude of Linear Regression coefficients:', abs(lr.coef_).sum())\n",
        "print('Number of coeffients not equal to 0 for Linear Regression:', (lr.coef_!=0).sum())\n",
        "### END SOLUTION"
      ],
      "execution_count": 29,
      "outputs": [
        {
          "output_type": "stream",
          "name": "stdout",
          "text": [
            "r2 score for alpha = 0.001: 0.8686454101886707\n",
            "r2 score for Linear Regression: 0.8555202098064171\n",
            "Magnitude of Lasso coefficients: 436.26164263065647\n",
            "Number of coeffients not equal to 0 for Lasso: 89\n",
            "Magnitude of Linear Regression coefficients: 1185.285825446812\n",
            "Number of coeffients not equal to 0 for Linear Regression: 104\n"
          ]
        }
      ]
    },
    {
      "cell_type": "markdown",
      "metadata": {
        "id": "dUzHcjC9ggmV"
      },
      "source": [
        "## L1 vs. L2 Regularization"
      ]
    },
    {
      "cell_type": "markdown",
      "metadata": {
        "id": "OCZuE4UvggmW"
      },
      "source": [
        "As mentioned in the deck: `Lasso` and `Ridge` regression have the same syntax in SciKit Learn.\n",
        "\n",
        "Now we're going to compare the results from Ridge vs. Lasso regression:"
      ]
    },
    {
      "cell_type": "markdown",
      "metadata": {
        "id": "HvzMYOi9ggmW"
      },
      "source": [
        "[`Ridge`](http://scikit-learn.org/stable/modules/generated/sklearn.linear_model.Ridge.html)"
      ]
    },
    {
      "cell_type": "code",
      "metadata": {
        "id": "zRGvDXdxggmW"
      },
      "source": [
        "from sklearn.linear_model import Ridge"
      ],
      "execution_count": 30,
      "outputs": []
    },
    {
      "cell_type": "markdown",
      "metadata": {
        "id": "a9v08U_lggmW"
      },
      "source": [
        "### Exercise\n",
        "\n",
        "Following the Ridge documentation from above:\n",
        "\n",
        "1. Define a Ridge object `r` with the same `alpha` as `las001`.\n",
        "2. Fit that object on `X` and `y` and print out the resulting coefficients."
      ]
    },
    {
      "cell_type": "code",
      "metadata": {
        "colab": {
          "base_uri": "https://localhost:8080/"
        },
        "id": "ZB3BhzrIggmW",
        "outputId": "9c21700b-5adf-4658-f603-5965746db276"
      },
      "source": [
        "### BEGIN SOLUTION\n",
        "# Decreasing regularization and ensuring convergence\n",
        "r = Ridge(alpha = 0.001)\n",
        "X_train_s = s.fit_transform(X_train)\n",
        "r.fit(X_train_s, y_train)\n",
        "X_test_s = s.transform(X_test)\n",
        "y_pred_r = r.predict(X_test_s)\n",
        "\n",
        "# Calculating r2 score\n",
        "r.coef_\n",
        "### END SOLUTION"
      ],
      "execution_count": 31,
      "outputs": [
        {
          "output_type": "execute_result",
          "data": {
            "text/plain": [
              "array([  8.727,  10.354, -24.683,   5.299,  -3.13 ,  14.781,  22.301,\n",
              "       -23.483,  27.356,  -1.512,  16.949,  22.531,  11.444,   1.055,\n",
              "         0.437,  14.259,   1.83 ,  -8.737,   4.726,  -3.748,  -3.557,\n",
              "       -16.521,  -6.918,   6.064,  -1.363,   4.604,  -1.303,  -0.057,\n",
              "        -0.301, -12.828,   2.016,   1.084,  -0.655,  -1.092,   4.458,\n",
              "        -4.247,   4.156,  -1.282,   8.71 ,  -0.285,  -8.595,  11.595,\n",
              "         6.544,   1.271,   1.827,   1.007,   1.554,   5.173,  -4.685,\n",
              "         5.299,  -3.199,  -8.715,   0.983,   1.119,   0.284,  -1.683,\n",
              "        -2.884,   2.985,  -0.756,  12.297,   0.931,  -7.594,  18.292,\n",
              "       -22.124,  35.725, -21.894,  -7.789,   1.774,   4.101, -12.263,\n",
              "        -3.741,  -5.525, -16.111,  -5.706,  -4.666,  -9.884,   0.989,\n",
              "        -0.092,  17.145, -14.214,  -2.955,  -2.785,  -5.404,  11.825,\n",
              "         0.085,  -4.352,  -5.616,  -2.843,   0.826, -29.129,  49.636,\n",
              "       -21.571,  -1.263,  -8.811, -15.822,  11.975,  -1.023,   2.911,\n",
              "        -0.656,  -4.955,   2.817,  -2.463,  -2.381,   1.686])"
            ]
          },
          "metadata": {},
          "execution_count": 31
        }
      ]
    },
    {
      "cell_type": "code",
      "metadata": {
        "scrolled": true,
        "colab": {
          "base_uri": "https://localhost:8080/"
        },
        "id": "ILS8XolOggmW",
        "outputId": "0127931a-71a7-41d2-a26f-df122757a676"
      },
      "source": [
        "las001 # same alpha as Ridge above"
      ],
      "execution_count": 32,
      "outputs": [
        {
          "output_type": "execute_result",
          "data": {
            "text/plain": [
              "Lasso(alpha=0.001, copy_X=True, fit_intercept=True, max_iter=100000,\n",
              "      normalize=False, positive=False, precompute=False, random_state=None,\n",
              "      selection='cyclic', tol=0.0001, warm_start=False)"
            ]
          },
          "metadata": {},
          "execution_count": 32
        }
      ]
    },
    {
      "cell_type": "code",
      "metadata": {
        "colab": {
          "base_uri": "https://localhost:8080/"
        },
        "id": "KL4tas1SggmW",
        "outputId": "15d5bb66-7fc5-49f0-b7ff-5d755eeb92df"
      },
      "source": [
        "las001.coef_"
      ],
      "execution_count": 33,
      "outputs": [
        {
          "output_type": "execute_result",
          "data": {
            "text/plain": [
              "array([  0.   ,   0.   , -16.945,   2.562,   0.   ,  13.392,   9.907,\n",
              "       -19.96 ,   9.039,   0.   ,   6.138,  17.628,  11.446,   1.21 ,\n",
              "         0.226,  11.578,   2.197,  -7.397,   4.117,  -1.589,  -2.157,\n",
              "        -9.837,   0.   ,   0.   ,  -1.089,   3.793,   0.389,   0.2  ,\n",
              "        -0.297,  -3.352,   0.396,   0.719,  -0.756,  -0.753,   2.388,\n",
              "        -0.845,   2.524,  -0.973,   3.882,  -0.983,   6.609,   6.138,\n",
              "         4.201,   0.858,   1.96 ,   2.661,  -4.148,   2.937,  -4.556,\n",
              "         2.112,  -1.983,  -7.439,   1.607,   1.668,  -1.262,  -0.   ,\n",
              "        -0.   ,   2.622,  -0.861,   3.353,  -0.   ,  -2.451,   9.171,\n",
              "        -6.917,   0.   ,  -5.618,  -5.716,   0.521,   3.354,  -7.528,\n",
              "        -0.   ,  -6.646, -10.212,  -6.346,  -2.95 ,  -9.559,   0.327,\n",
              "         0.56 ,  11.006,  -6.666,  -1.158,  -2.25 ,  -3.53 ,   9.035,\n",
              "        -0.   ,  -2.316,  -2.   ,  -1.124,   0.804, -20.861,  27.166,\n",
              "         0.   ,  -1.51 ,  -6.745,  -5.098,  15.455,   0.   ,   0.   ,\n",
              "         0.629,  -3.959,   2.502,  -2.499,  -2.23 ,   2.201])"
            ]
          },
          "metadata": {},
          "execution_count": 33
        }
      ]
    },
    {
      "cell_type": "code",
      "metadata": {
        "colab": {
          "base_uri": "https://localhost:8080/"
        },
        "id": "TCZaxdUzggmW",
        "outputId": "5ff93288-9a1a-438f-9816-1b859e967f1b"
      },
      "source": [
        "print(np.sum(np.abs(r.coef_)))\n",
        "print(np.sum(np.abs(las001.coef_)))\n",
        "\n",
        "print(np.sum(r.coef_ != 0))\n",
        "print(np.sum(las001.coef_ != 0))"
      ],
      "execution_count": 34,
      "outputs": [
        {
          "output_type": "stream",
          "name": "stdout",
          "text": [
            "795.6521694295291\n",
            "436.26164263065647\n",
            "104\n",
            "89\n"
          ]
        }
      ]
    },
    {
      "cell_type": "markdown",
      "metadata": {
        "id": "mtH76sjGggmX"
      },
      "source": [
        "**Conclusion:** Ridge does not make any coefficients 0. In addition, on this particular dataset, Lasso provides stronger overall regularization than Ridge for this value of `alpha` (not necessarily true in general)."
      ]
    },
    {
      "cell_type": "code",
      "metadata": {
        "colab": {
          "base_uri": "https://localhost:8080/"
        },
        "id": "yQiGM94PggmX",
        "outputId": "6b0c5d95-6c47-4eaa-aad0-421d9d4c10b2"
      },
      "source": [
        "y_pred = r.predict(X_pf_ss)\n",
        "print(r2_score(y, y_pred))\n",
        "\n",
        "y_pred = las001.predict(X_pf_ss)\n",
        "print(r2_score(y, y_pred))"
      ],
      "execution_count": 35,
      "outputs": [
        {
          "output_type": "stream",
          "name": "stdout",
          "text": [
            "0.9075278340575085\n",
            "0.9102933722688235\n"
          ]
        }
      ]
    },
    {
      "cell_type": "markdown",
      "metadata": {
        "id": "IOKqxfNEggmX"
      },
      "source": [
        "**Conclusion**: Ignoring issues of overfitting, Ridge does slightly better than Lasso when `alpha` is set to 0.001 for each (not necessarily true in general)."
      ]
    },
    {
      "cell_type": "markdown",
      "metadata": {
        "id": "Do4N9H2hggmX"
      },
      "source": [
        "# Example: Does it matter when you scale?"
      ]
    },
    {
      "cell_type": "code",
      "metadata": {
        "id": "AvOdklBsggmX"
      },
      "source": [
        "X_train, X_test, y_train, y_test = train_test_split(X_ss, y, test_size=0.3, \n",
        "                                                    random_state=72018)"
      ],
      "execution_count": 36,
      "outputs": []
    },
    {
      "cell_type": "code",
      "metadata": {
        "colab": {
          "base_uri": "https://localhost:8080/"
        },
        "id": "Mf9bQYgcggmX",
        "outputId": "22e22431-a01c-4517-f098-9a9ca66e0088"
      },
      "source": [
        "lr = LinearRegression()\n",
        "lr.fit(X_train, y_train)\n",
        "y_pred = lr.predict(X_test)\n",
        "r2_score(y_pred, y_test)"
      ],
      "execution_count": 37,
      "outputs": [
        {
          "output_type": "execute_result",
          "data": {
            "text/plain": [
              "0.5832942094971806"
            ]
          },
          "metadata": {},
          "execution_count": 37
        }
      ]
    },
    {
      "cell_type": "code",
      "metadata": {
        "id": "0geOPqlDggmX"
      },
      "source": [
        "X_train, X_test, y_train, y_test = train_test_split(X, y, test_size=0.3, \n",
        "                                                    random_state=72018)"
      ],
      "execution_count": 38,
      "outputs": []
    },
    {
      "cell_type": "code",
      "metadata": {
        "colab": {
          "base_uri": "https://localhost:8080/"
        },
        "id": "ZdqfOX-BggmY",
        "outputId": "3b410934-3b1c-45cb-9db9-db548332b6e0"
      },
      "source": [
        "s = StandardScaler()\n",
        "lr_s = LinearRegression()\n",
        "X_train_s = s.fit_transform(X_train)\n",
        "lr_s.fit(X_train_s, y_train)\n",
        "X_test_s = s.transform(X_test)\n",
        "y_pred_s = lr_s.predict(X_test_s)\n",
        "r2_score(y_pred_s, y_test)"
      ],
      "execution_count": 39,
      "outputs": [
        {
          "output_type": "execute_result",
          "data": {
            "text/plain": [
              "0.5832942094971801"
            ]
          },
          "metadata": {},
          "execution_count": 39
        }
      ]
    },
    {
      "cell_type": "code",
      "metadata": {
        "id": "iqLB9oSFmt1Z"
      },
      "source": [
        "X_train, X_test, y_train, y_test = train_test_split(X_ss, y, test_size=0.3, \n",
        "                                                    random_state=72018)"
      ],
      "execution_count": 40,
      "outputs": []
    },
    {
      "cell_type": "code",
      "metadata": {
        "colab": {
          "base_uri": "https://localhost:8080/"
        },
        "id": "wEHigGwqmxp8",
        "outputId": "a16123e3-12cf-4c3b-82e4-358102224c62"
      },
      "source": [
        "lr = Lasso()\n",
        "lr.fit(X_train, y_train)\n",
        "y_pred = lr.predict(X_test)\n",
        "r2_score(y_pred, y_test)"
      ],
      "execution_count": 41,
      "outputs": [
        {
          "output_type": "execute_result",
          "data": {
            "text/plain": [
              "0.2067158380521159"
            ]
          },
          "metadata": {},
          "execution_count": 41
        }
      ]
    },
    {
      "cell_type": "code",
      "metadata": {
        "id": "ooxNJ4l3m1ZI"
      },
      "source": [
        "X_train, X_test, y_train, y_test = train_test_split(X, y, test_size=0.3, \n",
        "                                                    random_state=72018)"
      ],
      "execution_count": 42,
      "outputs": []
    },
    {
      "cell_type": "code",
      "metadata": {
        "colab": {
          "base_uri": "https://localhost:8080/"
        },
        "id": "h7SYwuRZm3WR",
        "outputId": "53a7eb99-f8c2-48a5-ed07-de1aa947bfc6"
      },
      "source": [
        "s = StandardScaler()\n",
        "lr_s = Lasso()\n",
        "X_train_s = s.fit_transform(X_train)\n",
        "lr_s.fit(X_train_s, y_train)\n",
        "X_test_s = s.transform(X_test)\n",
        "y_pred_s = lr_s.predict(X_test_s)\n",
        "r2_score(y_pred_s, y_test)"
      ],
      "execution_count": 43,
      "outputs": [
        {
          "output_type": "execute_result",
          "data": {
            "text/plain": [
              "0.20880736283132462"
            ]
          },
          "metadata": {},
          "execution_count": 43
        }
      ]
    },
    {
      "cell_type": "markdown",
      "metadata": {
        "id": "qSBID1GXggmY"
      },
      "source": [
        "**Conclusion:** It doesn't matter whether you scale before or afterwards, in terms of the raw predictions, for Linear Regression. However, it matters for other algorithms. Plus, as we'll see later, we can make scaling part of a `Pipeline`."
      ]
    },
    {
      "cell_type": "markdown",
      "metadata": {
        "id": "NqzaeaMGggmY"
      },
      "source": [
        "---\n",
        "### Machine Learning Foundation (C) 2020 IBM Corporation"
      ]
    }
  ]
}